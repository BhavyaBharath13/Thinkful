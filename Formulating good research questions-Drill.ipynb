{
 "cells": [
  {
   "cell_type": "markdown",
   "metadata": {},
   "source": [
    "**1. What is the 1994 rate of juvenile delinquency in the U.S.?** <br>\n",
    "Bad. Looks like this is something dated so might have already been worked on. So other way of questioning is might be predicting the future rate of juvenile deliquency provided we have the current rate. <br><br>\n",
    "\n",
    "**2. What can we do to reduce juvenile delinquency in the U.S.?** <br>\n",
    "Bad. The question is too vague. Collecting data would be very difficult for it. Better approach is to consider important factors like education, parent education, skill building that can help reduce the juvenile delinquents return to crime and further building models to predict the outcome. \n",
    "\n",
    "**3. Does education play a role in reducing juvenile delinquents' return to crime?** <br>\n",
    "Good.\n",
    "\n",
    "**4. How many customers does AT&T currently serve in Washington, DC?** <br>\n",
    "Good.\n",
    "\n",
    "**5. What factors lead consumers to choose AT&T over other service providers?** <br>\n",
    "Bad. This question is too vague. It can lead to complexities as there are many different service providers, so a better question would be to see what factors lead verizon consumers to choose AT&T. \n",
    "\n",
    "**6. How can AT&T attract more customers?** <br>\n",
    "Bad. This question is too broad. There are many ways to attract customers. It might depend on season, service etc. So better question would be how to increase the broadband sale for new speed or for new customers.\n",
    "\n",
    "**7. Why did the Challenger Shuttle explode?** <br>\n",
    "Bad. This is already worked on. Might be we can use this data to predict the works for future shuttles.\n",
    "\n",
    "**8. Which genes are associated with increased risk of breast cancer?** <br>\n",
    "Good, provided the data scientist has the right biological skills.\n",
    "\n",
    "**9. Is it better to read to children at night or in the morning?** <br>\n",
    "Bad, this is again a vague question. We can have many other questions like \"Does reading to children at night make them good at learning vocabulary in that language or not\", \"What are the sleep times of children who were read to in the morning vs night\", \"Were children who were read to in the morning remembered the story better that those who were read to at night?\"\n",
    "\n",
    "**10. How does Google’s search algorithm work?** <br>\n",
    "Bad. Too broad. Questions can be \"How does the google search ranking system work for the a given question\", \"What are the time taken for each of steps involved in searching a given question\".  "
   ]
  }
 ],
 "metadata": {
  "kernelspec": {
   "display_name": "Python 3",
   "language": "python",
   "name": "python3"
  },
  "language_info": {
   "codemirror_mode": {
    "name": "ipython",
    "version": 3
   },
   "file_extension": ".py",
   "mimetype": "text/x-python",
   "name": "python",
   "nbconvert_exporter": "python",
   "pygments_lexer": "ipython3",
   "version": "3.7.0"
  }
 },
 "nbformat": 4,
 "nbformat_minor": 2
}
