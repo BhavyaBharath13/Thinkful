{
  "nbformat": 4,
  "nbformat_minor": 0,
  "metadata": {
    "colab": {
      "name": "Challenge - What Test to use",
      "version": "0.3.2",
      "provenance": [],
      "collapsed_sections": []
    },
    "kernelspec": {
      "name": "python3",
      "display_name": "Python 3"
    }
  },
  "cells": [
    {
      "metadata": {
        "id": "lX-BSJEEf-cU",
        "colab_type": "code",
        "colab": {}
      },
      "cell_type": "code",
      "source": [
        "import pandas as pd\n",
        "import numpy as np\n",
        "import matplotlib.pyplot as plt\n",
        "import seaborn as sns\n",
        "%matplotlib inline\n",
        "from scipy.stats import ttest_ind, f_oneway, ttest_rel, shapiro\n",
        "from scipy.stats import kruskal, wilcoxon\n",
        "from statsmodels.stats.multicomp import pairwise_tukeyhsd"
      ],
      "execution_count": 0,
      "outputs": []
    },
    {
      "metadata": {
        "id": "b10us8VvgtP1",
        "colab_type": "text"
      },
      "cell_type": "markdown",
      "source": [
        "# 5.5.4 Challenge\n",
        "Using selected questions from the 2012 and 2014 editions of the European Social Survey, address the following questions. Keep track of your code and results in a Jupyter notebook or other source that you can share with your mentor. For each question, explain why you chose the approach you did.\n",
        "\n",
        "In this dataset, the same participants answered questions in 2012 and again 2014.\n",
        "\n",
        "1. Did people become less trusting from 2012 to 2014? Compute results for each country in the sample.\n",
        "2. Did people become happier from 2012 to 2014? Compute results for each country in the sample.\n",
        "3. Who reported watching more TV in 2012, men or women?\n",
        "4. Who was more likely to believe people were fair in 2012, people living with a partner or people living alone?\n",
        "5. Pick three or four of the countries in the sample and compare how often people met socially in 2014. Are there differences, and if so, which countries stand out?\n",
        "6. Pick three or four of the countries in the sample and compare how often people took part in social activities, relative to others their age, in 2014. Are there differences, and if so, which countries stand out?\n",
        "\n",
        "\n"
      ]
    },
    {
      "metadata": {
        "id": "90naS4kYggDq",
        "colab_type": "code",
        "outputId": "0e3a09c6-fd97-4882-ba06-dc1d0b27f13d",
        "colab": {
          "base_uri": "https://localhost:8080/",
          "height": 198
        }
      },
      "cell_type": "code",
      "source": [
        "ess_df = pd.read_csv(\"https://raw.githubusercontent.com/Thinkful-Ed/data-201-resources/master/ESS_practice_data/ESSdata_Thinkful.csv\")\n",
        "ess_df.head()"
      ],
      "execution_count": 2,
      "outputs": [
        {
          "output_type": "execute_result",
          "data": {
            "text/html": [
              "<div>\n",
              "<style scoped>\n",
              "    .dataframe tbody tr th:only-of-type {\n",
              "        vertical-align: middle;\n",
              "    }\n",
              "\n",
              "    .dataframe tbody tr th {\n",
              "        vertical-align: top;\n",
              "    }\n",
              "\n",
              "    .dataframe thead th {\n",
              "        text-align: right;\n",
              "    }\n",
              "</style>\n",
              "<table border=\"1\" class=\"dataframe\">\n",
              "  <thead>\n",
              "    <tr style=\"text-align: right;\">\n",
              "      <th></th>\n",
              "      <th>cntry</th>\n",
              "      <th>idno</th>\n",
              "      <th>year</th>\n",
              "      <th>tvtot</th>\n",
              "      <th>ppltrst</th>\n",
              "      <th>pplfair</th>\n",
              "      <th>pplhlp</th>\n",
              "      <th>happy</th>\n",
              "      <th>sclmeet</th>\n",
              "      <th>sclact</th>\n",
              "      <th>gndr</th>\n",
              "      <th>agea</th>\n",
              "      <th>partner</th>\n",
              "    </tr>\n",
              "  </thead>\n",
              "  <tbody>\n",
              "    <tr>\n",
              "      <th>0</th>\n",
              "      <td>CH</td>\n",
              "      <td>5.0</td>\n",
              "      <td>6</td>\n",
              "      <td>3.0</td>\n",
              "      <td>3.0</td>\n",
              "      <td>10.0</td>\n",
              "      <td>5.0</td>\n",
              "      <td>8.0</td>\n",
              "      <td>5.0</td>\n",
              "      <td>4.0</td>\n",
              "      <td>2.0</td>\n",
              "      <td>60.0</td>\n",
              "      <td>1.0</td>\n",
              "    </tr>\n",
              "    <tr>\n",
              "      <th>1</th>\n",
              "      <td>CH</td>\n",
              "      <td>25.0</td>\n",
              "      <td>6</td>\n",
              "      <td>6.0</td>\n",
              "      <td>5.0</td>\n",
              "      <td>7.0</td>\n",
              "      <td>5.0</td>\n",
              "      <td>9.0</td>\n",
              "      <td>3.0</td>\n",
              "      <td>2.0</td>\n",
              "      <td>2.0</td>\n",
              "      <td>59.0</td>\n",
              "      <td>1.0</td>\n",
              "    </tr>\n",
              "    <tr>\n",
              "      <th>2</th>\n",
              "      <td>CH</td>\n",
              "      <td>26.0</td>\n",
              "      <td>6</td>\n",
              "      <td>1.0</td>\n",
              "      <td>8.0</td>\n",
              "      <td>8.0</td>\n",
              "      <td>8.0</td>\n",
              "      <td>7.0</td>\n",
              "      <td>6.0</td>\n",
              "      <td>3.0</td>\n",
              "      <td>1.0</td>\n",
              "      <td>24.0</td>\n",
              "      <td>2.0</td>\n",
              "    </tr>\n",
              "    <tr>\n",
              "      <th>3</th>\n",
              "      <td>CH</td>\n",
              "      <td>28.0</td>\n",
              "      <td>6</td>\n",
              "      <td>4.0</td>\n",
              "      <td>6.0</td>\n",
              "      <td>6.0</td>\n",
              "      <td>7.0</td>\n",
              "      <td>10.0</td>\n",
              "      <td>6.0</td>\n",
              "      <td>2.0</td>\n",
              "      <td>2.0</td>\n",
              "      <td>64.0</td>\n",
              "      <td>1.0</td>\n",
              "    </tr>\n",
              "    <tr>\n",
              "      <th>4</th>\n",
              "      <td>CH</td>\n",
              "      <td>29.0</td>\n",
              "      <td>6</td>\n",
              "      <td>5.0</td>\n",
              "      <td>6.0</td>\n",
              "      <td>7.0</td>\n",
              "      <td>5.0</td>\n",
              "      <td>8.0</td>\n",
              "      <td>7.0</td>\n",
              "      <td>2.0</td>\n",
              "      <td>2.0</td>\n",
              "      <td>55.0</td>\n",
              "      <td>1.0</td>\n",
              "    </tr>\n",
              "  </tbody>\n",
              "</table>\n",
              "</div>"
            ],
            "text/plain": [
              "  cntry  idno  year  tvtot  ppltrst  pplfair  pplhlp  happy  sclmeet  sclact  \\\n",
              "0    CH   5.0     6    3.0      3.0     10.0     5.0    8.0      5.0     4.0   \n",
              "1    CH  25.0     6    6.0      5.0      7.0     5.0    9.0      3.0     2.0   \n",
              "2    CH  26.0     6    1.0      8.0      8.0     8.0    7.0      6.0     3.0   \n",
              "3    CH  28.0     6    4.0      6.0      6.0     7.0   10.0      6.0     2.0   \n",
              "4    CH  29.0     6    5.0      6.0      7.0     5.0    8.0      7.0     2.0   \n",
              "\n",
              "   gndr  agea  partner  \n",
              "0   2.0  60.0      1.0  \n",
              "1   2.0  59.0      1.0  \n",
              "2   1.0  24.0      2.0  \n",
              "3   2.0  64.0      1.0  \n",
              "4   2.0  55.0      1.0  "
            ]
          },
          "metadata": {
            "tags": []
          },
          "execution_count": 2
        }
      ]
    },
    {
      "metadata": {
        "id": "DoBU7eWahnos",
        "colab_type": "code",
        "outputId": "74a62bb6-ff17-4ebf-fa43-9fd37c0ad7a9",
        "colab": {
          "base_uri": "https://localhost:8080/",
          "height": 272
        }
      },
      "cell_type": "code",
      "source": [
        "ess_df.nunique()"
      ],
      "execution_count": 3,
      "outputs": [
        {
          "output_type": "execute_result",
          "data": {
            "text/plain": [
              "cntry         6\n",
              "idno       3086\n",
              "year          2\n",
              "tvtot         8\n",
              "ppltrst      11\n",
              "pplfair      11\n",
              "pplhlp       11\n",
              "happy        11\n",
              "sclmeet       7\n",
              "sclact        5\n",
              "gndr          2\n",
              "agea         83\n",
              "partner       2\n",
              "dtype: int64"
            ]
          },
          "metadata": {
            "tags": []
          },
          "execution_count": 3
        }
      ]
    },
    {
      "metadata": {
        "colab_type": "text",
        "id": "kNGaRXoch55m"
      },
      "cell_type": "markdown",
      "source": [
        "\n",
        "**1. Did people become less trusting from 2012 to 2014? Compute results for each country in the sample. **\n",
        "\n",
        "\n"
      ]
    },
    {
      "metadata": {
        "id": "sDVBUYYQhvtl",
        "colab_type": "code",
        "outputId": "99043d4f-262d-4027-84b0-f87f6dcf277c",
        "colab": {
          "base_uri": "https://localhost:8080/",
          "height": 806
        }
      },
      "cell_type": "code",
      "source": [
        "# Plotting histograms of trust vs country vs each year\n",
        "g = sns.FacetGrid(ess_df, row='year', col='cntry',  dropna=True, sharey=False)\n",
        "g = g.map(plt.hist, 'ppltrst', alpha=0.8, color='pink')\n",
        "#plt.title(\"People Trust Distribution\")\n",
        "plt.show()\n",
        "\n",
        "# Normality through Shapiro test\n",
        "cntrys = list(ess_df.cntry.unique())\n",
        "years = [6,7]\n",
        "print('Shapiro Tests for Normality')\n",
        "for cnt in cntrys:\n",
        "    # Isolating data from each country\n",
        "    ess_temp = ess_df[ess_df.cntry ==cnt].dropna()\n",
        "    for year in years:\n",
        "        # Printing Shapiro test results\n",
        "        print(cnt, year, shapiro(ess_temp[ess_temp.year ==year].ppltrst))\n",
        "    print()"
      ],
      "execution_count": 4,
      "outputs": [
        {
          "output_type": "display_data",
          "data": {
            "image/png": "[encoded data removed]",
            "text/plain": [
              "<Figure size 1296x432 with 12 Axes>"
            ]
          },
          "metadata": {
            "tags": []
          }
        },
        {
          "output_type": "stream",
          "text": [
            "Shapiro Tests for Normality\n",
            "CH 6 (0.9517108201980591, 9.511383786695374e-15)\n",
            "CH 7 (0.9547930955886841, 2.4654701498145852e-14)\n",
            "\n",
            "CZ 6 (0.9680074453353882, 3.6126571179018185e-10)\n",
            "CZ 7 (0.9715775847434998, 1.8777941424019673e-09)\n",
            "\n",
            "DE 6 (0.8929166197776794, 0.10693283379077911)\n",
            "DE 7 (0.9425466060638428, 0.4519253373146057)\n",
            "\n",
            "ES 6 (0.949491024017334, 1.6942651933374377e-19)\n",
            "ES 7 (0.9663601517677307, 1.5275811452092943e-15)\n",
            "\n",
            "NO 6 (0.9211018085479736, 8.881221102071063e-19)\n",
            "NO 7 (0.9292040467262268, 7.928973676032161e-18)\n",
            "\n",
            "SE 6 (0.9367397427558899, 1.2586250953636158e-18)\n",
            "SE 7 (0.9376322627067566, 1.3852298444033788e-18)\n",
            "\n"
          ],
          "name": "stdout"
        }
      ]
    },
    {
      "metadata": {
        "id": "2mhBAwttiohx",
        "colab_type": "code",
        "outputId": "e56eae6f-8d45-462d-f211-92d0fdb630ad",
        "colab": {
          "base_uri": "https://localhost:8080/",
          "height": 326
        }
      },
      "cell_type": "code",
      "source": [
        "# Wilcoxon Signed Rank Test due to non normality.\n",
        "print('Wilcoxon Signed-Rank Test')\n",
        "for cnt in cntrys:\n",
        "    # Isolating data from each country\n",
        "    ess_temp = ess_df[ess_df.cntry ==cnt]\n",
        "    # Printing Shapiro test results\n",
        "    print(cnt, wilcoxon(ess_temp[ess_temp.year == 6].ppltrst, \n",
        "                        y=ess_temp[ess_temp.year == 7].ppltrst))\n",
        "    print()"
      ],
      "execution_count": 5,
      "outputs": [
        {
          "output_type": "stream",
          "text": [
            "Wilcoxon Signed-Rank Test\n",
            "CH WilcoxonResult(statistic=106278.5, pvalue=0.4411286510952477)\n",
            "\n",
            "CZ WilcoxonResult(statistic=82837.0, pvalue=0.2931891426327379)\n",
            "\n",
            "DE WilcoxonResult(statistic=44.0, pvalue=0.9157134600899863)\n",
            "\n",
            "ES WilcoxonResult(statistic=243475.5, pvalue=0.005570829650439684)\n",
            "\n",
            "NO WilcoxonResult(statistic=85392.0, pvalue=0.6139175669970661)\n",
            "\n",
            "SE WilcoxonResult(statistic=130719.5, pvalue=0.028545290985536906)\n",
            "\n"
          ],
          "name": "stdout"
        },
        {
          "output_type": "stream",
          "text": [
            "/usr/local/lib/python3.6/dist-packages/scipy/stats/morestats.py:2391: RuntimeWarning: invalid value encountered in greater\n",
            "  r_plus = np.sum((d > 0) * r, axis=0)\n",
            "/usr/local/lib/python3.6/dist-packages/scipy/stats/morestats.py:2392: RuntimeWarning: invalid value encountered in less\n",
            "  r_minus = np.sum((d < 0) * r, axis=0)\n"
          ],
          "name": "stderr"
        }
      ]
    },
    {
      "metadata": {
        "id": "cXnhX1AvkB5b",
        "colab_type": "text"
      },
      "cell_type": "markdown",
      "source": [
        "Looks like there is significant change in trust for countries Spain and Sweden\n",
        "\n",
        "\n",
        "\n",
        "<br>\n",
        "<br>\n",
        "\n",
        "\n",
        "\n",
        "\n",
        "**2. Did people become happier from 2012 to 2014? Compute results for each country in the sample.**"
      ]
    },
    {
      "metadata": {
        "id": "3TRJlN3sjyRw",
        "colab_type": "code",
        "outputId": "d526e81f-fdf9-425c-b5c7-4771bc6fbbe6",
        "colab": {
          "base_uri": "https://localhost:8080/",
          "height": 806
        }
      },
      "cell_type": "code",
      "source": [
        "# Plotting histograms of happy vs country vs each year\n",
        "g = sns.FacetGrid(ess_df, row='year', col='cntry',  dropna=True, sharey=False)\n",
        "g = g.map(plt.hist, 'happy', alpha=0.8)\n",
        "#plt.title(\"People Happy Distribution\")\n",
        "plt.show()\n",
        "\n",
        "# Normality through Shapiro test\n",
        "cntrys = list(ess_df.cntry.unique())\n",
        "years = [6,7]\n",
        "print('Shapiro Tests for Normality')\n",
        "for cnt in cntrys:\n",
        "    # Isolating data from each country\n",
        "    ess_temp = ess_df[ess_df.cntry ==cnt].dropna()\n",
        "    for year in years:\n",
        "        # Printing Shapiro test results\n",
        "        print(cnt, year, shapiro(ess_temp[ess_temp.year ==year].happy))\n",
        "    print()"
      ],
      "execution_count": 6,
      "outputs": [
        {
          "output_type": "display_data",
          "data": {
            "image/png": "[encoded data removed]",
            "text/plain": [
              "<Figure size 1296x432 with 12 Axes>"
            ]
          },
          "metadata": {
            "tags": []
          }
        },
        {
          "output_type": "stream",
          "text": [
            "Shapiro Tests for Normality\n",
            "CH 6 (0.8773602843284607, 1.4611401593361174e-23)\n",
            "CH 7 (0.8950787782669067, 4.273768685964887e-22)\n",
            "\n",
            "CZ 6 (0.9462587833404541, 5.939277796787254e-14)\n",
            "CZ 7 (0.9448645710945129, 3.1643033327052525e-14)\n",
            "\n",
            "DE 6 (0.9160983562469482, 0.22210942208766937)\n",
            "DE 7 (0.9213663339614868, 0.23006466031074524)\n",
            "\n",
            "ES 6 (0.9052610397338867, 3.4151276945678624e-26)\n",
            "ES 7 (0.9136462211608887, 6.898763644671094e-25)\n",
            "\n",
            "NO 6 (0.8498518466949463, 2.291937245544563e-25)\n",
            "NO 7 (0.8795287609100342, 4.6808705797415216e-23)\n",
            "\n",
            "SE 6 (0.9025380611419678, 5.918160728712866e-23)\n",
            "SE 7 (0.912103533744812, 5.600742285549146e-22)\n",
            "\n"
          ],
          "name": "stdout"
        }
      ]
    },
    {
      "metadata": {
        "id": "_o5_pSSmk3KI",
        "colab_type": "code",
        "outputId": "39618492-9b93-4f73-e43c-78d436c4bda7",
        "colab": {
          "base_uri": "https://localhost:8080/",
          "height": 326
        }
      },
      "cell_type": "code",
      "source": [
        "# Wilcoxon Signed Rank Test due to non normality.\n",
        "print('Wilcoxon Signed-Rank Test')\n",
        "for cnt in cntrys:\n",
        "    # Isolating data from each country\n",
        "    ess_temp = ess_df[ess_df.cntry ==cnt]\n",
        "    # Printing Shapiro test results\n",
        "    print(cnt, wilcoxon(ess_temp[ess_temp.year == 6].happy, \n",
        "                        y=ess_temp[ess_temp.year == 7].happy))\n",
        "    print()"
      ],
      "execution_count": 7,
      "outputs": [
        {
          "output_type": "stream",
          "text": [
            "Wilcoxon Signed-Rank Test\n",
            "CH WilcoxonResult(statistic=92816.5, pvalue=0.8208688161425343)\n",
            "\n",
            "CZ WilcoxonResult(statistic=73213.0, pvalue=0.01064243454053068)\n",
            "\n",
            "DE WilcoxonResult(statistic=23.5, pvalue=0.393351316918508)\n",
            "\n",
            "ES WilcoxonResult(statistic=231958.5, pvalue=0.04923868084306013)\n",
            "\n",
            "NO WilcoxonResult(statistic=67571.5, pvalue=2.7264367804254175e-06)\n",
            "\n",
            "SE WilcoxonResult(statistic=125481.0, pvalue=0.5136403441005022)\n",
            "\n"
          ],
          "name": "stdout"
        },
        {
          "output_type": "stream",
          "text": [
            "/usr/local/lib/python3.6/dist-packages/scipy/stats/morestats.py:2391: RuntimeWarning: invalid value encountered in greater\n",
            "  r_plus = np.sum((d > 0) * r, axis=0)\n",
            "/usr/local/lib/python3.6/dist-packages/scipy/stats/morestats.py:2392: RuntimeWarning: invalid value encountered in less\n",
            "  r_minus = np.sum((d < 0) * r, axis=0)\n"
          ],
          "name": "stderr"
        }
      ]
    },
    {
      "metadata": {
        "id": "ohlKkWIsl8z8",
        "colab_type": "text"
      },
      "cell_type": "markdown",
      "source": [
        "Countries  Norway, Czech Republic and Spain have significant difference in happiness trends. <br> <br>\n",
        "**3. Who reported watching more TV in 2012, men or women?**"
      ]
    },
    {
      "metadata": {
        "id": "pLby_z8fliWR",
        "colab_type": "code",
        "outputId": "2f24c793-2e89-4dbb-ef2c-73d98ccc4b1f",
        "colab": {
          "base_uri": "https://localhost:8080/",
          "height": 299
        }
      },
      "cell_type": "code",
      "source": [
        "ess_12 = ess_df[ess_df.year==6]\n",
        "\n",
        "# Plotting histograms of tv vs sex \n",
        "g = sns.FacetGrid(ess_12, col='gndr',  dropna=True, sharey=False)\n",
        "g = g.map(plt.hist, 'tvtot', alpha=0.8, color='green',bins=8)\n",
        "#plt.title(\"TV Sex Distribution\")\n",
        "plt.show()\n",
        "# Printing Shapiro test results\n",
        "print('Males :', shapiro(ess_12[ess_12.gndr ==1].tvtot.dropna()))\n",
        "print('Females :', shapiro(ess_12[ess_12.gndr ==2].tvtot.dropna()))\n",
        "print('No of Males: ',ess_12[ess_12.gndr == 1].tvtot.dropna().count())\n",
        "print('No of Females: ',ess_12[ess_12.gndr == 2].tvtot.dropna().count())"
      ],
      "execution_count": 8,
      "outputs": [
        {
          "output_type": "display_data",
          "data": {
            "image/png": "[encoded data removed]",
            "text/plain": [
              "<Figure size 432x216 with 2 Axes>"
            ]
          },
          "metadata": {
            "tags": []
          }
        },
        {
          "output_type": "stream",
          "text": [
            "Males : (0.9434293508529663, 5.994494507539187e-28)\n",
            "Females : (0.9390434622764587, 8.488309331265169e-29)\n",
            "No of Males:  2151\n",
            "No of Females:  2140\n"
          ],
          "name": "stdout"
        }
      ]
    },
    {
      "metadata": {
        "id": "3ESQN0VwnbsQ",
        "colab_type": "code",
        "outputId": "1d8f1024-d686-4403-acbb-950f3c870bd0",
        "colab": {
          "base_uri": "https://localhost:8080/",
          "height": 35
        }
      },
      "cell_type": "code",
      "source": [
        "# Printing Wilcoxon Test for TV watching across genders\n",
        "print('Wilcoxon Test:', wilcoxon(ess_12[ess_12.gndr == 1].tvtot.dropna()[:2140], \n",
        "                                 y=ess_12[ess_12.gndr == 2].tvtot.dropna()))"
      ],
      "execution_count": 9,
      "outputs": [
        {
          "output_type": "stream",
          "text": [
            "Wilcoxon Test: WilcoxonResult(statistic=782530.0, pvalue=0.5033507782372963)\n"
          ],
          "name": "stdout"
        }
      ]
    },
    {
      "metadata": {
        "id": "r0_O6ocgox3d",
        "colab_type": "text"
      },
      "cell_type": "markdown",
      "source": [
        "So there is no significant difference between Male and Female tv watching for year 2012.\n",
        "<br><br>\n",
        "**4. Who was more likely to believe people were fair in 2012, people living with a partner or people living alone?**"
      ]
    },
    {
      "metadata": {
        "id": "dFzpb6dSoll3",
        "colab_type": "code",
        "outputId": "168ec80a-0982-4788-aac9-38aafcf69e11",
        "colab": {
          "base_uri": "https://localhost:8080/",
          "height": 299
        }
      },
      "cell_type": "code",
      "source": [
        "# Plotting histograms of fairness vs partner\n",
        "g = sns.FacetGrid(ess_12, col='partner',  dropna=True, sharey=False)\n",
        "g = g.map(plt.hist, 'pplfair', alpha=0.8, color='yellow')\n",
        "#plt.title(\"Fair Partner Distribution\")\n",
        "plt.show()\n",
        "# Printing Shapiro test results\n",
        "print('Partner :', shapiro(ess_12[ess_12.partner ==1].pplfair.dropna()))\n",
        "print('Alone :', shapiro(ess_12[ess_12.partner ==2].pplfair.dropna()))\n",
        "print('No of people with partner: ',ess_12[ess_12.partner == 1].pplfair.dropna().count())\n",
        "print('No of people alone: ',ess_12[ess_12.partner == 2].pplfair.dropna().count())"
      ],
      "execution_count": 11,
      "outputs": [
        {
          "output_type": "display_data",
          "data": {
            "image/png": "[encoded data removed]",
            "text/plain": [
              "<Figure size 432x216 with 2 Axes>"
            ]
          },
          "metadata": {
            "tags": []
          }
        },
        {
          "output_type": "stream",
          "text": [
            "Partner : (0.9410251975059509, 2.4778057341886867e-31)\n",
            "Alone : (0.9561690092086792, 1.4302870646482291e-21)\n",
            "No of people with partner:  2663\n",
            "No of people alone:  1608\n"
          ],
          "name": "stdout"
        }
      ]
    },
    {
      "metadata": {
        "id": "djuzBuPjqDMX",
        "colab_type": "code",
        "outputId": "6b522c5d-c009-435b-e69a-f4d36ed3b490",
        "colab": {
          "base_uri": "https://localhost:8080/",
          "height": 72
        }
      },
      "cell_type": "code",
      "source": [
        "# Printing Wilcoxon Test for fairness in relationship\n",
        "print('Wilcoxon Test:', wilcoxon(ess_12[ess_12.partner == 1].pplfair.dropna()[:1608], \n",
        "                                 y=ess_12[ess_12.partner == 2].pplfair.dropna()))\n",
        "\n",
        "print('Median Fairness for People living with Partners:', ess_12[ess_12.partner == 1].pplfair.median())\n",
        "print('Median Fairness for People living Alone:', ess_12[ess_12.partner == 2].pplfair.median())"
      ],
      "execution_count": 12,
      "outputs": [
        {
          "output_type": "stream",
          "text": [
            "Wilcoxon Test: WilcoxonResult(statistic=426739.0, pvalue=0.004340158276254172)\n",
            "Median Fairness for People living with Partners: 7.0\n",
            "Median Fairness for People living Alone: 6.0\n"
          ],
          "name": "stdout"
        }
      ]
    },
    {
      "metadata": {
        "id": "HZnWRgDlrf38",
        "colab_type": "text"
      },
      "cell_type": "markdown",
      "source": [
        "There is significant difference between fairness in people living with partners compared to people living alone for 2012\n",
        "<br><br>\n",
        "**5. Pick three or four of the countries in the sample and compare how often people met socially in 2014. Are there differences, and if so, which countries stand out?**"
      ]
    },
    {
      "metadata": {
        "id": "6My82o3ItFKV",
        "colab_type": "code",
        "colab": {
          "base_uri": "https://localhost:8080/",
          "height": 390
        },
        "outputId": "84ac6bd3-d785-4d2c-ae72-c8d4e6c7eea0"
      },
      "cell_type": "code",
      "source": [
        "ess_14 = ess_df[(ess_df.cntry.isin (['NO','ES','CZ','SE'])) & (ess_df.year==7)]\n",
        "\n",
        "# Plotting histograms of tv vs sex \n",
        "g = sns.FacetGrid(ess_14, col='cntry',  dropna=True, sharey=False)\n",
        "g = g.map(plt.hist, 'sclmeet', alpha=0.8, color='purple',bins=3)\n",
        "#plt.title(\"Social meeting Distribution\")\n",
        "plt.show()\n",
        "# Printing Shapiro test results\n",
        "cntrys = list(ess_14.cntry.unique())\n",
        "print('Shapiro Tests for Normality')\n",
        "for cnt in cntrys:\n",
        "    # Isolating data from each country\n",
        "    print(cnt, shapiro(ess_14[ess_14.cntry ==cnt].sclmeet.dropna()))\n",
        "    # Printing Shapiro test results\n",
        "    print()"
      ],
      "execution_count": 13,
      "outputs": [
        {
          "output_type": "display_data",
          "data": {
            "image/png": "[encoded data removed]",
            "text/plain": [
              "<Figure size 864x216 with 4 Axes>"
            ]
          },
          "metadata": {
            "tags": []
          }
        },
        {
          "output_type": "stream",
          "text": [
            "Shapiro Tests for Normality\n",
            "CZ (0.9451602101325989, 7.663770300607355e-15)\n",
            "\n",
            "ES (0.8880351781845093, 9.848293928138278e-29)\n",
            "\n",
            "NO (0.8881818056106567, 1.422473605641294e-22)\n",
            "\n",
            "SE (0.8798282146453857, 6.682967662559975e-26)\n",
            "\n"
          ],
          "name": "stdout"
        }
      ]
    },
    {
      "metadata": {
        "id": "NiKRVVFzqwok",
        "colab_type": "code",
        "colab": {
          "base_uri": "https://localhost:8080/",
          "height": 35
        },
        "outputId": "6bafa5d4-bee1-42db-d917-4a4fb70790cd"
      },
      "cell_type": "code",
      "source": [
        "# Printing Kruskal test statistic\n",
        "print(kruskal(ess_14[ess_14.cntry == 'CZ'].sclmeet.dropna(),\n",
        "             ess_14[ess_14.cntry == 'ES'].sclmeet.dropna(),\n",
        "             ess_14[ess_14.cntry == 'NO'].sclmeet.dropna(),\n",
        "             ess_14[ess_14.cntry == 'SE'].sclmeet.dropna()))"
      ],
      "execution_count": 14,
      "outputs": [
        {
          "output_type": "stream",
          "text": [
            "KruskalResult(statistic=199.91509305978323, pvalue=4.400563536291911e-43)\n"
          ],
          "name": "stdout"
        }
      ]
    },
    {
      "metadata": {
        "id": "dWgJHBEmxJCm",
        "colab_type": "code",
        "colab": {
          "base_uri": "https://localhost:8080/",
          "height": 126
        },
        "outputId": "f7b78323-6bd3-40ab-f86b-81461d49af51"
      },
      "cell_type": "code",
      "source": [
        "#Significant difference between social meet for all 4 countries\n",
        "# Printing all combinations of t-tests\n",
        "print('CZ vs ES:', ttest_ind(ess_14[ess_14.cntry == 'CZ'].sclmeet.dropna(),\n",
        "             ess_14[ess_14.cntry == 'ES'].sclmeet.dropna()))\n",
        "print('CZ vs NO:', ttest_ind(ess_14[ess_14.cntry == 'CZ'].sclmeet.dropna(),\n",
        "             ess_14[ess_14.cntry == 'NO'].sclmeet.dropna()))\n",
        "print('CZ vs SE:', ttest_ind(ess_14[ess_14.cntry == 'CZ'].sclmeet.dropna(),\n",
        "             ess_14[ess_14.cntry == 'SE'].sclmeet.dropna()))\n",
        "print('ES vs NO:', ttest_ind(ess_14[ess_14.cntry == 'ES'].sclmeet.dropna(),\n",
        "             ess_14[ess_14.cntry == 'NO'].sclmeet.dropna()))\n",
        "print('ES vs SE:', ttest_ind(ess_14[ess_14.cntry == 'ES'].sclmeet.dropna(),\n",
        "             ess_14[ess_14.cntry == 'SE'].sclmeet.dropna()))\n",
        "print('NO vs SE:', ttest_ind(ess_14[ess_14.cntry == 'NO'].sclmeet.dropna(),\n",
        "             ess_14[ess_14.cntry == 'SE'].sclmeet.dropna()))"
      ],
      "execution_count": 15,
      "outputs": [
        {
          "output_type": "stream",
          "text": [
            "CZ vs ES: Ttest_indResult(statistic=-11.400026538179093, pvalue=3.7676844407353374e-29)\n",
            "CZ vs NO: Ttest_indResult(statistic=-11.269186128577815, pvalue=3.0334022155191707e-28)\n",
            "CZ vs SE: Ttest_indResult(statistic=-13.471687937687198, pvalue=3.252593934148172e-39)\n",
            "ES vs NO: Ttest_indResult(statistic=-0.632916395870007, pvalue=0.5268628350318294)\n",
            "ES vs SE: Ttest_indResult(statistic=-2.649547268580078, pvalue=0.00811992279651295)\n",
            "NO vs SE: Ttest_indResult(statistic=-1.8305856428076237, pvalue=0.06734412432597783)\n"
          ],
          "name": "stdout"
        }
      ]
    },
    {
      "metadata": {
        "id": "CHDrDHKoyCR-",
        "colab_type": "text"
      },
      "cell_type": "markdown",
      "source": [
        "Spain and Norway doesn't seem significantly different along with Norway and Sweden. Looks like Czech Republic is completely different from all other 3 countries. \n",
        "<br><br>\n",
        "**6. Pick three or four of the countries in the sample and compare how often people took part in social activities, relative to others their age, in 2014. Are there differences, and if so, which countries stand out?**"
      ]
    },
    {
      "metadata": {
        "id": "sbo0Mg8ex04Q",
        "colab_type": "code",
        "colab": {
          "base_uri": "https://localhost:8080/",
          "height": 390
        },
        "outputId": "9a6b741c-422c-476a-8602-29793b20f0d3"
      },
      "cell_type": "code",
      "source": [
        "# Plotting histograms of tv vs sex \n",
        "g = sns.FacetGrid(ess_14, col='cntry',  dropna=True, sharey=False)\n",
        "g = g.map(plt.hist, 'sclact', alpha=0.8, color='red', bins=5)\n",
        "#plt.title(\"Social activity Distribution\")\n",
        "plt.show()\n",
        "# Printing Shapiro test results\n",
        "cntrys = list(ess_14.cntry.unique())\n",
        "print('Shapiro Tests for Normality')\n",
        "for cnt in cntrys:\n",
        "    # Isolating data from each country\n",
        "    print(cnt, shapiro(ess_14[ess_14.cntry ==cnt].sclact.dropna()))\n",
        "    # Printing Shapiro test results\n",
        "    print()"
      ],
      "execution_count": 16,
      "outputs": [
        {
          "output_type": "display_data",
          "data": {
            "image/png": "[encoded data removed]",
            "text/plain": [
              "<Figure size 864x216 with 4 Axes>"
            ]
          },
          "metadata": {
            "tags": []
          }
        },
        {
          "output_type": "stream",
          "text": [
            "Shapiro Tests for Normality\n",
            "CZ (0.8517600893974304, 3.2631608025549396e-24)\n",
            "\n",
            "ES (0.892457902431488, 5.746904176126056e-28)\n",
            "\n",
            "NO (0.8678725957870483, 2.398206966061988e-24)\n",
            "\n",
            "SE (0.8822488784790039, 1.283228571387991e-25)\n",
            "\n"
          ],
          "name": "stdout"
        }
      ]
    },
    {
      "metadata": {
        "id": "NC6VEus00-Eb",
        "colab_type": "code",
        "colab": {
          "base_uri": "https://localhost:8080/",
          "height": 35
        },
        "outputId": "25529e2f-15df-49e0-898d-69029022b955"
      },
      "cell_type": "code",
      "source": [
        "# Printing Kruskal test statistic\n",
        "print(kruskal(ess_14[ess_14.cntry == 'CZ'].sclact.dropna(),\n",
        "             ess_14[ess_14.cntry == 'ES'].sclact.dropna(),\n",
        "             ess_14[ess_14.cntry == 'NO'].sclact.dropna(),\n",
        "             ess_14[ess_14.cntry == 'SE'].sclact.dropna()))"
      ],
      "execution_count": 17,
      "outputs": [
        {
          "output_type": "stream",
          "text": [
            "KruskalResult(statistic=53.809701709377876, pvalue=1.2319673584021775e-11)\n"
          ],
          "name": "stdout"
        }
      ]
    },
    {
      "metadata": {
        "id": "VaCpiCOJ1-FN",
        "colab_type": "code",
        "colab": {
          "base_uri": "https://localhost:8080/",
          "height": 126
        },
        "outputId": "14c8ddc7-435c-4530-8e40-71a70a079985"
      },
      "cell_type": "code",
      "source": [
        "#Significant difference between social activity for all 4 countries\n",
        "# Printing all combinations of t-tests\n",
        "print('CZ vs ES:', ttest_ind(ess_14[ess_14.cntry == 'CZ'].sclact.dropna(),\n",
        "             ess_14[ess_14.cntry == 'ES'].sclact.dropna()))\n",
        "print('CZ vs NO:', ttest_ind(ess_14[ess_14.cntry == 'CZ'].sclact.dropna(),\n",
        "             ess_14[ess_14.cntry == 'NO'].sclact.dropna()))\n",
        "print('CZ vs SE:', ttest_ind(ess_14[ess_14.cntry == 'CZ'].sclact.dropna(),\n",
        "             ess_14[ess_14.cntry == 'SE'].sclact.dropna()))\n",
        "print('ES vs NO:', ttest_ind(ess_14[ess_14.cntry == 'ES'].sclact.dropna(),\n",
        "             ess_14[ess_14.cntry == 'NO'].sclact.dropna()))\n",
        "print('ES vs SE:', ttest_ind(ess_14[ess_14.cntry == 'ES'].sclact.dropna(),\n",
        "             ess_14[ess_14.cntry == 'SE'].sclact.dropna()))\n",
        "print('NO vs SE:', ttest_ind(ess_14[ess_14.cntry == 'NO'].sclact.dropna(),\n",
        "             ess_14[ess_14.cntry == 'SE'].sclact.dropna()))"
      ],
      "execution_count": 18,
      "outputs": [
        {
          "output_type": "stream",
          "text": [
            "CZ vs ES: Ttest_indResult(statistic=1.9231457887987455, pvalue=0.05461649785517343)\n",
            "CZ vs NO: Ttest_indResult(statistic=-3.44673561169421, pvalue=0.0005844634540645623)\n",
            "CZ vs SE: Ttest_indResult(statistic=-4.0018841917465595, pvalue=6.580214302799725e-05)\n",
            "ES vs NO: Ttest_indResult(statistic=-5.671149129663532, pvalue=1.6345881270312057e-08)\n",
            "ES vs SE: Ttest_indResult(statistic=-6.500257345866597, pvalue=1.000080729987386e-10)\n",
            "NO vs SE: Ttest_indResult(statistic=-0.4823216270234106, pvalue=0.6296421272017451)\n"
          ],
          "name": "stdout"
        }
      ]
    },
    {
      "metadata": {
        "id": "IsOTWk2e2bcu",
        "colab_type": "text"
      },
      "cell_type": "markdown",
      "source": [
        "Looks like there is no significant difference between the social activites of Norway and Sweden. But all other pairs have good difference"
      ]
    },
    {
      "metadata": {
        "id": "UI5077xV2XdE",
        "colab_type": "code",
        "colab": {}
      },
      "cell_type": "code",
      "source": [
        ""
      ],
      "execution_count": 0,
      "outputs": []
    }
  ]
}