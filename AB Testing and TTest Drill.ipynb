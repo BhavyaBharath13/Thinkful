{
 "cells": [
  {
   "cell_type": "code",
   "execution_count": 1,
   "metadata": {},
   "outputs": [
    {
     "name": "stdout",
     "output_type": "stream",
     "text": [
      "ttest is:  -19.78141420187361\n"
     ]
    }
   ],
   "source": [
    "#y1¯=5,  y2¯=8,  s1=1,  s2=3,  N1=200,  N2=500\n",
    "\n",
    "y1=5  \n",
    "y2=8 \n",
    "s1=1\n",
    "s2=3\n",
    "N1=200\n",
    "N2=500\n",
    "meandif = y1-y2\n",
    "varidif = (((s1*s1)/N1)+((s2*s2)/N2))**0.5\n",
    "ttest = meandif/varidif\n",
    "print('ttest is: ',ttest)"
   ]
  },
  {
   "cell_type": "code",
   "execution_count": 2,
   "metadata": {},
   "outputs": [
    {
     "name": "stdout",
     "output_type": "stream",
     "text": [
      "ttest is:  6.658536585365854\n"
     ]
    }
   ],
   "source": [
    "#y1¯=1090,  y2¯=999,  s1=400,  s2=30,  N1=900,  N2=100\n",
    "\n",
    "y1=1090  \n",
    "y2=999 \n",
    "s1=400\n",
    "s2=30\n",
    "N1=900\n",
    "N2=100\n",
    "meandif = y1-y2\n",
    "varidif = (((s1*s1)/N1)+((s2*s2)/N2))**0.5\n",
    "ttest = meandif/varidif\n",
    "print('ttest is: ',ttest)"
   ]
  },
  {
   "cell_type": "code",
   "execution_count": 3,
   "metadata": {},
   "outputs": [
    {
     "name": "stdout",
     "output_type": "stream",
     "text": [
      "ttest is:  3.7139067635410377\n"
     ]
    }
   ],
   "source": [
    "#y1¯=45,  y2¯=40,  s1=45,  s2=40,  N1=2000,  N2=2000\n",
    "\n",
    "y1=45  \n",
    "y2=40 \n",
    "s1=45\n",
    "s2=40\n",
    "N1=2000\n",
    "N2=2000\n",
    "meandif = y1-y2\n",
    "varidif = (((s1*s1)/N1)+((s2*s2)/N2))**0.5\n",
    "ttest = meandif/varidif\n",
    "print('ttest is: ',ttest)"
   ]
  }
 ],
 "metadata": {
  "kernelspec": {
   "display_name": "Python 3",
   "language": "python",
   "name": "python3"
  },
  "language_info": {
   "codemirror_mode": {
    "name": "ipython",
    "version": 3
   },
   "file_extension": ".py",
   "mimetype": "text/x-python",
   "name": "python",
   "nbconvert_exporter": "python",
   "pygments_lexer": "ipython3",
   "version": "3.7.0"
  }
 },
 "nbformat": 4,
 "nbformat_minor": 2
}
