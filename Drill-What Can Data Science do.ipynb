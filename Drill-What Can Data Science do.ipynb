{
 "cells": [
  {
   "cell_type": "markdown",
   "metadata": {},
   "source": [
    "**Question 1:** You work at an e-commerce company that sells three goods: widgets, doodads, and fizzbangs. The head of advertising asks you which they should feature in their new advertising campaign. You have data on individual visitors' sessions (activity on a website, pageviews, and purchases), as well as whether or not those users converted from an advertisement for that session. You also have the cost and price information for the goods.<br>\n",
    "\n",
    "**Answer:** I would see which of these three goods have the least activity and then compare it with the one having most activity. I would check the price for the one with least activity, reduce the price as a promotion offer and make that product feature in the new ad campaign.<br><br>\n",
    "\n",
    "**Question 2:** You work at a web design company that offers to build websites for clients. Signups have slowed, and you are tasked with finding out why. The onboarding funnel has three steps: email and password signup, plan choice, and payment. On a user level you have information on what steps they have completed as well as timestamps for all of those events for the past 3 years. You also have information on marketing spend on a weekly level.<br>\n",
    "\n",
    "**Answer:** I would see info on what steps the users have completed and find which is the perticular step that is having bottleneck. If it is the initial sign up part then, I would suggest to change the UI appearance, if the plan choice step is the one where there is incompletion, then I would suggest to come up with new plans and propose to either replacing them for or adding them to existing plans. In case if the payment step is where people are cancelling their session, then I would reduce the cost of a single plan or mutliple plans depending on the data I have.<br><br>\n",
    "\n",
    "**Question 3:** You work at a hotel website and currently the website ranks search results by price. For simplicity's sake, let's say it's a website for one city with 100 hotels. You are tasked with proposing a better ranking system. You have session information, price information for the hotels, and whether each hotel is currently available.<br>\n",
    "\n",
    "**Answer:** I would propose a ranking system based on current availability and price combined so that ranking is provided for those hotels available and are less pricey. This would be followed by hotels which are less pricey but not available currently. This ranking might help users who are currently not looking for hotels, but might book it in near future.<br><br>\n",
    "\n",
    "**Question 4:** You work at a social network, and the management is worried about churn (users stopping using the product). You are tasked with finding out if their churn is atypical. You have three years of data for users with an entry for every time they've logged in, including the timestamp and length of session.<br>\n",
    "\n",
    "**Answer:** I would take a sample of n people and find out their monthly login activity for the recent year.If their login times (session data) have been consistant for every month or every two months, then the churn is not atypical, or else I would recommend to use marketing to improve the churn of the network"
   ]
  },
  {
   "cell_type": "code",
   "execution_count": null,
   "metadata": {},
   "outputs": [],
   "source": []
  }
 ],
 "metadata": {
  "kernelspec": {
   "display_name": "Python 3",
   "language": "python",
   "name": "python3"
  },
  "language_info": {
   "codemirror_mode": {
    "name": "ipython",
    "version": 3
   },
   "file_extension": ".py",
   "mimetype": "text/x-python",
   "name": "python",
   "nbconvert_exporter": "python",
   "pygments_lexer": "ipython3",
   "version": "3.7.0"
  }
 },
 "nbformat": 4,
 "nbformat_minor": 2
}
