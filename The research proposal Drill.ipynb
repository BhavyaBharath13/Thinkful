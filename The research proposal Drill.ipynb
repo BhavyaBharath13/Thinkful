{
 "cells": [
  {
   "cell_type": "markdown",
   "metadata": {},
   "source": [
    "**_In the past, the Jedi have had difficulty with public relations. They send two envoys, Jar Jar Binks and Mace Windu, to four friendly and four unfriendly planets respectively, with the goal of promoting favorable feelings toward the Jedi. Upon their return, the envoys learn that Jar Jar was much more effective than Windu: Over 75% of the people surveyed said their attitudes had become more favorable after speaking with Jar Jar, while only 65% said their attitudes had become more favorable after speaking with Windu. This makes Windu angry, because he is sure that he had a better success rate than Jar Jar on every planet. The Jedi choose Jar Jar to be their representative in the future._**<br><br>\n",
    "\n",
    "**Problem:** This is case of Simpson's paradox. The overall percentage shows bias towards Jar Jar. This makes Windu angry and seems unfair to him.<br><br>\n",
    "\n",
    "**Proposed Solution:** Perform the survey again by sending Jar Jar and Windu to two friendly and two unfriendly planets. So we have similar sample space. Measure their success rates for the planets they visited. <br><br>\n",
    "\n",
    "**Testing to be done:** This is somewhat like a A/B test where Jar Jar and Windu are the two versions. The two friendly and two unfriendly planets are samples group for Jar Jar and Windu respectively. Outcome of Interest is the favourable public relations with Jedi. Hypothesis is that Windu is more successful in changing their attitudes and Other outcomes are Jedi getting an able representative.<br><br>\n"
   ]
  }
 ],
 "metadata": {
  "kernelspec": {
   "display_name": "Python 3",
   "language": "python",
   "name": "python3"
  },
  "language_info": {
   "codemirror_mode": {
    "name": "ipython",
    "version": 3
   },
   "file_extension": ".py",
   "mimetype": "text/x-python",
   "name": "python",
   "nbconvert_exporter": "python",
   "pygments_lexer": "ipython3",
   "version": "3.7.0"
  }
 },
 "nbformat": 4,
 "nbformat_minor": 2
}
