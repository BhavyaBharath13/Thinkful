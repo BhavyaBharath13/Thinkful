{
  "nbformat": 4,
  "nbformat_minor": 0,
  "metadata": {
    "colab": {
      "name": "Drill-Trees.ipynb",
      "version": "0.3.2",
      "provenance": [],
      "collapsed_sections": []
    },
    "kernelspec": {
      "name": "python3",
      "display_name": "Python 3"
    }
  },
  "cells": [
    {
      "metadata": {
        "id": "vwlW_mmZcwQQ",
        "colab_type": "code",
        "colab": {
          "base_uri": "https://localhost:8080/",
          "height": 308
        },
        "outputId": "d83a95f0-c6e2-4c17-931b-c5bd3bc22606"
      },
      "cell_type": "code",
      "source": [
        "# Recursive Python program for level order traversal of Binary Tree \n",
        "  \n",
        "# A node structure \n",
        "class Node: \n",
        "  \n",
        "    # A utility function to create a new node \n",
        "    def __init__(self, key): \n",
        "        self.data = key  \n",
        "        self.left = None\n",
        "        self.right = None\n",
        "  \n",
        "  \n",
        "# Function to  print level order traversal of tree \n",
        "def printLevelOrder(root): \n",
        "    h = height(root) \n",
        "    for i in range(1, h+1): \n",
        "        printGivenLevel(root, i) \n",
        "  \n",
        "  \n",
        "# Print nodes at a given level \n",
        "def printGivenLevel(root , level): \n",
        "    if root is None: \n",
        "        return\n",
        "    if level == 1: \n",
        "        print(root.data), \n",
        "    elif level > 1 : \n",
        "        printGivenLevel(root.left , level-1) \n",
        "        printGivenLevel(root.right , level-1) \n",
        "  \n",
        "  \n",
        "###Compute the height of a tree--the number of nodes \n",
        "###along the longest path from the root node down to \n",
        "###the farthest leaf node \n",
        "\n",
        "def height(node): \n",
        "    if node is None: \n",
        "        return 0 \n",
        "    else : \n",
        "        # Compute the height of each subtree  \n",
        "        lheight = height(node.left) \n",
        "        rheight = height(node.right) \n",
        "  \n",
        "        #Use the larger one \n",
        "        if lheight > rheight : \n",
        "            return lheight+1\n",
        "        else: \n",
        "            return rheight+1\n",
        "  \n",
        "# Driver program to test above function \n",
        "root = Node('B')\n",
        "root.left = Node('O') \n",
        "root.right = Node('A')\n",
        "root.left.left = Node('T')\n",
        "root.left.right = Node('O')\n",
        "root.right.left = Node('F')\n",
        "root.right.right = Node('S')\n",
        "root.left.left.left = Node('U')\n",
        "root.left.left.right = Node('R')\n",
        "root.left.right.left = Node('P')\n",
        "root.left.right.right = Node('R')\n",
        "root.right.left.left = Node('I')\n",
        "root.right.left.right = Node('S')\n",
        "root.right.right.left = Node('E')\n",
        "root.right.right.right = Node('S')\n",
        "  \n",
        "print(\"Level order traversal of binary tree is -\")\n",
        "printLevelOrder(root) "
      ],
      "execution_count": 8,
      "outputs": [
        {
          "output_type": "stream",
          "text": [
            "Level order traversal of binary tree is -\n",
            "B\n",
            "O\n",
            "A\n",
            "T\n",
            "O\n",
            "F\n",
            "S\n",
            "U\n",
            "R\n",
            "P\n",
            "R\n",
            "I\n",
            "S\n",
            "E\n",
            "S\n"
          ],
          "name": "stdout"
        }
      ]
    }
  ]
}