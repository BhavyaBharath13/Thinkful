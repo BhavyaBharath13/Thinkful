{
 "cells": [
  {
   "cell_type": "markdown",
   "metadata": {},
   "source": [
    "You now have a fairly substantial starting toolbox of supervised learning methods that you can use to tackle a host of exciting problems. To make sure all of these ideas are organized in your mind, please go through the list of problems below. For each, identify which supervised learning method(s) would be best for addressing that particular problem. Explain your reasoning and discuss your answers with your mentor.\n",
    "\n",
    "1. Predict the running times of prospective Olympic sprinters using data from the last 20 Olympics.\n",
    "\n",
    "Linear Regression Model<br><br>\n",
    "\n",
    "2. You have more features (columns) than rows in your dataset.\n",
    "\n",
    "PSLR Model<br><br>\n",
    "\n",
    "3. Identify the most important characteristic predicting likelihood of being jailed before age 20.\n",
    "\n",
    "SVM Classifier Model <br><br>\n",
    "\n",
    "4. Implement a filter to “highlight” emails that might be important to the recipient\n",
    "\n",
    "Naive Bayes<br><br>\n",
    "\n",
    "5. You have 1000+ features.\n",
    "\n",
    "Lasso Regression. <br><br>\n",
    "\n",
    "6. Predict whether someone who adds items to their cart on a website will purchase the items.\n",
    "\n",
    "Decision Trees. <br><br>\n",
    "\n",
    "7. Your dataset dimensions are 982400 x 500\n",
    "\n",
    "Lasso or Mutliple Component Analysis (MCA) or Factor Analysis of Mixed Data(FAMD).<br><br>\n",
    "\n",
    "8. Identify faces in an image.\n",
    "\n",
    "Gradient Boost or Random Forest.<br><br>\n",
    "\n",
    "9. Predict which of three flavors of ice cream will be most popular with boys vs girls.\n",
    "\n",
    "Multinomial NAive Bayes\n"
   ]
  }
 ],
 "metadata": {
  "kernelspec": {
   "display_name": "Python 3",
   "language": "python",
   "name": "python3"
  },
  "language_info": {
   "codemirror_mode": {
    "name": "ipython",
    "version": 3
   },
   "file_extension": ".py",
   "mimetype": "text/x-python",
   "name": "python",
   "nbconvert_exporter": "python",
   "pygments_lexer": "ipython3",
   "version": "3.7.0"
  }
 },
 "nbformat": 4,
 "nbformat_minor": 2
}
