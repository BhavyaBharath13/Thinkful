{
  "nbformat": 4,
  "nbformat_minor": 0,
  "metadata": {
    "colab": {
      "name": "Drill - Self Report Pro's and Con's.ipynb",
      "version": "0.3.2",
      "provenance": [],
      "collapsed_sections": []
    },
    "kernelspec": {
      "name": "python3",
      "display_name": "Python 3"
    }
  },
  "cells": [
    {
      "metadata": {
        "id": "Fivlwj_BnwdG",
        "colab_type": "text"
      },
      "cell_type": "markdown",
      "source": [
        "#DRILL: When to use surveys. \n",
        "\n",
        "###State whether a survey would be the best option for answering each of the following questions.\n",
        "\n",
        "**Popularity of various Uber drivers.**\n",
        "This is not recomended as no one remembers all the names of different Uber drivers because of sheer number.\n",
        "\n",
        "**A grocery store wants to know how much people like strawberry, chocolate, and vanilla ice cream.**\n",
        "Yes, but split the question. do you like ice creams? If yes, please rate these flavors.\n",
        "\n",
        "**Trojan wants to know whether their condoms are more popular among straight people or gay people.**\n",
        "No, since people may not be forth coming on their sexuality. Specially true if they are gay.\n",
        "\n",
        "**Recently, rental rates for HappyCars have increased by 30%, which is quite unusual. You want to find out why this is happening and how to keep the increase going.**\n",
        "Might be the first part of it is a multiple choice with others as option which would require free form. For 2nd part might be some kind of compensation would help.\n",
        "\n",
        "**Assessing the success rate of a new advertising campaign.** \n",
        "Yes, might be a simple \"Did you like the ad\" with yes or no option.\n",
        "\n",
        "**Measuring the effect of nurse/patient ratio on patient recovery rates in hospital wards.**\n",
        "\n",
        "No. The question needs to be reframed, to ask patients they are satisfied with the current response time in hospitals.\n",
        "\n",
        "\n"
      ]
    }
  ]
}