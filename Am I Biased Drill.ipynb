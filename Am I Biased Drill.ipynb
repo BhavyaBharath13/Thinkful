{
 "cells": [
  {
   "cell_type": "markdown",
   "metadata": {},
   "source": [
    "1. You're testing advertising emails for a bathing suit company and you test one version of the email in February and the other in May.<br>\n",
    "A: The bias here is the months. In February, its still cold and people often ignore these ad mails for bathing suits thinking they can always buy later on. But in May,however, the spring season would be almost coming to an end, so people would be more interested in buying the bathing suit. If these two months are mandatory for sending ad mails then I would give a huge discount like 65-75% off or suggest that now is the right time to go to hot places for vacation and to buy these beautiful bathing suits.<br><br>\n",
    "\n",
    "2. You open a clinic to treat anxiety and find that the people who visit show a higher rate of anxiety than the general population.<br>\n",
    "A: As this is the clinic to treat anxiety it is a bias to compare the anxiety with general poulation. Either I should treat only selected few of the 6 types of anxiety or do a comparison of the visiting patients with general population for each of the 6 kinds of anxiety.<br><br>\n",
    "\n",
    "3. You launch a new ad billboard based campaign and see an increase in website visits in the first week.<br>\n",
    "A: This cannot be considered as considerable increase in the website visits as its still just the first week. I would give it a month or two and see the session trends to compare if the new ad campaign is a sure success or not.<br><br>\n",
    "\n",
    "4. You launch a loyalty program but see no change in visits in the first week.<br>\n",
    "A: If its been just one week, I would try to wait for a month or two to see the change in visits. If there is increase then I wouldn't change anything or I would relaunch the program with different ads to attract more hits.\n"
   ]
  }
 ],
 "metadata": {
  "kernelspec": {
   "display_name": "Python 3",
   "language": "python",
   "name": "python3"
  },
  "language_info": {
   "codemirror_mode": {
    "name": "ipython",
    "version": 3
   },
   "file_extension": ".py",
   "mimetype": "text/x-python",
   "name": "python",
   "nbconvert_exporter": "python",
   "pygments_lexer": "ipython3",
   "version": "3.7.0"
  }
 },
 "nbformat": 4,
 "nbformat_minor": 2
}
