{
 "cells": [
  {
   "cell_type": "code",
   "execution_count": 1,
   "metadata": {},
   "outputs": [],
   "source": [
    "import numpy as np\n",
    "import pandas as pd\n",
    "import re"
   ]
  },
  {
   "cell_type": "code",
   "execution_count": 2,
   "metadata": {},
   "outputs": [],
   "source": [
    "#importing data from csv file\n",
    "data = pd.read_csv(\"WELLCOME_APCspend2013_forThinkful.csv\",encoding='iso-8859-13')"
   ]
  },
  {
   "cell_type": "code",
   "execution_count": 3,
   "metadata": {},
   "outputs": [
    {
     "data": {
      "text/html": [
       "<div>\n",
       "<style scoped>\n",
       "    .dataframe tbody tr th:only-of-type {\n",
       "        vertical-align: middle;\n",
       "    }\n",
       "\n",
       "    .dataframe tbody tr th {\n",
       "        vertical-align: top;\n",
       "    }\n",
       "\n",
       "    .dataframe thead th {\n",
       "        text-align: right;\n",
       "    }\n",
       "</style>\n",
       "<table border=\"1\" class=\"dataframe\">\n",
       "  <thead>\n",
       "    <tr style=\"text-align: right;\">\n",
       "      <th></th>\n",
       "      <th>PMID/PMCID</th>\n",
       "      <th>Publisher</th>\n",
       "      <th>Journal title</th>\n",
       "      <th>Article title</th>\n",
       "      <th>COST (£) charged to Wellcome (inc VAT when charged)</th>\n",
       "    </tr>\n",
       "  </thead>\n",
       "  <tbody>\n",
       "    <tr>\n",
       "      <th>0</th>\n",
       "      <td>NaN</td>\n",
       "      <td>CUP</td>\n",
       "      <td>Psychological Medicine</td>\n",
       "      <td>Reduced parahippocampal cortical thickness in ...</td>\n",
       "      <td>£0.00</td>\n",
       "    </tr>\n",
       "    <tr>\n",
       "      <th>1</th>\n",
       "      <td>PMC3679557</td>\n",
       "      <td>ACS</td>\n",
       "      <td>Biomacromolecules</td>\n",
       "      <td>Structural characterization of a Model Gram-ne...</td>\n",
       "      <td>£2381.04</td>\n",
       "    </tr>\n",
       "    <tr>\n",
       "      <th>2</th>\n",
       "      <td>23043264  PMC3506128</td>\n",
       "      <td>ACS</td>\n",
       "      <td>J Med Chem</td>\n",
       "      <td>Fumaroylamino-4,5-epoxymorphinans and related ...</td>\n",
       "      <td>£642.56</td>\n",
       "    </tr>\n",
       "    <tr>\n",
       "      <th>3</th>\n",
       "      <td>23438330 PMC3646402</td>\n",
       "      <td>ACS</td>\n",
       "      <td>J Med Chem</td>\n",
       "      <td>Orvinols with mixed kappa/mu opioid receptor a...</td>\n",
       "      <td>£669.64</td>\n",
       "    </tr>\n",
       "    <tr>\n",
       "      <th>4</th>\n",
       "      <td>23438216 PMC3601604</td>\n",
       "      <td>ACS</td>\n",
       "      <td>J Org Chem</td>\n",
       "      <td>Regioselective opening of myo-inositol orthoes...</td>\n",
       "      <td>£685.88</td>\n",
       "    </tr>\n",
       "  </tbody>\n",
       "</table>\n",
       "</div>"
      ],
      "text/plain": [
       "              PMID/PMCID Publisher           Journal title  \\\n",
       "0                    NaN       CUP  Psychological Medicine   \n",
       "1             PMC3679557       ACS       Biomacromolecules   \n",
       "2  23043264  PMC3506128        ACS              J Med Chem   \n",
       "3    23438330 PMC3646402       ACS              J Med Chem   \n",
       "4   23438216 PMC3601604        ACS              J Org Chem   \n",
       "\n",
       "                                       Article title  \\\n",
       "0  Reduced parahippocampal cortical thickness in ...   \n",
       "1  Structural characterization of a Model Gram-ne...   \n",
       "2  Fumaroylamino-4,5-epoxymorphinans and related ...   \n",
       "3  Orvinols with mixed kappa/mu opioid receptor a...   \n",
       "4  Regioselective opening of myo-inositol orthoes...   \n",
       "\n",
       "  COST (£) charged to Wellcome (inc VAT when charged)  \n",
       "0                                              £0.00   \n",
       "1                                           £2381.04   \n",
       "2                                            £642.56   \n",
       "3                                            £669.64   \n",
       "4                                            £685.88   "
      ]
     },
     "execution_count": 3,
     "metadata": {},
     "output_type": "execute_result"
    }
   ],
   "source": [
    "data.head(5)"
   ]
  },
  {
   "cell_type": "code",
   "execution_count": 4,
   "metadata": {},
   "outputs": [],
   "source": [
    "#Renaming the columns for readability\n",
    "data.rename( columns={'PMID/PMCID': 'ID',\n",
    "                      'Journal title': 'Journal', \n",
    "                      'Article title':'Title',\n",
    "                      'COST (£) charged to Wellcome (inc VAT when charged)':'Cost'}, inplace=True)"
   ]
  },
  {
   "cell_type": "code",
   "execution_count": 5,
   "metadata": {},
   "outputs": [
    {
     "data": {
      "text/html": [
       "<div>\n",
       "<style scoped>\n",
       "    .dataframe tbody tr th:only-of-type {\n",
       "        vertical-align: middle;\n",
       "    }\n",
       "\n",
       "    .dataframe tbody tr th {\n",
       "        vertical-align: top;\n",
       "    }\n",
       "\n",
       "    .dataframe thead th {\n",
       "        text-align: right;\n",
       "    }\n",
       "</style>\n",
       "<table border=\"1\" class=\"dataframe\">\n",
       "  <thead>\n",
       "    <tr style=\"text-align: right;\">\n",
       "      <th></th>\n",
       "      <th>ID</th>\n",
       "      <th>Publisher</th>\n",
       "      <th>Journal</th>\n",
       "      <th>Title</th>\n",
       "      <th>Cost</th>\n",
       "    </tr>\n",
       "  </thead>\n",
       "  <tbody>\n",
       "    <tr>\n",
       "      <th>0</th>\n",
       "      <td>NaN</td>\n",
       "      <td>CUP</td>\n",
       "      <td>Psychological Medicine</td>\n",
       "      <td>Reduced parahippocampal cortical thickness in ...</td>\n",
       "      <td>£0.00</td>\n",
       "    </tr>\n",
       "    <tr>\n",
       "      <th>1</th>\n",
       "      <td>PMC3679557</td>\n",
       "      <td>ACS</td>\n",
       "      <td>Biomacromolecules</td>\n",
       "      <td>Structural characterization of a Model Gram-ne...</td>\n",
       "      <td>£2381.04</td>\n",
       "    </tr>\n",
       "    <tr>\n",
       "      <th>2</th>\n",
       "      <td>23043264  PMC3506128</td>\n",
       "      <td>ACS</td>\n",
       "      <td>J Med Chem</td>\n",
       "      <td>Fumaroylamino-4,5-epoxymorphinans and related ...</td>\n",
       "      <td>£642.56</td>\n",
       "    </tr>\n",
       "    <tr>\n",
       "      <th>3</th>\n",
       "      <td>23438330 PMC3646402</td>\n",
       "      <td>ACS</td>\n",
       "      <td>J Med Chem</td>\n",
       "      <td>Orvinols with mixed kappa/mu opioid receptor a...</td>\n",
       "      <td>£669.64</td>\n",
       "    </tr>\n",
       "    <tr>\n",
       "      <th>4</th>\n",
       "      <td>23438216 PMC3601604</td>\n",
       "      <td>ACS</td>\n",
       "      <td>J Org Chem</td>\n",
       "      <td>Regioselective opening of myo-inositol orthoes...</td>\n",
       "      <td>£685.88</td>\n",
       "    </tr>\n",
       "  </tbody>\n",
       "</table>\n",
       "</div>"
      ],
      "text/plain": [
       "                      ID Publisher                 Journal  \\\n",
       "0                    NaN       CUP  Psychological Medicine   \n",
       "1             PMC3679557       ACS       Biomacromolecules   \n",
       "2  23043264  PMC3506128        ACS              J Med Chem   \n",
       "3    23438330 PMC3646402       ACS              J Med Chem   \n",
       "4   23438216 PMC3601604        ACS              J Org Chem   \n",
       "\n",
       "                                               Title      Cost  \n",
       "0  Reduced parahippocampal cortical thickness in ...     £0.00  \n",
       "1  Structural characterization of a Model Gram-ne...  £2381.04  \n",
       "2  Fumaroylamino-4,5-epoxymorphinans and related ...   £642.56  \n",
       "3  Orvinols with mixed kappa/mu opioid receptor a...   £669.64  \n",
       "4  Regioselective opening of myo-inositol orthoes...   £685.88  "
      ]
     },
     "execution_count": 5,
     "metadata": {},
     "output_type": "execute_result"
    }
   ],
   "source": [
    "data.head(5)"
   ]
  },
  {
   "cell_type": "code",
   "execution_count": 6,
   "metadata": {},
   "outputs": [
    {
     "data": {
      "text/plain": [
       "PLoS One                                                         92\n",
       "PLoS ONE                                                         62\n",
       "Journal of Biological Chemistry                                  48\n",
       "Nucleic Acids Research                                           21\n",
       "Proceedings of the National Academy of Sciences                  19\n",
       "Human Molecular Genetics                                         18\n",
       "PLoS Neglected Tropical Diseases                                 18\n",
       "Nature Communications                                            17\n",
       "PLoS Genetics                                                    15\n",
       "PLoS Pathogens                                                   15\n",
       "Neuroimage                                                       15\n",
       "BMC Public Health                                                14\n",
       "NeuroImage                                                       14\n",
       "PLOS ONE                                                         14\n",
       "Brain                                                            14\n",
       "Movement Disorders                                               13\n",
       "Biochemical Journal                                              12\n",
       "Developmental Cell                                               12\n",
       "Journal of Neuroscience                                          12\n",
       "Journal of General Virology                                      11\n",
       "Current Biology                                                  10\n",
       "PLOS One                                                         10\n",
       "BMJ                                                              10\n",
       "Cell Reports                                                      9\n",
       "Neuron                                                            9\n",
       "Journal of Physiology                                             8\n",
       "Proceedings of the Royal Society B: Biological Sciences           8\n",
       "Journal of Structural Biology                                     8\n",
       "European Journal of Immunology                                    8\n",
       "Molecular Microbiology                                            8\n",
       "                                                                 ..\n",
       "Biochimica et Biophysica Acta (BBA) - Molecular Cell Research     1\n",
       "THORAX an international journal for Respiratory Medicine          1\n",
       "Journal of Epidemiology & Community Health                        1\n",
       "Circulation Research                                              1\n",
       "GENETICS                                                          1\n",
       "British Journal of Haematology                                    1\n",
       "Urolithiasis                                                      1\n",
       "Personality and Individual Differences                            1\n",
       "Int J Epidemiol                                                   1\n",
       "Haematologica/The Haematology Journal                             1\n",
       "Pediatr Infect Dis J                                              1\n",
       "Proceddings of the National Academy of Sciences of USA            1\n",
       "Calcified Tissue International                                    1\n",
       "Sensors                                                           1\n",
       "Psychological Assessment                                          1\n",
       "Molecular and Cellular Biology                                    1\n",
       "Frontiers in Cognitive Science                                    1\n",
       "American Journal of Psychiatry                                    1\n",
       "Neurophysiologia                                                  1\n",
       "CURRENT BIOLOGY                                                   1\n",
       "Sex Transm Infect.                                                1\n",
       "Frontiers                                                         1\n",
       "Nephrology Dialysis Transplantation                               1\n",
       "Journal of Epidemiology & Community Health                        1\n",
       "Human Mol Genetics Online                                         1\n",
       "Seminars in Oncology                                              1\n",
       "Frontiers in T Cell Biology                                       1\n",
       "Statistics in Medicine                                            1\n",
       "Journal of Clinical Virology                                      1\n",
       "Ethn Health                                                       1\n",
       "Name: Journal, Length: 984, dtype: int64"
      ]
     },
     "execution_count": 6,
     "metadata": {},
     "output_type": "execute_result"
    }
   ],
   "source": [
    "#counting the no of journals\n",
    "data.Journal.value_counts()"
   ]
  },
  {
   "cell_type": "code",
   "execution_count": 7,
   "metadata": {},
   "outputs": [
    {
     "data": {
      "text/plain": [
       "21                                   ACS Chemical Biology\n",
       "20                                   ACS Chemical Biology\n",
       "8                                    ACS Chemical Biology\n",
       "9                                    ACS Chemical Biology\n",
       "19                                   ACS Chemical Biology\n",
       "22                              ACS Chemical Neuroscience\n",
       "23                                               ACS NANO\n",
       "34                                               ACS Nano\n",
       "924                                                ACTA F\n",
       "1808                                                  AGE\n",
       "2125                                                 AIDS\n",
       "2123                                                 AIDS\n",
       "2115                                                 AIDS\n",
       "1797                                           AIDS Behav\n",
       "1811                                            AIDS Care\n",
       "1824                                            AIDS Care\n",
       "2116                                         AIDS Journal\n",
       "235                             AIDS Research and Therapy\n",
       "2117                                              AIDS UK\n",
       "2118                                              AIDS UK\n",
       "1317                                            ASN Neuro\n",
       "439                    Academy of Nutrition and Dietetics\n",
       "927     Acta Crystallographica Section D,  Biological ...\n",
       "920     Acta Crystallographica Section D: Biological C...\n",
       "929     Acta Crystallographica Section F: Structural B...\n",
       "928     Acta Crystallographica Section F: Structural B...\n",
       "921                     Acta Crystallographica, Section D\n",
       "922                                Acta Crystallography D\n",
       "923                                                Acta D\n",
       "1711                           Acta Dermato Venereologica\n",
       "                              ...                        \n",
       "2018           Tropical Medicine and International Health\n",
       "2006           Tropical Medicine and International Health\n",
       "2005           Tropical Medicine and International Health\n",
       "954            Tropical Medicine and International Health\n",
       "816                                          Tuberculosis\n",
       "817                                          Tuberculosis\n",
       "371                                         Urban History\n",
       "1796                                         Urolithiasis\n",
       "821                                               Vaccine\n",
       "820                                               Vaccine\n",
       "819                                               Vaccine\n",
       "843                                               Vaccine\n",
       "818                                               Vaccine\n",
       "822                                 Vascular Pharmacology\n",
       "823                               Veterinary Microbiology\n",
       "824                               Veterinary Parasitology\n",
       "825                               Veterinary Parasitology\n",
       "328                                     Veterinary Record\n",
       "243                                   Veterinary Research\n",
       "826                                              Virology\n",
       "1837                                             Virology\n",
       "225                                      Virology Journal\n",
       "827                                        Virus Research\n",
       "829                                       Vision Research\n",
       "828                                       Vision Research\n",
       "372                                   Visual Neuroscience\n",
       "2106                           Zoonoses and Public Health\n",
       "1936                         genesis: Journal of Genetics\n",
       "347                                                  mBio\n",
       "986                                                   NaN\n",
       "Name: Journal, Length: 2127, dtype: object"
      ]
     },
     "execution_count": 7,
     "metadata": {},
     "output_type": "execute_result"
    }
   ],
   "source": [
    "#sorting to see how data looks\n",
    "data.Journal.sort_values()"
   ]
  },
  {
   "cell_type": "code",
   "execution_count": 8,
   "metadata": {},
   "outputs": [],
   "source": [
    "#Capitalizing Journals and Removing white spaces in beginnings and end \n",
    "data.Journal = (data.Journal.str.capitalize()).str.strip()"
   ]
  },
  {
   "cell_type": "code",
   "execution_count": 9,
   "metadata": {},
   "outputs": [],
   "source": [
    "#Replacing number by words, d followed by comma to colon and double white space to single white space\n",
    "data.Journal = data.Journal.replace({'1':'one','d,':'d:','  ':' '},regex=True)"
   ]
  },
  {
   "cell_type": "code",
   "execution_count": 10,
   "metadata": {},
   "outputs": [
    {
     "data": {
      "text/plain": [
       "Plos one                           198\n",
       "Journal of biological chemistry     53\n",
       "Neuroimage                          29\n",
       "Nucleic acids research              26\n",
       "Plos genetics                       24\n",
       "Name: Journal, dtype: int64"
      ]
     },
     "execution_count": 10,
     "metadata": {},
     "output_type": "execute_result"
    }
   ],
   "source": [
    "#Top 5 common Journals with total articles.\n",
    "data.Journal.value_counts().head(5)"
   ]
  },
  {
   "cell_type": "code",
   "execution_count": 11,
   "metadata": {},
   "outputs": [],
   "source": [
    "#remove pound and dollar signs from cost column\n",
    "data.Cost = data.Cost.replace({'£': '', '\\$': ''}, regex=True)"
   ]
  },
  {
   "cell_type": "code",
   "execution_count": 12,
   "metadata": {},
   "outputs": [],
   "source": [
    "#convert cost column from string to float\n",
    "data.Cost = pd.to_numeric(data.Cost,downcast='float')"
   ]
  },
  {
   "cell_type": "code",
   "execution_count": 13,
   "metadata": {},
   "outputs": [
    {
     "data": {
      "text/html": [
       "<div>\n",
       "<style scoped>\n",
       "    .dataframe tbody tr th:only-of-type {\n",
       "        vertical-align: middle;\n",
       "    }\n",
       "\n",
       "    .dataframe tbody tr th {\n",
       "        vertical-align: top;\n",
       "    }\n",
       "\n",
       "    .dataframe thead th {\n",
       "        text-align: right;\n",
       "    }\n",
       "</style>\n",
       "<table border=\"1\" class=\"dataframe\">\n",
       "  <thead>\n",
       "    <tr style=\"text-align: right;\">\n",
       "      <th></th>\n",
       "      <th>ID</th>\n",
       "      <th>Publisher</th>\n",
       "      <th>Journal</th>\n",
       "      <th>Title</th>\n",
       "      <th>Cost</th>\n",
       "    </tr>\n",
       "  </thead>\n",
       "  <tbody>\n",
       "    <tr>\n",
       "      <th>0</th>\n",
       "      <td>NaN</td>\n",
       "      <td>CUP</td>\n",
       "      <td>Psychological medicine</td>\n",
       "      <td>Reduced parahippocampal cortical thickness in ...</td>\n",
       "      <td>0.000000</td>\n",
       "    </tr>\n",
       "    <tr>\n",
       "      <th>1</th>\n",
       "      <td>PMC3679557</td>\n",
       "      <td>ACS</td>\n",
       "      <td>Biomacromolecules</td>\n",
       "      <td>Structural characterization of a Model Gram-ne...</td>\n",
       "      <td>2381.040039</td>\n",
       "    </tr>\n",
       "    <tr>\n",
       "      <th>2</th>\n",
       "      <td>23043264  PMC3506128</td>\n",
       "      <td>ACS</td>\n",
       "      <td>J med chem</td>\n",
       "      <td>Fumaroylamino-4,5-epoxymorphinans and related ...</td>\n",
       "      <td>642.559998</td>\n",
       "    </tr>\n",
       "    <tr>\n",
       "      <th>3</th>\n",
       "      <td>23438330 PMC3646402</td>\n",
       "      <td>ACS</td>\n",
       "      <td>J med chem</td>\n",
       "      <td>Orvinols with mixed kappa/mu opioid receptor a...</td>\n",
       "      <td>669.640015</td>\n",
       "    </tr>\n",
       "    <tr>\n",
       "      <th>4</th>\n",
       "      <td>23438216 PMC3601604</td>\n",
       "      <td>ACS</td>\n",
       "      <td>J org chem</td>\n",
       "      <td>Regioselective opening of myo-inositol orthoes...</td>\n",
       "      <td>685.880005</td>\n",
       "    </tr>\n",
       "  </tbody>\n",
       "</table>\n",
       "</div>"
      ],
      "text/plain": [
       "                      ID Publisher                 Journal  \\\n",
       "0                    NaN       CUP  Psychological medicine   \n",
       "1             PMC3679557       ACS       Biomacromolecules   \n",
       "2  23043264  PMC3506128        ACS              J med chem   \n",
       "3    23438330 PMC3646402       ACS              J med chem   \n",
       "4   23438216 PMC3601604        ACS              J org chem   \n",
       "\n",
       "                                               Title         Cost  \n",
       "0  Reduced parahippocampal cortical thickness in ...     0.000000  \n",
       "1  Structural characterization of a Model Gram-ne...  2381.040039  \n",
       "2  Fumaroylamino-4,5-epoxymorphinans and related ...   642.559998  \n",
       "3  Orvinols with mixed kappa/mu opioid receptor a...   669.640015  \n",
       "4  Regioselective opening of myo-inositol orthoes...   685.880005  "
      ]
     },
     "execution_count": 13,
     "metadata": {},
     "output_type": "execute_result"
    }
   ],
   "source": [
    "data.head(5)"
   ]
  },
  {
   "cell_type": "code",
   "execution_count": 14,
   "metadata": {},
   "outputs": [
    {
     "data": {
      "text/plain": [
       "1564    999999.0\n",
       "996     999999.0\n",
       "560     999999.0\n",
       "1565    999999.0\n",
       "1309    999999.0\n",
       "Name: Cost, dtype: float32"
      ]
     },
     "execution_count": 14,
     "metadata": {},
     "output_type": "execute_result"
    }
   ],
   "source": [
    "#Check the cost column for value discrepancies\n",
    "data.Cost.sort_values(ascending = False).head(5)"
   ]
  },
  {
   "cell_type": "code",
   "execution_count": 15,
   "metadata": {},
   "outputs": [],
   "source": [
    "#cost of 999999.00 doesnt make sense, looks like it was entered twice so set it to 999\n",
    "data.Cost = data.apply(lambda x: 999 if x.Cost >= 999999 else x.Cost, axis=1)"
   ]
  },
  {
   "cell_type": "code",
   "execution_count": 16,
   "metadata": {},
   "outputs": [
    {
     "data": {
      "text/plain": [
       "1987    201024.0\n",
       "1470    192645.0\n",
       "986      13200.0\n",
       "1619      6000.0\n",
       "800       5760.0\n",
       "Name: Cost, dtype: float64"
      ]
     },
     "execution_count": 16,
     "metadata": {},
     "output_type": "execute_result"
    }
   ],
   "source": [
    "#Again checking for incorrect values \n",
    "data.Cost.sort_values(ascending = False).head(5)"
   ]
  },
  {
   "cell_type": "code",
   "execution_count": 17,
   "metadata": {},
   "outputs": [],
   "source": [
    "#Looks like anything above 10000 was error in decimal point so correct it iteratively\n",
    "data.Cost = data.apply(lambda x: (x.Cost/10) if x.Cost >= 10000 else x.Cost, axis=1)"
   ]
  },
  {
   "cell_type": "code",
   "execution_count": 18,
   "metadata": {},
   "outputs": [
    {
     "data": {
      "text/plain": [
       "1987    20102.4\n",
       "1470    19264.5\n",
       "1619     6000.0\n",
       "800      5760.0\n",
       "798      4800.0\n",
       "Name: Cost, dtype: float64"
      ]
     },
     "execution_count": 18,
     "metadata": {},
     "output_type": "execute_result"
    }
   ],
   "source": [
    "#Again checking for incorrect values\n",
    "data.Cost.sort_values(ascending = False).head(5)"
   ]
  },
  {
   "cell_type": "code",
   "execution_count": 19,
   "metadata": {},
   "outputs": [],
   "source": [
    "#Correcting the decimal points again\n",
    "data.Cost = data.apply(lambda x: (x.Cost/10) if x.Cost >= 10000 else x.Cost, axis=1)"
   ]
  },
  {
   "cell_type": "code",
   "execution_count": 20,
   "metadata": {},
   "outputs": [
    {
     "data": {
      "text/plain": [
       "1619    6000.0\n",
       "800     5760.0\n",
       "552     4800.0\n",
       "798     4800.0\n",
       "648     4800.0\n",
       "Name: Cost, dtype: float64"
      ]
     },
     "execution_count": 20,
     "metadata": {},
     "output_type": "execute_result"
    }
   ],
   "source": [
    "#Now the data looks believable\n",
    "data.Cost.sort_values(ascending = False).head(5)"
   ]
  },
  {
   "cell_type": "code",
   "execution_count": 21,
   "metadata": {},
   "outputs": [
    {
     "name": "stdout",
     "output_type": "stream",
     "text": [
      "Mean, Meadian and Standard Deviation for Journal \"Plos one\" are: 944.9030299485332 , 901.8099975585938 and 207.01745622056202\n"
     ]
    }
   ],
   "source": [
    "#Plos one mean, median and standard deviation\n",
    "plosdata = data[data.Journal == 'Plos one']\n",
    "print('Mean, Meadian and Standard Deviation for Journal \"Plos one\" are:'\n",
    "      , plosdata.Cost.mean(),',',plosdata.Cost.median(),'and',plosdata.Cost.std())"
   ]
  },
  {
   "cell_type": "code",
   "execution_count": 22,
   "metadata": {},
   "outputs": [
    {
     "name": "stdout",
     "output_type": "stream",
     "text": [
      "Mean, Meadian and Standard Deviation for Journal \"Journal of biological chemistry\" are: 1415.5773539993 , 1287.75 and 412.1216238854899\n"
     ]
    }
   ],
   "source": [
    "#Journal of biological chemistry mean, median and standard deviation\n",
    "jobcdata = data[data.Journal == 'Journal of biological chemistry']\n",
    "print('Mean, Meadian and Standard Deviation for Journal \"Journal of biological chemistry\" are:'\n",
    "      , jobcdata.Cost.mean(),',',jobcdata.Cost.median(),'and',jobcdata.Cost.std())"
   ]
  },
  {
   "cell_type": "code",
   "execution_count": 23,
   "metadata": {},
   "outputs": [
    {
     "name": "stdout",
     "output_type": "stream",
     "text": [
      "Mean, Meadian and Standard Deviation for Journal \"Neuroimage\" are: 2215.168280239763 , 2326.429931640625 and 266.6539583463401\n"
     ]
    }
   ],
   "source": [
    "#Neuroimage mean, median and standard deviation\n",
    "neurodata = data[data.Journal == 'Neuroimage']\n",
    "print('Mean, Meadian and Standard Deviation for Journal \"Neuroimage\" are:'\n",
    "      , neurodata.Cost.mean(),',',neurodata.Cost.median(),'and',neurodata.Cost.std())"
   ]
  },
  {
   "cell_type": "code",
   "execution_count": 24,
   "metadata": {},
   "outputs": [
    {
     "name": "stdout",
     "output_type": "stream",
     "text": [
      "Mean, Meadian and Standard Deviation for Journal \"Nucleic acids research\" are: 1149.0 , 852.0 and 442.9404474644419\n"
     ]
    }
   ],
   "source": [
    "#Nucleic acids research mean, median and standard deviation\n",
    "nucleicdata = data[data.Journal == 'Nucleic acids research']\n",
    "print('Mean, Meadian and Standard Deviation for Journal \"Nucleic acids research\" are:'\n",
    "      , nucleicdata.Cost.mean(),',',nucleicdata.Cost.median(),'and',nucleicdata.Cost.std())"
   ]
  },
  {
   "cell_type": "code",
   "execution_count": 25,
   "metadata": {},
   "outputs": [
    {
     "name": "stdout",
     "output_type": "stream",
     "text": [
      "Mean, Meadian and Standard Deviation for Journal \"Plos genetics\" are: 1589.4349975585938 , 1696.6699829101562 and 233.55106590828112\n"
     ]
    }
   ],
   "source": [
    "#Plos genetics mean, median and standard deviation\n",
    "plosgendata = data[data.Journal == 'Plos genetics']\n",
    "print('Mean, Meadian and Standard Deviation for Journal \"Plos genetics\" are:'\n",
    "      , plosgendata.Cost.mean(),',',plosgendata.Cost.median(),'and',plosgendata.Cost.std())"
   ]
  }
 ],
 "metadata": {
  "kernelspec": {
   "display_name": "Python 3",
   "language": "python",
   "name": "python3"
  },
  "language_info": {
   "codemirror_mode": {
    "name": "ipython",
    "version": 3
   },
   "file_extension": ".py",
   "mimetype": "text/x-python",
   "name": "python",
   "nbconvert_exporter": "python",
   "pygments_lexer": "ipython3",
   "version": "3.7.0"
  }
 },
 "nbformat": 4,
 "nbformat_minor": 2
}
