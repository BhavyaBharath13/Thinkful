{
 "cells": [
  {
   "cell_type": "markdown",
   "metadata": {},
   "source": [
    "## For each of these scenarios decide if you could use supervised or unsupervised techniques, or both!<br><br>\n",
    "\n",
    "**Define the likelihood that an individual will contract a specific disease**<br>\n",
    "Supervised Learning<br><br>\n",
    "**Translate a set of images into variables for modeling**<br>\n",
    "Unsupervised Learning<br><br>\n",
    "**An ecommerce company wants to identify power users**<br>\n",
    "Supervised Learning<br><br>\n",
    "**That same company wants to see shopping patterns in users**<br>\n",
    "Unsupervised Learning<br><br>\n",
    "**You want to reduce the number of variables inputting into your random forest model**<br>\n",
    "Unsupervised Learning"
   ]
  }
 ],
 "metadata": {
  "kernelspec": {
   "display_name": "Python 3",
   "language": "python",
   "name": "python3"
  },
  "language_info": {
   "codemirror_mode": {
    "name": "ipython",
    "version": 3
   },
   "file_extension": ".py",
   "mimetype": "text/x-python",
   "name": "python",
   "nbconvert_exporter": "python",
   "pygments_lexer": "ipython3",
   "version": "3.7.0"
  }
 },
 "nbformat": 4,
 "nbformat_minor": 2
}
