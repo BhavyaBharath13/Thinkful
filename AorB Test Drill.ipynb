{
 "cells": [
  {
   "cell_type": "markdown",
   "metadata": {},
   "source": [
    "1.\tDoes a new supplement help people sleep better?<br>\n",
    "**Two Versions:** One can be supplement A and other supplement B. One of these can also be an existing supplement (control version is B for our assumption).<br>\n",
    "**Sample:** Let us assume our sample is seniors between the age range 65-75 years who are patients of Dr Jane Doe and are having depression. We are diving this sample into two groups having equal number of men and women.<br>\n",
    "**Outcome Of Interest:** Is to see which of the two supplements are effective in providing at least 8 hours of uninterrupted sleep.<br>\n",
    "**Hypothesis:** We expect that the supplement A is more effective in providing a goodnight sleep as the formula is new and improved.<br>\n",
    "**Other Outcomes:** No of side effects that supplement A has vs supplement B. If it can help reduce the depression as well.<br><br>\n",
    "\n",
    "2.\tWill new uniforms help a gym's business?<br>\n",
    "**Two Versions:** One is all black tee with white logo and the other is red tee with white logo.<br>\n",
    "**Sample:** All the potential members of xyz branch in the month of January as first group and potential members of abc branch in the same month.<br>\n",
    "**Outcome Of Interest:** To determine the number of new membership signups in the coldest month of the year.<br>\n",
    "**Hypothesis:** We expect that the red tee with white logo can draw in more no of signups due to brightness in the color.<br> \n",
    "**Other Outcomes:** Ease of approaching or communicating with potential as well as existing members.<br><br>\n",
    "\n",
    "3.\tWill a new homepage improve my online exotic pet rental business?<br>\n",
    "**Two Versions:** The control version is the existing one with html, css and javascript. The new version is having html, css and ReactJS technologies.<br>\n",
    "**Sample:** All the members of my business split into two groups randomly. <br>\n",
    "**Outcome Of Interest:** To improve the business by increasing the number of pets rented for current month.<br>\n",
    "**Hypothesis:** I expect that the new homepage with new ReactJS technology will provide better business. <br> \n",
    "**Other Outcomes:** Ease of use of website. Click rate. Session information.<br><br>\n",
    "\n",
    "4.\tIf I put 'please read' in the email subject will more people read my emails?<br>\n",
    "**Two Versions:** Control version is the regular email with subject: “Changes in my schedule”. The new version is same mail with subject:** “Please read: Changes in my schedule”.<br>\n",
    "**Sample:** All the intended recipients of the email in two groups having equal number of family and non-family members.<br>\n",
    "**Outcome Of Interest:** Increase the “Read” mail number.<br>\n",
    "**Hypothesis:** I expect that if I put the “Please Read” tag before my email, number of reads will decrease as people might think this is some kind of forward just after glacing this tag.<br> \n",
    "**Other Outcomes:** Increase in the number of replys.\n",
    "\n"
   ]
  }
 ],
 "metadata": {
  "kernelspec": {
   "display_name": "Python 3",
   "language": "python",
   "name": "python3"
  },
  "language_info": {
   "codemirror_mode": {
    "name": "ipython",
    "version": 3
   },
   "file_extension": ".py",
   "mimetype": "text/x-python",
   "name": "python",
   "nbconvert_exporter": "python",
   "pygments_lexer": "ipython3",
   "version": "3.7.0"
  }
 },
 "nbformat": 4,
 "nbformat_minor": 2
}
