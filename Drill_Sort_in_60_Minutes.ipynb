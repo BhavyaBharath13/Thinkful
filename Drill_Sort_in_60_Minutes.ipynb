{
  "nbformat": 4,
  "nbformat_minor": 0,
  "metadata": {
    "colab": {
      "name": "Drill - Sort in 60 Minutes.ipynb",
      "version": "0.3.2",
      "provenance": []
    },
    "kernelspec": {
      "name": "python3",
      "display_name": "Python 3"
    }
  },
  "cells": [
    {
      "metadata": {
        "id": "rEboaiK4ZcXq",
        "colab_type": "code",
        "colab": {
          "base_uri": "https://localhost:8080/",
          "height": 35
        },
        "outputId": "d1bae8ef-8c6c-4234-e206-1cfa8ca24463"
      },
      "cell_type": "code",
      "source": [
        "import time\n",
        "import random\n",
        "\n",
        "# Set seed.\n",
        "random.seed(a=100)\n",
        "\n",
        "# Create our default list.\n",
        "short_list = list(random.sample(range(1000000), 10))\n",
        "long_list = list(random.sample(range(1000000), 10000))\n",
        "\n",
        "print(\"short_list: \",short_list)\n"
      ],
      "execution_count": 1,
      "outputs": [
        {
          "output_type": "stream",
          "text": [
            "short_list:  [152745, 481850, 477025, 997948, 808225, 183236, 739784, 412125, 767514, 366725]\n"
          ],
          "name": "stdout"
        }
      ]
    },
    {
      "metadata": {
        "id": "8v1FgP_Q7GOO",
        "colab_type": "code",
        "colab": {
          "base_uri": "https://localhost:8080/",
          "height": 254
        },
        "outputId": "d9071486-c1ae-4fe4-9fb9-b66bd2a72a1e"
      },
      "cell_type": "code",
      "source": [
        "# Python program for implementation of heap Sort \n",
        "  \n",
        "# To heapify subtree rooted at index i. \n",
        "# n is size of heap \n",
        "def heapify(arr, n, i): \n",
        "    largest = i # Initialize largest as root \n",
        "    l = 2 * i + 1     # left = 2*i + 1 \n",
        "    r = 2 * i + 2     # right = 2*i + 2 \n",
        "  \n",
        "    # See if left child of root exists and is \n",
        "    # greater than root \n",
        "    if l < n and arr[i] < arr[l]: \n",
        "        largest = l \n",
        "  \n",
        "    # See if right child of root exists and is \n",
        "    # greater than root \n",
        "    if r < n and arr[largest] < arr[r]: \n",
        "        largest = r \n",
        "  \n",
        "    # Change root, if needed \n",
        "    if largest != i: \n",
        "        arr[i],arr[largest] = arr[largest],arr[i] # swap \n",
        "  \n",
        "        # Heapify the root. \n",
        "        heapify(arr, n, largest) \n",
        "  \n",
        "# The main function to sort an array of given size \n",
        "def heapSort(arr): \n",
        "    n = len(arr) \n",
        "  \n",
        "    # Build a maxheap. \n",
        "    for i in range(n, -1, -1): \n",
        "        heapify(arr, n, i) \n",
        "  \n",
        "    # One by one extract elements \n",
        "    for i in range(n-1, 0, -1): \n",
        "        arr[i], arr[0] = arr[0], arr[i] # swap \n",
        "        heapify(arr, i, 0) \n",
        "  \n",
        "# Driver code to test above \n",
        "\n",
        "# Start the timer.\n",
        "start_time = time.time()\n",
        "\n",
        "heapSort(short_list) \n",
        "# Print time to show runtime.\n",
        "print(\"--- %s seconds ---\" % (time.time() - start_time))\n",
        "n = len(short_list) \n",
        "print (\"Sorted array is\") \n",
        "for i in range(n): \n",
        "    print (\"%d\" %short_list[i]), \n",
        "\n",
        "\n",
        "# Test on the long list.\n",
        "start_time = time.time()\n",
        "\n",
        "heapSort(long_list)\n",
        "\n",
        "print(\"--- %s seconds ---\" % (time.time() - start_time))"
      ],
      "execution_count": 2,
      "outputs": [
        {
          "output_type": "stream",
          "text": [
            "--- 7.987022399902344e-05 seconds ---\n",
            "Sorted array is\n",
            "152745\n",
            "183236\n",
            "366725\n",
            "412125\n",
            "477025\n",
            "481850\n",
            "739784\n",
            "767514\n",
            "808225\n",
            "997948\n",
            "--- 0.09020400047302246 seconds ---\n"
          ],
          "name": "stdout"
        }
      ]
    },
    {
      "metadata": {
        "id": "U3G_J0HeaLWO",
        "colab_type": "code",
        "colab": {}
      },
      "cell_type": "code",
      "source": [
        ""
      ],
      "execution_count": 0,
      "outputs": []
    }
  ]
}