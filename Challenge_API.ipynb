{
  "nbformat": 4,
  "nbformat_minor": 0,
  "metadata": {
    "colab": {
      "name": "Challenge-API.ipynb",
      "version": "0.3.2",
      "provenance": [],
      "collapsed_sections": []
    },
    "kernelspec": {
      "display_name": "Python 3",
      "language": "python",
      "name": "python3"
    }
  },
  "cells": [
    {
      "metadata": {
        "colab_type": "text",
        "id": "B1i-qXhzEKBl"
      },
      "cell_type": "markdown",
      "source": [
        "Scraping Challenge\n",
        "Do a little scraping or API-calling of your own. Pick a new website and see what you can get out of it. Expect that you'll run into bugs and blind alleys, and rely on your mentor to help you get through.\n",
        "\n",
        "Formally, your goal is to write a scraper that will:\n",
        "\n",
        "1) Return specific pieces of information (rather than just downloading a whole page)\n",
        "2) Iterate over multiple pages/queries\n",
        "3) Save the data to your computer\n",
        "\n",
        "Once you have your data, compute some statistical summaries and/or visualizations that give you some new insights into your scraping topic of interest. Write up a report from scraping code to summary and share it with your mentor."
      ]
    },
    {
      "metadata": {
        "colab_type": "code",
        "id": "vYNrbpYjC91O",
        "outputId": "0598ec51-f058-4a23-a9c0-edff0157d41b",
        "colab": {
          "base_uri": "https://localhost:8080/",
          "height": 35
        }
      },
      "cell_type": "code",
      "source": [
        "# Importing in each cell because of the kernel restarts.\n",
        "import scrapy\n",
        "from scrapy.crawler import CrawlerProcess\n",
        "from google.colab import files\n",
        "\n",
        "\n",
        "class CLSpider(scrapy.Spider):\n",
        "    # Naming the spider is important if you are running more than one spider of\n",
        "    # this class simultaneously.\n",
        "    name = \"CL\"\n",
        "    \n",
        "    # URL(s) to start with.\n",
        "    allowed_domains = [\"delaware.craigslist.org\"]\n",
        "    start_urls = [\n",
        "        'https://delaware.craigslist.org/d/apts-housing-for-rent/search/apa',\n",
        "    ]\n",
        "\n",
        "    # Use XPath to parse the response we get.\n",
        "    def parse(self, response):\n",
        "        \n",
        "        # Iterate over every <article> element on the page.\n",
        "        for posting in response.xpath('//p'):\n",
        "            \n",
        "            # Yield a dictionary with the values we want.\n",
        "            yield {\n",
        "                # This is the code to choose what we want to extract\n",
        "                # You can modify this with other Xpath expressions to extract other information from the site\n",
        "                #//a[has-class(\"productDescLink\")]/text()\n",
        "                'title': posting.xpath('a[@class=\"result-title hdrlnk\"]/text()').extract_first(),\n",
        "                'date': posting.xpath('time[@class=\"result-date\"]/text()').extract_first(),\n",
        "                'price': posting.xpath('span/span[@class=\"result-price\"]/text()').extract_first()\n",
        "            }\n",
        "        \n",
        "        # scrape all pages\n",
        "        next_page_relative_url = response.xpath('//span[@class=\"buttons\"]/a/@href').extract_first()\n",
        "        next_page_absolute_url = response.urljoin(next_page_relative_url)\n",
        "        \n",
        "\n",
        "# Tell the script how to run the crawler by passing in settings.\n",
        "process = CrawlerProcess({\n",
        "    'FEED_FORMAT': 'json',         # Store data in JSON format.\n",
        "    'FEED_URI': 'craigsde.json',  # Name our storage file.\n",
        "    'ROBOTSTXT_OBEY': True,\n",
        "    'USER_AGENT': 'ThinkfulDataScienceBootcampCrawler (thinkful.com)',\n",
        "    'AUTOTHROTTLE_ENABLED': True,\n",
        "    'HTTPCACHE_ENABLED': True,\n",
        "    'LOG_ENABLED': False           # Turn off logging for now.\n",
        "})\n",
        "\n",
        "# Start the crawler with our spider.\n",
        "process.crawl(CLSpider)\n",
        "process.start()\n",
        "files.download('craigsde.json')\n",
        "print('Success!')\n"
      ],
      "execution_count": 1,
      "outputs": [
        {
          "output_type": "stream",
          "text": [
            "Success!\n"
          ],
          "name": "stdout"
        }
      ]
    },
    {
      "metadata": {
        "colab_type": "code",
        "id": "fPvXX589LWUA",
        "outputId": "f35c8af7-e6db-427c-9887-3e5495e6e2d8",
        "colab": {
          "base_uri": "https://localhost:8080/",
          "height": 216
        }
      },
      "cell_type": "code",
      "source": [
        "import pandas as pd\n",
        "\n",
        "# Turning JSON into Data Frame\n",
        "craigs = pd.read_json('craigsde.json')\n",
        "print(craigs.shape)\n",
        "craigs.head()"
      ],
      "execution_count": 2,
      "outputs": [
        {
          "output_type": "stream",
          "text": [
            "(120, 3)\n"
          ],
          "name": "stdout"
        },
        {
          "output_type": "execute_result",
          "data": {
            "text/html": [
              "<div>\n",
              "<style scoped>\n",
              "    .dataframe tbody tr th:only-of-type {\n",
              "        vertical-align: middle;\n",
              "    }\n",
              "\n",
              "    .dataframe tbody tr th {\n",
              "        vertical-align: top;\n",
              "    }\n",
              "\n",
              "    .dataframe thead th {\n",
              "        text-align: right;\n",
              "    }\n",
              "</style>\n",
              "<table border=\"1\" class=\"dataframe\">\n",
              "  <thead>\n",
              "    <tr style=\"text-align: right;\">\n",
              "      <th></th>\n",
              "      <th>date</th>\n",
              "      <th>price</th>\n",
              "      <th>title</th>\n",
              "    </tr>\n",
              "  </thead>\n",
              "  <tbody>\n",
              "    <tr>\n",
              "      <th>0</th>\n",
              "      <td>Mar 31</td>\n",
              "      <td>$965</td>\n",
              "      <td>2 Bed 1.5 Bath - On-site Management, On-site m...</td>\n",
              "    </tr>\n",
              "    <tr>\n",
              "      <th>1</th>\n",
              "      <td>Mar 31</td>\n",
              "      <td>$1235</td>\n",
              "      <td>Live/Work apartments available, Open kitchens ...</td>\n",
              "    </tr>\n",
              "    <tr>\n",
              "      <th>2</th>\n",
              "      <td>Mar 31</td>\n",
              "      <td>$1200</td>\n",
              "      <td>House for rent - FWB</td>\n",
              "    </tr>\n",
              "    <tr>\n",
              "      <th>3</th>\n",
              "      <td>Mar 31</td>\n",
              "      <td>$2156</td>\n",
              "      <td>Riverfront Parks and Walkways, Dry-Cleaning Se...</td>\n",
              "    </tr>\n",
              "    <tr>\n",
              "      <th>4</th>\n",
              "      <td>Mar 31</td>\n",
              "      <td>$585</td>\n",
              "      <td>Fully Renovated !! 3bed/3bath new carpet and e...</td>\n",
              "    </tr>\n",
              "  </tbody>\n",
              "</table>\n",
              "</div>"
            ],
            "text/plain": [
              "     date  price                                              title\n",
              "0  Mar 31   $965  2 Bed 1.5 Bath - On-site Management, On-site m...\n",
              "1  Mar 31  $1235  Live/Work apartments available, Open kitchens ...\n",
              "2  Mar 31  $1200                               House for rent - FWB\n",
              "3  Mar 31  $2156  Riverfront Parks and Walkways, Dry-Cleaning Se...\n",
              "4  Mar 31   $585  Fully Renovated !! 3bed/3bath new carpet and e..."
            ]
          },
          "metadata": {
            "tags": []
          },
          "execution_count": 2
        }
      ]
    },
    {
      "metadata": {
        "id": "VESC5EmdQ2Hw",
        "colab_type": "code",
        "colab": {
          "base_uri": "https://localhost:8080/",
          "height": 198
        },
        "outputId": "57c40c3a-7cae-4e92-ab06-a8a9fb3db1a7"
      },
      "cell_type": "code",
      "source": [
        "import re\n",
        "\n",
        "craigs.price = craigs.price.map(lambda x: None if x == None else int(re.sub('\\$', '', str(x))))\n",
        "craigs.head()\n"
      ],
      "execution_count": 3,
      "outputs": [
        {
          "output_type": "execute_result",
          "data": {
            "text/html": [
              "<div>\n",
              "<style scoped>\n",
              "    .dataframe tbody tr th:only-of-type {\n",
              "        vertical-align: middle;\n",
              "    }\n",
              "\n",
              "    .dataframe tbody tr th {\n",
              "        vertical-align: top;\n",
              "    }\n",
              "\n",
              "    .dataframe thead th {\n",
              "        text-align: right;\n",
              "    }\n",
              "</style>\n",
              "<table border=\"1\" class=\"dataframe\">\n",
              "  <thead>\n",
              "    <tr style=\"text-align: right;\">\n",
              "      <th></th>\n",
              "      <th>date</th>\n",
              "      <th>price</th>\n",
              "      <th>title</th>\n",
              "    </tr>\n",
              "  </thead>\n",
              "  <tbody>\n",
              "    <tr>\n",
              "      <th>0</th>\n",
              "      <td>Mar 31</td>\n",
              "      <td>965</td>\n",
              "      <td>2 Bed 1.5 Bath - On-site Management, On-site m...</td>\n",
              "    </tr>\n",
              "    <tr>\n",
              "      <th>1</th>\n",
              "      <td>Mar 31</td>\n",
              "      <td>1235</td>\n",
              "      <td>Live/Work apartments available, Open kitchens ...</td>\n",
              "    </tr>\n",
              "    <tr>\n",
              "      <th>2</th>\n",
              "      <td>Mar 31</td>\n",
              "      <td>1200</td>\n",
              "      <td>House for rent - FWB</td>\n",
              "    </tr>\n",
              "    <tr>\n",
              "      <th>3</th>\n",
              "      <td>Mar 31</td>\n",
              "      <td>2156</td>\n",
              "      <td>Riverfront Parks and Walkways, Dry-Cleaning Se...</td>\n",
              "    </tr>\n",
              "    <tr>\n",
              "      <th>4</th>\n",
              "      <td>Mar 31</td>\n",
              "      <td>585</td>\n",
              "      <td>Fully Renovated !! 3bed/3bath new carpet and e...</td>\n",
              "    </tr>\n",
              "  </tbody>\n",
              "</table>\n",
              "</div>"
            ],
            "text/plain": [
              "     date  price                                              title\n",
              "0  Mar 31    965  2 Bed 1.5 Bath - On-site Management, On-site m...\n",
              "1  Mar 31   1235  Live/Work apartments available, Open kitchens ...\n",
              "2  Mar 31   1200                               House for rent - FWB\n",
              "3  Mar 31   2156  Riverfront Parks and Walkways, Dry-Cleaning Se...\n",
              "4  Mar 31    585  Fully Renovated !! 3bed/3bath new carpet and e..."
            ]
          },
          "metadata": {
            "tags": []
          },
          "execution_count": 3
        }
      ]
    },
    {
      "metadata": {
        "id": "8Aw5te2nY5cZ",
        "colab_type": "code",
        "colab": {
          "base_uri": "https://localhost:8080/",
          "height": 35
        },
        "outputId": "5f090c8d-e96b-4ae1-8a73-f6358541bf27"
      },
      "cell_type": "code",
      "source": [
        "de_price = craigs[craigs.price>0]\n",
        "average_price = de_price.price.mean()\n",
        "\n",
        "print(average_price)"
      ],
      "execution_count": 4,
      "outputs": [
        {
          "output_type": "stream",
          "text": [
            "1290.3\n"
          ],
          "name": "stdout"
        }
      ]
    },
    {
      "metadata": {
        "id": "kmfhU3KnZxve",
        "colab_type": "code",
        "colab": {
          "base_uri": "https://localhost:8080/",
          "height": 295
        },
        "outputId": "97afdc92-94eb-4e08-d948-b8b9dd0cceab"
      },
      "cell_type": "code",
      "source": [
        "import matplotlib.pyplot as plt\n",
        "%matplotlib inline\n",
        "\n",
        "plt.hist(de_price.price, bins=5)\n",
        "plt.xlabel('Space Price')\n",
        "plt.ylabel('Count')\n",
        "plt.title('Price of Housing in Delaware Craigslist')\n",
        "plt.show()"
      ],
      "execution_count": 5,
      "outputs": [
        {
          "output_type": "display_data",
          "data": {
            "image/png": "[encoded data removed]",
            "text/plain": [
              "<Figure size 432x288 with 1 Axes>"
            ]
          },
          "metadata": {
            "tags": []
          }
        }
      ]
    },
    {
      "metadata": {
        "id": "gm1kAQ4Vfim2",
        "colab_type": "code",
        "colab": {
          "base_uri": "https://localhost:8080/",
          "height": 552
        },
        "outputId": "0820bcd3-eaf0-45c6-d612-dd7e104728e2"
      },
      "cell_type": "code",
      "source": [
        "import scipy.stats as stats\n",
        "import seaborn as sns\n",
        "plt.figure(figsize=(10, 8))\n",
        "sns.distplot(de_price.price, bins = 10, fit = stats.norm,color='r');"
      ],
      "execution_count": 7,
      "outputs": [
        {
          "output_type": "stream",
          "text": [
            "/usr/local/lib/python3.6/dist-packages/matplotlib/axes/_axes.py:6521: MatplotlibDeprecationWarning: \n",
            "The 'normed' kwarg was deprecated in Matplotlib 2.1 and will be removed in 3.1. Use 'density' instead.\n",
            "  alternative=\"'density'\", removal=\"3.1\")\n"
          ],
          "name": "stderr"
        },
        {
          "output_type": "display_data",
          "data": {
            "image/png": "[encoded data removed]",
            "text/plain": [
              "<Figure size 720x576 with 1 Axes>"
            ]
          },
          "metadata": {
            "tags": []
          }
        }
      ]
    },
    {
      "metadata": {
        "id": "vr1XnlA6fKoP",
        "colab_type": "text"
      },
      "cell_type": "markdown",
      "source": [
        "I was not able to get the data from all pages which would be too much. We can see that the average price of a rental house is around $1300 in Delaware on Craigslist."
      ]
    }
  ]
}