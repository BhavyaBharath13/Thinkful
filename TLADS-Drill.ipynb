{
 "cells": [
  {
   "cell_type": "markdown",
   "metadata": {},
   "source": [
    "**Categorize each of the variables in the ESS dataset as categorical or continuous, and if continuous as ordinal, interval, or ratio variables. Check your work with your mentor, and discuss what that information might imply for feature engineering with this data.** <br>\n",
    "\n",
    "**cntry:** Categorical<br><br>\n",
    "**year:** Contineous: Ordinal<br><br>\n",
    "**idno:** Contineous: Ratio<br><br>\n",
    "**tvtot:** Contineous: Ordinal<br><br>\n",
    "**ppltrst:** Contineous: Ordinal<br><br>\n",
    "**pplfair:** Contineous: Ordinal<br><br>\n",
    "**pplhlp:** Contineous: Ordinal<br><br>\n",
    "**happy:** Contineous: Ordinal<br><br>\n",
    "**sclmeet:** Contineous: Ordinal<br><br>\n",
    "**sclact:** Contineous: Ordinal<br><br>\n",
    "**gndr:** Contineous: Ordinal<br><br>\n",
    "**agea:** Contineous: Ratio<br><br>\n",
    "**partner:** Contineous: Ordinal"
   ]
  }
 ],
 "metadata": {
  "kernelspec": {
   "display_name": "Python 3",
   "language": "python",
   "name": "python3"
  },
  "language_info": {
   "codemirror_mode": {
    "name": "ipython",
    "version": 3
   },
   "file_extension": ".py",
   "mimetype": "text/x-python",
   "name": "python",
   "nbconvert_exporter": "python",
   "pygments_lexer": "ipython3",
   "version": "3.7.0"
  }
 },
 "nbformat": 4,
 "nbformat_minor": 2
}
