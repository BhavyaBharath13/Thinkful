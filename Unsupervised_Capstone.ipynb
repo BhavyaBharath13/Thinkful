{
  "nbformat": 4,
  "nbformat_minor": 0,
  "metadata": {
    "colab": {
      "name": "Unsupervised Capstone.ipynb",
      "version": "0.3.2",
      "provenance": [],
      "collapsed_sections": []
    },
    "kernelspec": {
      "name": "python3",
      "display_name": "Python 3"
    }
  },
  "cells": [
    {
      "metadata": {
        "id": "Q7EisMzzF0eU",
        "colab_type": "text"
      },
      "cell_type": "markdown",
      "source": [
        "#Dataset : PLOS API\n",
        "\n",
        "This dataset is derived from Public Library of Science. These are downloads for the abstrats found on the scientists/physicists : Isaac Newton, Niels Bohr, James Maxwell, Galileo Galeli, Johannes Kepler, Stephen Hawking, Marie Curie, Paul Dirac, Daniel Bernoulli and Leonhard Euler. This was a series of requests and responses top the PLOS API."
      ]
    },
    {
      "metadata": {
        "id": "3J8AiJQCC4CE",
        "colab_type": "code",
        "colab": {}
      },
      "cell_type": "code",
      "source": [
        "%matplotlib inline\n",
        "import numpy as np\n",
        "import pandas as pd\n",
        "import scipy\n",
        "import sklearn\n",
        "import matplotlib.pyplot as plt\n",
        "import seaborn as sns\n",
        "import re\n",
        "import requests\n",
        "import spacy\n",
        "from collections import Counter\n",
        "from sklearn.cluster import KMeans\n",
        "from sklearn.preprocessing import normalize\n",
        "from sklearn.decomposition import PCA\n",
        "from sklearn.cluster import MeanShift, estimate_bandwidth\n",
        "from sklearn.cluster import SpectralClustering\n",
        "from sklearn import ensemble\n",
        "from sklearn.model_selection import train_test_split\n",
        "from sklearn.linear_model import LogisticRegression\n",
        "from sklearn.svm import SVC\n",
        "from mpl_toolkits.mplot3d import Axes3D\n",
        "from sklearn.model_selection import cross_val_score\n",
        "from string import punctuation\n",
        "from sklearn import metrics\n",
        "from scipy.spatial.distance import cdist\n",
        "nlp = spacy.load('en')\n",
        "from sklearn.feature_extraction.text import TfidfVectorizer"
      ],
      "execution_count": 0,
      "outputs": []
    },
    {
      "metadata": {
        "id": "JAS0d8azC5PC",
        "colab_type": "code",
        "colab": {}
      },
      "cell_type": "code",
      "source": [
        "#Requests to PLOS API\n",
        "\n",
        "response1 = requests.get(r'http://api.plos.org/search?q=title:\"newton\"&fl=abstract&wt=json&api_key=7ujScsFm2osdMw6ozx4g')\n",
        "response2 = requests.get(r'http://api.plos.org/search?q=title:\"bohr\"&fl=abstract&wt=json&api_key=7ujScsFm2osdMw6ozx4g')\n",
        "response3 = requests.get(r'http://api.plos.org/search?q=title:\"maxwell\"&fl=abstract&wt=json&api_key=7ujScsFm2osdMw6ozx4g')\n",
        "response4 = requests.get(r'http://api.plos.org/search?q=title:\"galileo\"&fl=abstract&wt=json&api_key=7ujScsFm2osdMw6ozx4g')\n",
        "response5 = requests.get(r'http://api.plos.org/search?q=title:\"kepler\"&fl=abstract&wt=json&api_key=7ujScsFm2osdMw6ozx4g')\n",
        "response6 = requests.get(r'http://api.plos.org/search?q=title:\"hawking\"&fl=abstract&wt=json&api_key=7ujScsFm2osdMw6ozx4g')\n",
        "response7 = requests.get(r'http://api.plos.org/search?q=title:\"curie\"&fl=abstract&wt=json&api_key=7ujScsFm2osdMw6ozx4g')\n",
        "response8 = requests.get(r'http://api.plos.org/search?q=title:\"dirac\"&fl=abstract&wt=json&api_key=7ujScsFm2osdMw6ozx4g')\n",
        "response9 = requests.get(r'http://api.plos.org/search?q=title:\"bernoulli\"&fl=abstract&wt=json&api_key=7ujScsFm2osdMw6ozx4g')\n",
        "response10 = requests.get(r'http://api.plos.org/search?q=title:\"euler\"&fl=abstract&wt=json&api_key=7ujScsFm2osdMw6ozx4g')"
      ],
      "execution_count": 0,
      "outputs": []
    },
    {
      "metadata": {
        "id": "RDLJfLAIIQzR",
        "colab_type": "code",
        "colab": {}
      },
      "cell_type": "code",
      "source": [
        "#Response we got in JSON stores as raw format\n",
        "newton_raw = response1.json()\n",
        "bohr_raw = response2.json()\n",
        "maxwell_raw = response3.json()\n",
        "galileo_raw = response4.json()\n",
        "kepler_raw = response5.json()\n",
        "hawking_raw = response6.json()\n",
        "curie_raw = response7.json()\n",
        "dirac_raw = response8.json()\n",
        "bernoulli_raw = response9.json()\n",
        "euler_raw = response10.json()"
      ],
      "execution_count": 0,
      "outputs": []
    },
    {
      "metadata": {
        "id": "S_C6anPWI1OB",
        "colab_type": "code",
        "outputId": "59c1dd23-d058-4188-ab20-610821b8a9ef",
        "colab": {
          "base_uri": "https://localhost:8080/",
          "height": 187
        }
      },
      "cell_type": "code",
      "source": [
        "#Remove all \\\\ from the call\n",
        "newton = ''\n",
        "for article in newton_raw['response']['docs']:\n",
        "    art = re.sub(r'[\\[\\]]','', str(article['abstract']))\n",
        "    newton = newton + art\n",
        "\n",
        "print(\"newton: \", newton[0:200])    \n",
        "\n",
        "bohr = ''\n",
        "for article in bohr_raw['response']['docs']:\n",
        "    art = re.sub(r'[\\[\\]]','', str(article['abstract']))\n",
        "    bohr = bohr + art\n",
        "\n",
        "print(\"bohr: \", bohr[0:200])    \n",
        "\n",
        "maxwell = ''\n",
        "for article in maxwell_raw['response']['docs']:\n",
        "    art = re.sub(r'[\\[\\]]','', str(article['abstract']))\n",
        "    maxwell = maxwell + art\n",
        "\n",
        "print(\"maxwell: \", maxwell[0:200])    \n",
        "\n",
        "galileo = ''\n",
        "for article in galileo_raw['response']['docs']:\n",
        "    art = re.sub(r'[\\[\\]]','', str(article['abstract']))\n",
        "    galileo = galileo + art\n",
        "\n",
        "print(\"galileo: \", galileo[0:200])    \n",
        "\n",
        "kepler = ''\n",
        "for article in kepler_raw['response']['docs']:\n",
        "    art = re.sub(r'[\\[\\]]','', str(article['abstract']))\n",
        "    kepler = kepler + art\n",
        "\n",
        "print(\"kepler: \", kepler[0:200])    \n",
        "\n",
        "hawking = ''\n",
        "for article in hawking_raw['response']['docs']:\n",
        "    art = re.sub(r'[\\[\\]]','', str(article['abstract']))\n",
        "    hawking = hawking + art\n",
        "\n",
        "print(\"hawking: \", hawking[0:200])    \n",
        "\n",
        "curie = ''\n",
        "for article in curie_raw['response']['docs']:\n",
        "    art = re.sub(r'[\\[\\]]','', str(article['abstract']))\n",
        "    curie = curie + art\n",
        "\n",
        "print(\"curie: \", curie[0:200])    \n",
        "\n",
        "dirac = ''\n",
        "for article in dirac_raw['response']['docs']:\n",
        "    art = re.sub(r'[\\[\\]]','', str(article['abstract']))\n",
        "    dirac = dirac + art\n",
        "\n",
        "print(\"dirac: \", dirac[0:200])    \n",
        "\n",
        "bernoulli = ''\n",
        "for article in bernoulli_raw['response']['docs']:\n",
        "    art = re.sub(r'[\\[\\]]','', str(article['abstract']))\n",
        "    bernoulli = bernoulli + art\n",
        "\n",
        "print(\"bernoulli: \", bernoulli[0:200])    \n",
        "\n",
        "euler = ''\n",
        "for article in euler_raw['response']['docs']:\n",
        "    art = re.sub(r'[\\[\\]]','', str(article['abstract']))\n",
        "    euler = euler + art\n",
        "\n",
        "print(\"euler: \", euler[0:200])    "
      ],
      "execution_count": 4,
      "outputs": [
        {
          "output_type": "stream",
          "text": [
            "newton:  '\\nThis paper presents an in silico optimization method of metabolic pathway production. The metabolic pathway can be represented by a mathematical model known as the generalized mass action model, wh\n",
            "bohr:  'Background: Carbon dioxide (CO2) therapy refers to the transcutaneous administration of CO2 for therapeutic purposes. This effect has been explained by an increase in the pressure of O2 in tissues kn\n",
            "maxwell:  '\\nThe paper proposes a fractional generalization of the Maxwell and Kelvin-Voigt rheological models for a description of dynamic behavior of biopolymer materials. It was found that the rheological mo\n",
            "galileo:  \"Background: Transposable elements (TEs) are responsible for the generation of chromosomal inversions in several groups of organisms. However, in Drosophila and other Dipterans, where inversions are a\n",
            "kepler:  '\\nThe Ligon-Schaaf regularization (LS mapping) was introduced in 1976 and has been used several times. However, we are not aware of any direct usage of the inverse mapping, perhaps since it appears a\n",
            "hawking:  '\\nSwainson’s hawks (Buteo swainsoni) are long-distance migratory raptors that nest primarily in isolated trees located in areas of high grassland density. In recent years, anthropogenic conversion of\n",
            "curie:  \"\\nWe analysed the peer review of grant proposals under Marie Curie Actions, a major EU research funding instrument, which involves two steps: an independent assessment (Individual Evaluation Report, \n",
            "dirac:  '\\nA powerful way to separate signal from noise in biology is to convert the molecular data from individual genes or proteins into an analysis of comparative biological network behaviors. One of the l\n",
            "bernoulli:  '\\nThe linear theory of thermoelastic damping (TED) has been extensively developed over the past eight decades, but relatively little is known about the different types of nonlinearities that are asso\n",
            "euler:  \"\\n        DNA polyhedra are cage-like architectures based on interlocked and interlinked DNA strands. We propose a formula which unites the basic features of these entangled structures. It is based o\n"
          ],
          "name": "stdout"
        }
      ]
    },
    {
      "metadata": {
        "id": "sFlgfb34Ksdv",
        "colab_type": "code",
        "colab": {}
      },
      "cell_type": "code",
      "source": [
        "#Function for cleaning the text\n",
        "def text_cleaner(text):\n",
        "    text = re.sub(r'--', ' ', text)\n",
        "    text = re.sub(r'[\\']', '', text)\n",
        "    text = re.sub(r'[\\\\]', '', text)\n",
        "    text = re.sub(r'\\d', '', text)\n",
        "    return text"
      ],
      "execution_count": 0,
      "outputs": []
    },
    {
      "metadata": {
        "id": "nNdccxraUvsw",
        "colab_type": "code",
        "colab": {}
      },
      "cell_type": "code",
      "source": [
        "newton_clean = text_cleaner(newton)\n",
        "bohr_clean = text_cleaner(bohr)\n",
        "maxwell_clean = text_cleaner(maxwell)\n",
        "galileo_clean = text_cleaner(galileo)\n",
        "kepler_clean = text_cleaner(kepler)\n",
        "hawking_clean = text_cleaner(hawking)\n",
        "curie_clean = text_cleaner(curie)\n",
        "dirac_clean = text_cleaner(dirac)\n",
        "bernoulli_clean = text_cleaner(bernoulli)\n",
        "euler_clean = text_cleaner(euler)"
      ],
      "execution_count": 0,
      "outputs": []
    },
    {
      "metadata": {
        "id": "GYrXgtPHVIoA",
        "colab_type": "code",
        "outputId": "03c6752f-a336-467d-cba7-ab0318671cf4",
        "colab": {
          "base_uri": "https://localhost:8080/",
          "height": 187
        }
      },
      "cell_type": "code",
      "source": [
        "#Word count for each of the documents.\n",
        "print('newton :',len(newton_clean))\n",
        "print('bohr :',len(bohr_clean))\n",
        "print('maxwell :',len(maxwell_clean))\n",
        "print('galileo :',len(galileo_clean))\n",
        "print('kepler :',len(kepler_clean))\n",
        "print('hawking :',len(hawking_clean))\n",
        "print('curie :',len(curie_clean))\n",
        "print('dirac :',len(dirac_clean))\n",
        "print('bernoulli :',len(bernoulli_clean))\n",
        "print('euler :',len(euler_clean))"
      ],
      "execution_count": 7,
      "outputs": [
        {
          "output_type": "stream",
          "text": [
            "newton : 5722\n",
            "bohr : 1875\n",
            "maxwell : 11439\n",
            "galileo : 3298\n",
            "kepler : 4028\n",
            "hawking : 20919\n",
            "curie : 1646\n",
            "dirac : 3074\n",
            "bernoulli : 4269\n",
            "euler : 5865\n"
          ],
          "name": "stdout"
        }
      ]
    },
    {
      "metadata": {
        "id": "wSncM3YCV3Do",
        "colab_type": "code",
        "colab": {}
      },
      "cell_type": "code",
      "source": [
        "#Running nlp on each of the documents\n",
        "newton_doc = nlp(newton_clean)\n",
        "bohr_doc = nlp(bohr_clean)\n",
        "maxwell_doc = nlp(maxwell_clean)\n",
        "galileo_doc = nlp(galileo_clean)\n",
        "kepler_doc = nlp(kepler_clean)\n",
        "hawking_doc = nlp(hawking_clean)\n",
        "curie_doc = nlp(curie_clean)\n",
        "dirac_doc = nlp(dirac_clean)\n",
        "bernoulli_doc = nlp(bernoulli_clean)\n",
        "euler_doc = nlp(euler_clean)"
      ],
      "execution_count": 0,
      "outputs": []
    },
    {
      "metadata": {
        "id": "pmwLWBd1XPYJ",
        "colab_type": "code",
        "outputId": "18e98db7-792c-45f2-ea22-84bd0697e681",
        "colab": {
          "base_uri": "https://localhost:8080/",
          "height": 34
        }
      },
      "cell_type": "code",
      "source": [
        "#Converting the documents into sentences\n",
        "newton_sents = [[sent, 'Newton'] for sent in newton_doc.sents]\n",
        "bohr_sents = [[sent, 'Bohr'] for sent in bohr_doc.sents]\n",
        "maxwell_sents = [[sent, 'Maxwell'] for sent in maxwell_doc.sents]\n",
        "galileo_sents = [[sent, 'Galileo '] for sent in galileo_doc.sents]\n",
        "kepler_sents = [[sent, 'Kepler'] for sent in kepler_doc.sents]\n",
        "hawking_sents = [[sent, 'Hawking'] for sent in hawking_doc.sents]\n",
        "curie_sents = [[sent, 'Curie'] for sent in curie_doc.sents]\n",
        "dirac_sents = [[sent, 'Dirac'] for sent in dirac_doc.sents]\n",
        "bernoulli_sents = [[sent, 'Bernoulli'] for sent in bernoulli_doc.sents]\n",
        "euler_sents = [[sent, 'Euler'] for sent in euler_doc.sents]\n",
        "\n",
        "sentences = pd.DataFrame(newton_sents + bohr_sents + maxwell_sents + galileo_sents + kepler_sents + hawking_sents + curie_sents + dirac_sents + bernoulli_sents + euler_sents)\n",
        "print(len(sentences))"
      ],
      "execution_count": 9,
      "outputs": [
        {
          "output_type": "stream",
          "text": [
            "410\n"
          ],
          "name": "stdout"
        }
      ]
    },
    {
      "metadata": {
        "id": "-l7hZY6mYWJR",
        "colab_type": "code",
        "outputId": "4506595c-cd0f-4b9e-aa43-335c0d212c1c",
        "colab": {
          "base_uri": "https://localhost:8080/",
          "height": 204
        }
      },
      "cell_type": "code",
      "source": [
        "sentences.head()"
      ],
      "execution_count": 10,
      "outputs": [
        {
          "output_type": "execute_result",
          "data": {
            "text/html": [
              "<div>\n",
              "<style scoped>\n",
              "    .dataframe tbody tr th:only-of-type {\n",
              "        vertical-align: middle;\n",
              "    }\n",
              "\n",
              "    .dataframe tbody tr th {\n",
              "        vertical-align: top;\n",
              "    }\n",
              "\n",
              "    .dataframe thead th {\n",
              "        text-align: right;\n",
              "    }\n",
              "</style>\n",
              "<table border=\"1\" class=\"dataframe\">\n",
              "  <thead>\n",
              "    <tr style=\"text-align: right;\">\n",
              "      <th></th>\n",
              "      <th>0</th>\n",
              "      <th>1</th>\n",
              "    </tr>\n",
              "  </thead>\n",
              "  <tbody>\n",
              "    <tr>\n",
              "      <th>0</th>\n",
              "      <td>(nThis, paper, presents, an, in, silico, optim...</td>\n",
              "      <td>Newton</td>\n",
              "    </tr>\n",
              "    <tr>\n",
              "      <th>1</th>\n",
              "      <td>(The, metabolic, pathway, can, be, represented...</td>\n",
              "      <td>Newton</td>\n",
              "    </tr>\n",
              "    <tr>\n",
              "      <th>2</th>\n",
              "      <td>(The, optimization, process, becomes, difficul...</td>\n",
              "      <td>Newton</td>\n",
              "    </tr>\n",
              "    <tr>\n",
              "      <th>3</th>\n",
              "      <td>(To, deal, with, this, situation, ,, this, pap...</td>\n",
              "      <td>Newton</td>\n",
              "    </tr>\n",
              "    <tr>\n",
              "      <th>4</th>\n",
              "      <td>(The, NCGA, used, Newton, method, in, dealing,...</td>\n",
              "      <td>Newton</td>\n",
              "    </tr>\n",
              "  </tbody>\n",
              "</table>\n",
              "</div>"
            ],
            "text/plain": [
              "                                                   0       1\n",
              "0  (nThis, paper, presents, an, in, silico, optim...  Newton\n",
              "1  (The, metabolic, pathway, can, be, represented...  Newton\n",
              "2  (The, optimization, process, becomes, difficul...  Newton\n",
              "3  (To, deal, with, this, situation, ,, this, pap...  Newton\n",
              "4  (The, NCGA, used, Newton, method, in, dealing,...  Newton"
            ]
          },
          "metadata": {
            "tags": []
          },
          "execution_count": 10
        }
      ]
    },
    {
      "metadata": {
        "id": "jj4KdhOEZTF5",
        "colab_type": "code",
        "colab": {}
      },
      "cell_type": "code",
      "source": [
        "#Converting to Dataframe\n",
        "df = pd.DataFrame()\n",
        "df['text_sentence'] = sentences[0]\n",
        "df['text_source'] = sentences[1]\n",
        "df['sent_length'] = df.text_sentence.map(lambda x: len(x))"
      ],
      "execution_count": 0,
      "outputs": []
    },
    {
      "metadata": {
        "id": "JyafGeW1eW6n",
        "colab_type": "code",
        "colab": {}
      },
      "cell_type": "code",
      "source": [
        "#Find the number of punctuations, adverbs, verbs and nouns\n",
        "sentences = df.text_sentence\n",
        "\n",
        "punc_count = []\n",
        "for sent in sentences:\n",
        "    punc = 0\n",
        "    for token in sent:\n",
        "        if token.pos_ == 'PUNCT':\n",
        "            punc +=1\n",
        "    punc_count.append(punc)\n",
        "\n",
        "df['punc_count'] = punc_count\n",
        "\n",
        "adv_count = []\n",
        "for sent in sentences:\n",
        "    advs = 0\n",
        "    for token in sent:\n",
        "        if token.pos_ == 'ADV':\n",
        "            advs +=1\n",
        "    adv_count.append(advs)\n",
        "\n",
        "df['adv_count'] = adv_count\n",
        "\n",
        "verb_count = []\n",
        "for sent in sentences:\n",
        "    verb = 0\n",
        "    for token in sent:\n",
        "        if token.pos_ == 'VERB':\n",
        "            verb +=1\n",
        "    verb_count.append(verb)\n",
        "\n",
        "df['verb_count'] = verb_count\n",
        "\n",
        "noun_count = []\n",
        "for sent in sentences:\n",
        "    noun = 0\n",
        "    for token in sent:\n",
        "        if token.pos_ == 'NOUN':\n",
        "            noun +=1\n",
        "    noun_count.append(noun)\n",
        "\n",
        "df['noun_count'] = noun_count\n"
      ],
      "execution_count": 0,
      "outputs": []
    },
    {
      "metadata": {
        "id": "gIoCMvicmPoP",
        "colab_type": "text"
      },
      "cell_type": "markdown",
      "source": [
        "# **Exploratory Data Analysis**\n",
        "\n",
        "Let us see how our data looks like"
      ]
    },
    {
      "metadata": {
        "id": "kfmNW62QgAU-",
        "colab_type": "code",
        "outputId": "9ddb802b-80ea-46d4-e030-baa85538231e",
        "colab": {
          "base_uri": "https://localhost:8080/",
          "height": 204
        }
      },
      "cell_type": "code",
      "source": [
        "df.head()"
      ],
      "execution_count": 13,
      "outputs": [
        {
          "output_type": "execute_result",
          "data": {
            "text/html": [
              "<div>\n",
              "<style scoped>\n",
              "    .dataframe tbody tr th:only-of-type {\n",
              "        vertical-align: middle;\n",
              "    }\n",
              "\n",
              "    .dataframe tbody tr th {\n",
              "        vertical-align: top;\n",
              "    }\n",
              "\n",
              "    .dataframe thead th {\n",
              "        text-align: right;\n",
              "    }\n",
              "</style>\n",
              "<table border=\"1\" class=\"dataframe\">\n",
              "  <thead>\n",
              "    <tr style=\"text-align: right;\">\n",
              "      <th></th>\n",
              "      <th>text_sentence</th>\n",
              "      <th>text_source</th>\n",
              "      <th>sent_length</th>\n",
              "      <th>punc_count</th>\n",
              "      <th>adv_count</th>\n",
              "      <th>verb_count</th>\n",
              "      <th>noun_count</th>\n",
              "    </tr>\n",
              "  </thead>\n",
              "  <tbody>\n",
              "    <tr>\n",
              "      <th>0</th>\n",
              "      <td>(nThis, paper, presents, an, in, silico, optim...</td>\n",
              "      <td>Newton</td>\n",
              "      <td>13</td>\n",
              "      <td>1</td>\n",
              "      <td>0</td>\n",
              "      <td>1</td>\n",
              "      <td>6</td>\n",
              "    </tr>\n",
              "    <tr>\n",
              "      <th>1</th>\n",
              "      <td>(The, metabolic, pathway, can, be, represented...</td>\n",
              "      <td>Newton</td>\n",
              "      <td>27</td>\n",
              "      <td>2</td>\n",
              "      <td>0</td>\n",
              "      <td>6</td>\n",
              "      <td>6</td>\n",
              "    </tr>\n",
              "    <tr>\n",
              "      <th>2</th>\n",
              "      <td>(The, optimization, process, becomes, difficul...</td>\n",
              "      <td>Newton</td>\n",
              "      <td>21</td>\n",
              "      <td>1</td>\n",
              "      <td>1</td>\n",
              "      <td>3</td>\n",
              "      <td>6</td>\n",
              "    </tr>\n",
              "    <tr>\n",
              "      <th>3</th>\n",
              "      <td>(To, deal, with, this, situation, ,, this, pap...</td>\n",
              "      <td>Newton</td>\n",
              "      <td>25</td>\n",
              "      <td>5</td>\n",
              "      <td>1</td>\n",
              "      <td>2</td>\n",
              "      <td>5</td>\n",
              "    </tr>\n",
              "    <tr>\n",
              "      <th>4</th>\n",
              "      <td>(The, NCGA, used, Newton, method, in, dealing,...</td>\n",
              "      <td>Newton</td>\n",
              "      <td>24</td>\n",
              "      <td>3</td>\n",
              "      <td>1</td>\n",
              "      <td>3</td>\n",
              "      <td>5</td>\n",
              "    </tr>\n",
              "  </tbody>\n",
              "</table>\n",
              "</div>"
            ],
            "text/plain": [
              "                                       text_sentence text_source  sent_length  \\\n",
              "0  (nThis, paper, presents, an, in, silico, optim...      Newton           13   \n",
              "1  (The, metabolic, pathway, can, be, represented...      Newton           27   \n",
              "2  (The, optimization, process, becomes, difficul...      Newton           21   \n",
              "3  (To, deal, with, this, situation, ,, this, pap...      Newton           25   \n",
              "4  (The, NCGA, used, Newton, method, in, dealing,...      Newton           24   \n",
              "\n",
              "   punc_count  adv_count  verb_count  noun_count  \n",
              "0           1          0           1           6  \n",
              "1           2          0           6           6  \n",
              "2           1          1           3           6  \n",
              "3           5          1           2           5  \n",
              "4           3          1           3           5  "
            ]
          },
          "metadata": {
            "tags": []
          },
          "execution_count": 13
        }
      ]
    },
    {
      "metadata": {
        "id": "z-KiZL_wgN_Y",
        "colab_type": "code",
        "outputId": "fe54b93a-a09a-4de0-d728-9967dce27cd5",
        "colab": {
          "base_uri": "https://localhost:8080/",
          "height": 297
        }
      },
      "cell_type": "code",
      "source": [
        "df.describe()"
      ],
      "execution_count": 14,
      "outputs": [
        {
          "output_type": "execute_result",
          "data": {
            "text/html": [
              "<div>\n",
              "<style scoped>\n",
              "    .dataframe tbody tr th:only-of-type {\n",
              "        vertical-align: middle;\n",
              "    }\n",
              "\n",
              "    .dataframe tbody tr th {\n",
              "        vertical-align: top;\n",
              "    }\n",
              "\n",
              "    .dataframe thead th {\n",
              "        text-align: right;\n",
              "    }\n",
              "</style>\n",
              "<table border=\"1\" class=\"dataframe\">\n",
              "  <thead>\n",
              "    <tr style=\"text-align: right;\">\n",
              "      <th></th>\n",
              "      <th>sent_length</th>\n",
              "      <th>punc_count</th>\n",
              "      <th>adv_count</th>\n",
              "      <th>verb_count</th>\n",
              "      <th>noun_count</th>\n",
              "    </tr>\n",
              "  </thead>\n",
              "  <tbody>\n",
              "    <tr>\n",
              "      <th>count</th>\n",
              "      <td>410.000000</td>\n",
              "      <td>410.000000</td>\n",
              "      <td>410.000000</td>\n",
              "      <td>410.000000</td>\n",
              "      <td>410.000000</td>\n",
              "    </tr>\n",
              "    <tr>\n",
              "      <th>mean</th>\n",
              "      <td>25.868293</td>\n",
              "      <td>3.114634</td>\n",
              "      <td>0.807317</td>\n",
              "      <td>3.439024</td>\n",
              "      <td>7.126829</td>\n",
              "    </tr>\n",
              "    <tr>\n",
              "      <th>std</th>\n",
              "      <td>15.268332</td>\n",
              "      <td>2.618167</td>\n",
              "      <td>1.064862</td>\n",
              "      <td>2.424899</td>\n",
              "      <td>4.694429</td>\n",
              "    </tr>\n",
              "    <tr>\n",
              "      <th>min</th>\n",
              "      <td>1.000000</td>\n",
              "      <td>0.000000</td>\n",
              "      <td>0.000000</td>\n",
              "      <td>0.000000</td>\n",
              "      <td>0.000000</td>\n",
              "    </tr>\n",
              "    <tr>\n",
              "      <th>25%</th>\n",
              "      <td>16.000000</td>\n",
              "      <td>1.000000</td>\n",
              "      <td>0.000000</td>\n",
              "      <td>2.000000</td>\n",
              "      <td>4.000000</td>\n",
              "    </tr>\n",
              "    <tr>\n",
              "      <th>50%</th>\n",
              "      <td>23.000000</td>\n",
              "      <td>2.000000</td>\n",
              "      <td>0.500000</td>\n",
              "      <td>3.000000</td>\n",
              "      <td>6.000000</td>\n",
              "    </tr>\n",
              "    <tr>\n",
              "      <th>75%</th>\n",
              "      <td>32.000000</td>\n",
              "      <td>4.000000</td>\n",
              "      <td>1.000000</td>\n",
              "      <td>5.000000</td>\n",
              "      <td>9.000000</td>\n",
              "    </tr>\n",
              "    <tr>\n",
              "      <th>max</th>\n",
              "      <td>90.000000</td>\n",
              "      <td>21.000000</td>\n",
              "      <td>6.000000</td>\n",
              "      <td>14.000000</td>\n",
              "      <td>30.000000</td>\n",
              "    </tr>\n",
              "  </tbody>\n",
              "</table>\n",
              "</div>"
            ],
            "text/plain": [
              "       sent_length  punc_count   adv_count  verb_count  noun_count\n",
              "count   410.000000  410.000000  410.000000  410.000000  410.000000\n",
              "mean     25.868293    3.114634    0.807317    3.439024    7.126829\n",
              "std      15.268332    2.618167    1.064862    2.424899    4.694429\n",
              "min       1.000000    0.000000    0.000000    0.000000    0.000000\n",
              "25%      16.000000    1.000000    0.000000    2.000000    4.000000\n",
              "50%      23.000000    2.000000    0.500000    3.000000    6.000000\n",
              "75%      32.000000    4.000000    1.000000    5.000000    9.000000\n",
              "max      90.000000   21.000000    6.000000   14.000000   30.000000"
            ]
          },
          "metadata": {
            "tags": []
          },
          "execution_count": 14
        }
      ]
    },
    {
      "metadata": {
        "id": "OoKm3YvlJlFD",
        "colab_type": "text"
      },
      "cell_type": "markdown",
      "source": [
        "Looks like there is no missing data. So let us see the distribution of attributes"
      ]
    },
    {
      "metadata": {
        "id": "-mzL9mHtkCZ2",
        "colab_type": "code",
        "outputId": "3b174539-eee7-45f6-a4d5-36ca430c2d30",
        "colab": {
          "base_uri": "https://localhost:8080/",
          "height": 671
        }
      },
      "cell_type": "code",
      "source": [
        "df.hist(bins=20, figsize=(12,9), layout=(2,3))"
      ],
      "execution_count": 15,
      "outputs": [
        {
          "output_type": "execute_result",
          "data": {
            "text/plain": [
              "array([[<matplotlib.axes._subplots.AxesSubplot object at 0x7fa85dcaf518>,\n",
              "        <matplotlib.axes._subplots.AxesSubplot object at 0x7fa85dc70ac8>,\n",
              "        <matplotlib.axes._subplots.AxesSubplot object at 0x7fa85dca1160>],\n",
              "       [<matplotlib.axes._subplots.AxesSubplot object at 0x7fa85dc48668>,\n",
              "        <matplotlib.axes._subplots.AxesSubplot object at 0x7fa85dbedcc0>,\n",
              "        <matplotlib.axes._subplots.AxesSubplot object at 0x7fa85dc1c358>]],\n",
              "      dtype=object)"
            ]
          },
          "metadata": {
            "tags": []
          },
          "execution_count": 15
        },
        {
          "output_type": "display_data",
          "data": {
            "image/png": "[encoded data removed]",
            "text/plain": [
              "<Figure size 864x648 with 6 Axes>"
            ]
          },
          "metadata": {
            "tags": []
          }
        }
      ]
    },
    {
      "metadata": {
        "id": "rawr1uRAJxBF",
        "colab_type": "text"
      },
      "cell_type": "markdown",
      "source": [
        "The attributes are all skewed in one way or the other. Let us see how the correlations look like"
      ]
    },
    {
      "metadata": {
        "id": "Sm9latmjkJv_",
        "colab_type": "code",
        "outputId": "6d9ab7e2-47a7-4f14-cbdb-41a4a953a292",
        "colab": {
          "base_uri": "https://localhost:8080/",
          "height": 68
        }
      },
      "cell_type": "code",
      "source": [
        "df.columns"
      ],
      "execution_count": 16,
      "outputs": [
        {
          "output_type": "execute_result",
          "data": {
            "text/plain": [
              "Index(['text_sentence', 'text_source', 'sent_length', 'punc_count',\n",
              "       'adv_count', 'verb_count', 'noun_count'],\n",
              "      dtype='object')"
            ]
          },
          "metadata": {
            "tags": []
          },
          "execution_count": 16
        }
      ]
    },
    {
      "metadata": {
        "id": "PQf31WaekdUm",
        "colab_type": "code",
        "outputId": "897fc3bf-67f2-4968-9568-2b0a300c3010",
        "colab": {
          "base_uri": "https://localhost:8080/",
          "height": 643
        }
      },
      "cell_type": "code",
      "source": [
        "X = df.drop(['text_sentence', 'text_source'], axis = 1)\n",
        "\n",
        "# Make the correlation matrix.\n",
        "corrmat = X.corr()\n",
        "print(corrmat)\n",
        "\n",
        "# Set up the matplotlib figure.\n",
        "f, ax = plt.subplots(figsize=(12, 9))\n",
        "\n",
        "# Draw the heatmap using seaborn.\n",
        "sns.heatmap(corrmat, vmax=.8, square=True, annot=True, cmap = 'Pastel2_r')\n",
        "plt.show()"
      ],
      "execution_count": 17,
      "outputs": [
        {
          "output_type": "stream",
          "text": [
            "             sent_length  punc_count  adv_count  verb_count  noun_count\n",
            "sent_length     1.000000    0.722100   0.499203    0.755451    0.907159\n",
            "punc_count      0.722100    1.000000   0.393810    0.386022    0.619471\n",
            "adv_count       0.499203    0.393810   1.000000    0.478815    0.320861\n",
            "verb_count      0.755451    0.386022   0.478815    1.000000    0.589831\n",
            "noun_count      0.907159    0.619471   0.320861    0.589831    1.000000\n"
          ],
          "name": "stdout"
        },
        {
          "output_type": "display_data",
          "data": {
            "image/png": "[encoded data removed]",
            "text/plain": [
              "<Figure size 864x648 with 2 Axes>"
            ]
          },
          "metadata": {
            "tags": []
          }
        }
      ]
    },
    {
      "metadata": {
        "id": "XPW0KCV-KAQp",
        "colab_type": "text"
      },
      "cell_type": "markdown",
      "source": [
        "Since sent_lenght and noun_count are highly correlated with all other attributes, let us consider only the attributes punc_count, adv_count and verb_count for further unsupervised and for supervised modelling. Let us see how each of these 3 attribute relate to other using Pair grid"
      ]
    },
    {
      "metadata": {
        "id": "8sP9uL2EkoS5",
        "colab_type": "code",
        "outputId": "adc728cd-2818-4fdf-f35c-90939ef8e357",
        "colab": {
          "base_uri": "https://localhost:8080/",
          "height": 869
        }
      },
      "cell_type": "code",
      "source": [
        "X = df.drop(['text_sentence','sent_length','noun_count'], axis = 1)\n",
        "\n",
        "# Declare that you want to make a scatterplot matrix.\n",
        "g = sns.PairGrid(X.dropna(), hue='text_source', size= 4, diag_sharey=False)\n",
        "\n",
        "# Scatterplot.\n",
        "g = g.map_upper(plt.scatter, alpha=.5)\n",
        "\n",
        "# Fit line summarizing the linear relationship of the two variables.\n",
        "g = g.map_lower(sns.regplot, scatter_kws=dict(alpha=0))\n",
        "\n",
        "# Give information about the univariate distributions of the variables.\n",
        "g = g.map_diag(sns.kdeplot, lw=3)\n",
        "\n",
        "g = g.add_legend()\n",
        "\n",
        "plt.show()"
      ],
      "execution_count": 18,
      "outputs": [
        {
          "output_type": "display_data",
          "data": {
            "image/png": "[encoded data removed]",
            "text/plain": [
              "<Figure size 938.875x864 with 12 Axes>"
            ]
          },
          "metadata": {
            "tags": []
          }
        }
      ]
    },
    {
      "metadata": {
        "id": "8TjVojPNK-fj",
        "colab_type": "text"
      },
      "cell_type": "markdown",
      "source": [
        "###K-Means Clustering"
      ]
    },
    {
      "metadata": {
        "id": "ixFs9CmxlJyu",
        "colab_type": "code",
        "outputId": "a7b75d2b-7928-4694-c65b-088d33725ce1",
        "colab": {
          "base_uri": "https://localhost:8080/",
          "height": 294
        }
      },
      "cell_type": "code",
      "source": [
        "# clustering dataset\n",
        "# determine k using elbow method\n",
        "\n",
        "X = df.loc[:,['punc_count','adv_count','verb_count']]\n",
        "distortions = []\n",
        "K = range(1,10)\n",
        "for k in K:\n",
        "    kmeanModel = KMeans(n_clusters=k).fit(X)\n",
        "    kmeanModel.fit(X)\n",
        "    distortions.append(sum(np.min(cdist(X, kmeanModel.cluster_centers_, 'euclidean'), axis=1)) / X.shape[0])\n",
        "    \n",
        "#Plot the elbow\n",
        "plt.plot(K, distortions, 'bx-')\n",
        "plt.xlabel('k')\n",
        "plt.ylabel('Distortion')\n",
        "plt.title('The Elbow Method showing the optimal k')\n",
        "plt.show()"
      ],
      "execution_count": 19,
      "outputs": [
        {
          "output_type": "display_data",
          "data": {
            "image/png": "[encoded data removed]",
            "text/plain": [
              "<Figure size 432x288 with 1 Axes>"
            ]
          },
          "metadata": {
            "tags": []
          }
        }
      ]
    },
    {
      "metadata": {
        "id": "jZDazfXxM7JD",
        "colab_type": "text"
      },
      "cell_type": "markdown",
      "source": [
        "Looks like 5 is the optimal number of clusters seeing the elow formation at 5"
      ]
    },
    {
      "metadata": {
        "id": "7yB79NZWnFsI",
        "colab_type": "code",
        "outputId": "d21feb67-6629-4a29-ca8d-7201981e936a",
        "colab": {
          "base_uri": "https://localhost:8080/",
          "height": 34
        }
      },
      "cell_type": "code",
      "source": [
        "X = df.loc[:,['punc_count','adv_count','verb_count']]\n",
        "\n",
        "X_norm = normalize(X)\n",
        "\n",
        "pca = PCA(n_components = None)\n",
        "# Reduce it to two components.\n",
        "X_pca = pca.fit_transform(X_norm)\n",
        "\n",
        "explained_variance = pca.explained_variance_ratio_\n",
        "\n",
        "explained_variance"
      ],
      "execution_count": 20,
      "outputs": [
        {
          "output_type": "execute_result",
          "data": {
            "text/plain": [
              "array([0.75273089, 0.19891482, 0.04835429])"
            ]
          },
          "metadata": {
            "tags": []
          },
          "execution_count": 20
        }
      ]
    },
    {
      "metadata": {
        "id": "NhGHENV3NZJP",
        "colab_type": "text"
      },
      "cell_type": "markdown",
      "source": [
        "####KMeans with 4 Clusters"
      ]
    },
    {
      "metadata": {
        "id": "wnYh6cbkozZy",
        "colab_type": "code",
        "outputId": "639d33b8-f92f-48b4-f62a-9a27e81e9b47",
        "colab": {
          "base_uri": "https://localhost:8080/",
          "height": 248
        }
      },
      "cell_type": "code",
      "source": [
        "from mpl_toolkits.mplot3d import Axes3D\n",
        "\n",
        "X = df.loc[:,['punc_count','adv_count','verb_count']]\n",
        "\n",
        "X_norm = normalize(X)\n",
        "\n",
        "y_pred = KMeans(n_clusters=4, random_state=42).fit_predict(X_norm)\n",
        "\n",
        "\n",
        "fig = plt.figure()\n",
        "ax = fig.add_subplot(111, projection='3d')\n",
        "\n",
        "ax.scatter(X_norm[:, [0]], X_norm[:, [1]], X_norm[:,[2]], c=y_pred)\n",
        "\n",
        "ax.set_xlabel('sent_length')\n",
        "ax.set_ylabel('verb_count')\n",
        "ax.set_zlabel('noun_count')\n",
        "\n",
        "plt.show()"
      ],
      "execution_count": 21,
      "outputs": [
        {
          "output_type": "display_data",
          "data": {
            "image/png": "[encoded data removed]",
            "text/plain": [
              "<Figure size 432x288 with 1 Axes>"
            ]
          },
          "metadata": {
            "tags": []
          }
        }
      ]
    },
    {
      "metadata": {
        "id": "Wpf22T63OZh_",
        "colab_type": "text"
      },
      "cell_type": "markdown",
      "source": [
        "Our clusters are pretty good in terms of shape and distribution"
      ]
    },
    {
      "metadata": {
        "id": "afeVqQFIpxBo",
        "colab_type": "code",
        "outputId": "efc47386-31b3-44d8-9089-555ef1f1ceeb",
        "colab": {
          "base_uri": "https://localhost:8080/",
          "height": 248
        }
      },
      "cell_type": "code",
      "source": [
        "X = df.loc[:,['punc_count','adv_count','verb_count']]\n",
        "\n",
        "X_norm = normalize(X)\n",
        "\n",
        "y_pred = KMeans(n_clusters=4, random_state=42).fit_predict(X_norm)\n",
        "\n",
        "# Change the text source into numbers to be used color values for graph\n",
        "\n",
        "df['text_codes'] = pd.Categorical(df['text_source'])\n",
        "df['text_codes'] = df.text_codes.cat.codes\n",
        "\n",
        "fig = plt.figure()\n",
        "ax = fig.add_subplot(111, projection='3d')\n",
        "\n",
        "ax.scatter(X_norm[:, [0]], X_norm[:, [1]], X_norm[:,[2]], c=df.text_codes)\n",
        "\n",
        "ax.set_xlabel('sent_length')\n",
        "ax.set_ylabel('verb_count')\n",
        "ax.set_zlabel('noun_count')\n",
        "\n",
        "plt.show()"
      ],
      "execution_count": 22,
      "outputs": [
        {
          "output_type": "display_data",
          "data": {
            "image/png": "[encoded data removed]",
            "text/plain": [
              "<Figure size 432x288 with 1 Axes>"
            ]
          },
          "metadata": {
            "tags": []
          }
        }
      ]
    },
    {
      "metadata": {
        "id": "8vC7lrw1O46-",
        "colab_type": "text"
      },
      "cell_type": "markdown",
      "source": [
        "Changing Source as categorical data produces totally different result."
      ]
    },
    {
      "metadata": {
        "id": "1qduMZtrqjP2",
        "colab_type": "code",
        "colab": {}
      },
      "cell_type": "code",
      "source": [
        "cluster_df = df.copy()\n",
        "cluster_df['cluster'] = y_pred"
      ],
      "execution_count": 0,
      "outputs": []
    },
    {
      "metadata": {
        "id": "T24F57q7quzQ",
        "colab_type": "code",
        "outputId": "dfd46f38-a5f4-428c-8bd8-36934056e136",
        "colab": {
          "base_uri": "https://localhost:8080/",
          "height": 221
        }
      },
      "cell_type": "code",
      "source": [
        "#Find the elements in every cluster\n",
        "for i in range(cluster_df['cluster'].nunique()):\n",
        "    cluster = cluster_df[cluster_df['cluster']== i]\n",
        "    print('Cluster ', i, '\\n', Counter(list(cluster['text_source'])),'\\n')"
      ],
      "execution_count": 24,
      "outputs": [
        {
          "output_type": "stream",
          "text": [
            "Cluster  0 \n",
            " Counter({'Hawking': 23, 'Bernoulli': 14, 'Euler': 12, 'Maxwell': 9, 'Galileo ': 7, 'Dirac': 6, 'Newton': 5, 'Bohr': 5, 'Kepler': 2, 'Curie': 2}) \n",
            "\n",
            "Cluster  1 \n",
            " Counter({'Hawking': 49, 'Maxwell': 18, 'Newton': 12, 'Euler': 10, 'Kepler': 7, 'Bernoulli': 7, 'Bohr': 4, 'Dirac': 4, 'Galileo ': 3, 'Curie': 1}) \n",
            "\n",
            "Cluster  2 \n",
            " Counter({'Hawking': 30, 'Maxwell': 29, 'Euler': 16, 'Newton': 11, 'Bernoulli': 10, 'Galileo ': 7, 'Dirac': 5, 'Kepler': 4, 'Bohr': 3, 'Curie': 2}) \n",
            "\n",
            "Cluster  3 \n",
            " Counter({'Maxwell': 27, 'Hawking': 26, 'Newton': 9, 'Bohr': 7, 'Galileo ': 7, 'Curie': 7, 'Kepler': 5, 'Euler': 4, 'Bernoulli': 1}) \n",
            "\n"
          ],
          "name": "stdout"
        }
      ]
    },
    {
      "metadata": {
        "id": "8-KUfwSZq1gg",
        "colab_type": "code",
        "outputId": "2184e13c-b348-48ce-8357-b5883035f8bf",
        "colab": {
          "base_uri": "https://localhost:8080/",
          "height": 377
        }
      },
      "cell_type": "code",
      "source": [
        "#Sample sentences in Cluster 0\n",
        "cluster0 = cluster_df.loc[cluster_df['cluster']== 0, ['text_sentence','text_source']]\n",
        "for i in cluster0.index[:10]:\n",
        "    print(cluster0.loc[i,'text_sentence'], '\\n')"
      ],
      "execution_count": 25,
      "outputs": [
        {
          "output_type": "stream",
          "text": [
            "A number of experimental data may lead to complicated real-time curves that do not fit well to the kinetic model. \n",
            "\n",
            "Compared with the results from the Newton iteration algorithm, it shows that the Marquardt algorithm does not only reduce the dependence of the initial value to avoid the divergence but also can greatly reduce the iterative regression times. \n",
            "\n",
            "() also demonstrated that most subjects exhibited significantly strong stimulus-locked SSMVEP responses. \n",
            "\n",
            "However, efficiency may be lost due to the need for a large number of iterations of the EM algorithm. \n",
            "\n",
            "MC Broydens method required the largest number of MC samples with our small data and did not give standard errors for the parameters directly. \n",
            "\n",
            "However, there have been no reports investigating the oxygen dissociation of haemoglobin (Hb) during transcutaneous application of CO in vivo. \n",
            "\n",
            "The intracellular pH of the triceps surae muscle decreased significantly  min. \n",
            "\n",
            "The NIRS data show the oxy-Hb concentration decreased significantly  min. \n",
            "\n",
            "Oxy-Hb concentration significantly decreased while deoxy-Hb concentration significantly increased after transcutaneous CO application. \n",
            "\n",
            "Our novel transcutaneous CO application facilitated an O dissociation from Hb in the human body, thus providing evidence of the Bohr effect in vivo. \n",
            "\n"
          ],
          "name": "stdout"
        }
      ]
    },
    {
      "metadata": {
        "id": "uNM3z1W2wWTR",
        "colab_type": "code",
        "outputId": "ac8e7008-d46e-467c-eb2b-16655e723e7b",
        "colab": {
          "base_uri": "https://localhost:8080/",
          "height": 297
        }
      },
      "cell_type": "code",
      "source": [
        "cluster_df.loc[cluster_df['cluster']== 0, ['punc_count','adv_count','verb_count']].describe()"
      ],
      "execution_count": 26,
      "outputs": [
        {
          "output_type": "execute_result",
          "data": {
            "text/html": [
              "<div>\n",
              "<style scoped>\n",
              "    .dataframe tbody tr th:only-of-type {\n",
              "        vertical-align: middle;\n",
              "    }\n",
              "\n",
              "    .dataframe tbody tr th {\n",
              "        vertical-align: top;\n",
              "    }\n",
              "\n",
              "    .dataframe thead th {\n",
              "        text-align: right;\n",
              "    }\n",
              "</style>\n",
              "<table border=\"1\" class=\"dataframe\">\n",
              "  <thead>\n",
              "    <tr style=\"text-align: right;\">\n",
              "      <th></th>\n",
              "      <th>punc_count</th>\n",
              "      <th>adv_count</th>\n",
              "      <th>verb_count</th>\n",
              "    </tr>\n",
              "  </thead>\n",
              "  <tbody>\n",
              "    <tr>\n",
              "      <th>count</th>\n",
              "      <td>85.000000</td>\n",
              "      <td>85.000000</td>\n",
              "      <td>85.000000</td>\n",
              "    </tr>\n",
              "    <tr>\n",
              "      <th>mean</th>\n",
              "      <td>2.694118</td>\n",
              "      <td>2.023529</td>\n",
              "      <td>3.811765</td>\n",
              "    </tr>\n",
              "    <tr>\n",
              "      <th>std</th>\n",
              "      <td>1.851791</td>\n",
              "      <td>1.174901</td>\n",
              "      <td>2.670358</td>\n",
              "    </tr>\n",
              "    <tr>\n",
              "      <th>min</th>\n",
              "      <td>1.000000</td>\n",
              "      <td>1.000000</td>\n",
              "      <td>1.000000</td>\n",
              "    </tr>\n",
              "    <tr>\n",
              "      <th>25%</th>\n",
              "      <td>1.000000</td>\n",
              "      <td>1.000000</td>\n",
              "      <td>2.000000</td>\n",
              "    </tr>\n",
              "    <tr>\n",
              "      <th>50%</th>\n",
              "      <td>2.000000</td>\n",
              "      <td>2.000000</td>\n",
              "      <td>3.000000</td>\n",
              "    </tr>\n",
              "    <tr>\n",
              "      <th>75%</th>\n",
              "      <td>4.000000</td>\n",
              "      <td>2.000000</td>\n",
              "      <td>5.000000</td>\n",
              "    </tr>\n",
              "    <tr>\n",
              "      <th>max</th>\n",
              "      <td>10.000000</td>\n",
              "      <td>6.000000</td>\n",
              "      <td>14.000000</td>\n",
              "    </tr>\n",
              "  </tbody>\n",
              "</table>\n",
              "</div>"
            ],
            "text/plain": [
              "       punc_count  adv_count  verb_count\n",
              "count   85.000000  85.000000   85.000000\n",
              "mean     2.694118   2.023529    3.811765\n",
              "std      1.851791   1.174901    2.670358\n",
              "min      1.000000   1.000000    1.000000\n",
              "25%      1.000000   1.000000    2.000000\n",
              "50%      2.000000   2.000000    3.000000\n",
              "75%      4.000000   2.000000    5.000000\n",
              "max     10.000000   6.000000   14.000000"
            ]
          },
          "metadata": {
            "tags": []
          },
          "execution_count": 26
        }
      ]
    },
    {
      "metadata": {
        "id": "cOteyl0Xwlff",
        "colab_type": "code",
        "outputId": "cf19edd1-51d2-4492-9e60-c94b11c320d8",
        "colab": {
          "base_uri": "https://localhost:8080/",
          "height": 297
        }
      },
      "cell_type": "code",
      "source": [
        "cluster_df.loc[cluster_df['cluster']== 1, ['punc_count','adv_count','verb_count']].describe()"
      ],
      "execution_count": 27,
      "outputs": [
        {
          "output_type": "execute_result",
          "data": {
            "text/html": [
              "<div>\n",
              "<style scoped>\n",
              "    .dataframe tbody tr th:only-of-type {\n",
              "        vertical-align: middle;\n",
              "    }\n",
              "\n",
              "    .dataframe tbody tr th {\n",
              "        vertical-align: top;\n",
              "    }\n",
              "\n",
              "    .dataframe thead th {\n",
              "        text-align: right;\n",
              "    }\n",
              "</style>\n",
              "<table border=\"1\" class=\"dataframe\">\n",
              "  <thead>\n",
              "    <tr style=\"text-align: right;\">\n",
              "      <th></th>\n",
              "      <th>punc_count</th>\n",
              "      <th>adv_count</th>\n",
              "      <th>verb_count</th>\n",
              "    </tr>\n",
              "  </thead>\n",
              "  <tbody>\n",
              "    <tr>\n",
              "      <th>count</th>\n",
              "      <td>115.000000</td>\n",
              "      <td>115.000000</td>\n",
              "      <td>115.000000</td>\n",
              "    </tr>\n",
              "    <tr>\n",
              "      <th>mean</th>\n",
              "      <td>3.782609</td>\n",
              "      <td>0.469565</td>\n",
              "      <td>3.643478</td>\n",
              "    </tr>\n",
              "    <tr>\n",
              "      <th>std</th>\n",
              "      <td>2.304772</td>\n",
              "      <td>0.729356</td>\n",
              "      <td>1.974359</td>\n",
              "    </tr>\n",
              "    <tr>\n",
              "      <th>min</th>\n",
              "      <td>1.000000</td>\n",
              "      <td>0.000000</td>\n",
              "      <td>1.000000</td>\n",
              "    </tr>\n",
              "    <tr>\n",
              "      <th>25%</th>\n",
              "      <td>2.000000</td>\n",
              "      <td>0.000000</td>\n",
              "      <td>2.000000</td>\n",
              "    </tr>\n",
              "    <tr>\n",
              "      <th>50%</th>\n",
              "      <td>3.000000</td>\n",
              "      <td>0.000000</td>\n",
              "      <td>3.000000</td>\n",
              "    </tr>\n",
              "    <tr>\n",
              "      <th>75%</th>\n",
              "      <td>5.000000</td>\n",
              "      <td>1.000000</td>\n",
              "      <td>5.000000</td>\n",
              "    </tr>\n",
              "    <tr>\n",
              "      <th>max</th>\n",
              "      <td>13.000000</td>\n",
              "      <td>4.000000</td>\n",
              "      <td>11.000000</td>\n",
              "    </tr>\n",
              "  </tbody>\n",
              "</table>\n",
              "</div>"
            ],
            "text/plain": [
              "       punc_count   adv_count  verb_count\n",
              "count  115.000000  115.000000  115.000000\n",
              "mean     3.782609    0.469565    3.643478\n",
              "std      2.304772    0.729356    1.974359\n",
              "min      1.000000    0.000000    1.000000\n",
              "25%      2.000000    0.000000    2.000000\n",
              "50%      3.000000    0.000000    3.000000\n",
              "75%      5.000000    1.000000    5.000000\n",
              "max     13.000000    4.000000   11.000000"
            ]
          },
          "metadata": {
            "tags": []
          },
          "execution_count": 27
        }
      ]
    },
    {
      "metadata": {
        "id": "jin4mzTNwrKJ",
        "colab_type": "code",
        "outputId": "b327f8fd-9340-4bb5-dbf3-1eab737618df",
        "colab": {
          "base_uri": "https://localhost:8080/",
          "height": 297
        }
      },
      "cell_type": "code",
      "source": [
        "cluster_df.loc[cluster_df['cluster']== 2, ['punc_count','adv_count','verb_count']].describe()"
      ],
      "execution_count": 28,
      "outputs": [
        {
          "output_type": "execute_result",
          "data": {
            "text/html": [
              "<div>\n",
              "<style scoped>\n",
              "    .dataframe tbody tr th:only-of-type {\n",
              "        vertical-align: middle;\n",
              "    }\n",
              "\n",
              "    .dataframe tbody tr th {\n",
              "        vertical-align: top;\n",
              "    }\n",
              "\n",
              "    .dataframe thead th {\n",
              "        text-align: right;\n",
              "    }\n",
              "</style>\n",
              "<table border=\"1\" class=\"dataframe\">\n",
              "  <thead>\n",
              "    <tr style=\"text-align: right;\">\n",
              "      <th></th>\n",
              "      <th>punc_count</th>\n",
              "      <th>adv_count</th>\n",
              "      <th>verb_count</th>\n",
              "    </tr>\n",
              "  </thead>\n",
              "  <tbody>\n",
              "    <tr>\n",
              "      <th>count</th>\n",
              "      <td>117.000000</td>\n",
              "      <td>117.000000</td>\n",
              "      <td>117.000000</td>\n",
              "    </tr>\n",
              "    <tr>\n",
              "      <th>mean</th>\n",
              "      <td>1.658120</td>\n",
              "      <td>0.367521</td>\n",
              "      <td>4.529915</td>\n",
              "    </tr>\n",
              "    <tr>\n",
              "      <th>std</th>\n",
              "      <td>1.001399</td>\n",
              "      <td>0.651236</td>\n",
              "      <td>2.325172</td>\n",
              "    </tr>\n",
              "    <tr>\n",
              "      <th>min</th>\n",
              "      <td>0.000000</td>\n",
              "      <td>0.000000</td>\n",
              "      <td>1.000000</td>\n",
              "    </tr>\n",
              "    <tr>\n",
              "      <th>25%</th>\n",
              "      <td>1.000000</td>\n",
              "      <td>0.000000</td>\n",
              "      <td>3.000000</td>\n",
              "    </tr>\n",
              "    <tr>\n",
              "      <th>50%</th>\n",
              "      <td>1.000000</td>\n",
              "      <td>0.000000</td>\n",
              "      <td>4.000000</td>\n",
              "    </tr>\n",
              "    <tr>\n",
              "      <th>75%</th>\n",
              "      <td>2.000000</td>\n",
              "      <td>1.000000</td>\n",
              "      <td>6.000000</td>\n",
              "    </tr>\n",
              "    <tr>\n",
              "      <th>max</th>\n",
              "      <td>5.000000</td>\n",
              "      <td>4.000000</td>\n",
              "      <td>13.000000</td>\n",
              "    </tr>\n",
              "  </tbody>\n",
              "</table>\n",
              "</div>"
            ],
            "text/plain": [
              "       punc_count   adv_count  verb_count\n",
              "count  117.000000  117.000000  117.000000\n",
              "mean     1.658120    0.367521    4.529915\n",
              "std      1.001399    0.651236    2.325172\n",
              "min      0.000000    0.000000    1.000000\n",
              "25%      1.000000    0.000000    3.000000\n",
              "50%      1.000000    0.000000    4.000000\n",
              "75%      2.000000    1.000000    6.000000\n",
              "max      5.000000    4.000000   13.000000"
            ]
          },
          "metadata": {
            "tags": []
          },
          "execution_count": 28
        }
      ]
    },
    {
      "metadata": {
        "id": "6k7ureCgwtSg",
        "colab_type": "code",
        "outputId": "5ac545c0-267a-4cf3-a10e-07d0d7cb0e7a",
        "colab": {
          "base_uri": "https://localhost:8080/",
          "height": 297
        }
      },
      "cell_type": "code",
      "source": [
        "cluster_df.loc[cluster_df['cluster']== 3, ['punc_count','adv_count','verb_count']].describe()"
      ],
      "execution_count": 29,
      "outputs": [
        {
          "output_type": "execute_result",
          "data": {
            "text/html": [
              "<div>\n",
              "<style scoped>\n",
              "    .dataframe tbody tr th:only-of-type {\n",
              "        vertical-align: middle;\n",
              "    }\n",
              "\n",
              "    .dataframe tbody tr th {\n",
              "        vertical-align: top;\n",
              "    }\n",
              "\n",
              "    .dataframe thead th {\n",
              "        text-align: right;\n",
              "    }\n",
              "</style>\n",
              "<table border=\"1\" class=\"dataframe\">\n",
              "  <thead>\n",
              "    <tr style=\"text-align: right;\">\n",
              "      <th></th>\n",
              "      <th>punc_count</th>\n",
              "      <th>adv_count</th>\n",
              "      <th>verb_count</th>\n",
              "    </tr>\n",
              "  </thead>\n",
              "  <tbody>\n",
              "    <tr>\n",
              "      <th>count</th>\n",
              "      <td>93.000000</td>\n",
              "      <td>93.000000</td>\n",
              "      <td>93.000000</td>\n",
              "    </tr>\n",
              "    <tr>\n",
              "      <th>mean</th>\n",
              "      <td>4.505376</td>\n",
              "      <td>0.666667</td>\n",
              "      <td>1.473118</td>\n",
              "    </tr>\n",
              "    <tr>\n",
              "      <th>std</th>\n",
              "      <td>3.757959</td>\n",
              "      <td>0.900885</td>\n",
              "      <td>1.543510</td>\n",
              "    </tr>\n",
              "    <tr>\n",
              "      <th>min</th>\n",
              "      <td>0.000000</td>\n",
              "      <td>0.000000</td>\n",
              "      <td>0.000000</td>\n",
              "    </tr>\n",
              "    <tr>\n",
              "      <th>25%</th>\n",
              "      <td>1.000000</td>\n",
              "      <td>0.000000</td>\n",
              "      <td>0.000000</td>\n",
              "    </tr>\n",
              "    <tr>\n",
              "      <th>50%</th>\n",
              "      <td>4.000000</td>\n",
              "      <td>0.000000</td>\n",
              "      <td>1.000000</td>\n",
              "    </tr>\n",
              "    <tr>\n",
              "      <th>75%</th>\n",
              "      <td>6.000000</td>\n",
              "      <td>1.000000</td>\n",
              "      <td>2.000000</td>\n",
              "    </tr>\n",
              "    <tr>\n",
              "      <th>max</th>\n",
              "      <td>21.000000</td>\n",
              "      <td>4.000000</td>\n",
              "      <td>9.000000</td>\n",
              "    </tr>\n",
              "  </tbody>\n",
              "</table>\n",
              "</div>"
            ],
            "text/plain": [
              "       punc_count  adv_count  verb_count\n",
              "count   93.000000  93.000000   93.000000\n",
              "mean     4.505376   0.666667    1.473118\n",
              "std      3.757959   0.900885    1.543510\n",
              "min      0.000000   0.000000    0.000000\n",
              "25%      1.000000   0.000000    0.000000\n",
              "50%      4.000000   0.000000    1.000000\n",
              "75%      6.000000   1.000000    2.000000\n",
              "max     21.000000   4.000000    9.000000"
            ]
          },
          "metadata": {
            "tags": []
          },
          "execution_count": 29
        }
      ]
    },
    {
      "metadata": {
        "id": "vhOd2sT2P9Ob",
        "colab_type": "text"
      },
      "cell_type": "markdown",
      "source": [
        "Clusters 0 and 2 are similar and 1 and 3 are also similar"
      ]
    },
    {
      "metadata": {
        "id": "_RDdpigqwvlx",
        "colab_type": "code",
        "outputId": "80b843a4-76b8-4383-c702-ae2f388f0ba3",
        "colab": {
          "base_uri": "https://localhost:8080/",
          "height": 377
        }
      },
      "cell_type": "code",
      "source": [
        "#Sample sentences\n",
        "\n",
        "cluster2 = cluster_df.loc[cluster_df['cluster']== 2,  ['text_sentence','text_source']]\n",
        "for i in cluster2.index[:10]:\n",
        "    print(cluster2.loc[i,'text_sentence'], '\\n')"
      ],
      "execution_count": 30,
      "outputs": [
        {
          "output_type": "stream",
          "text": [
            "The metabolic pathway can be represented by a mathematical model known as the generalized mass action model, which leads to a complex nonlinear equations system. \n",
            "\n",
            "The optimization process becomes difficult when steady state and the constraints of the components in the metabolic pathway are involved. \n",
            "\n",
            "The proposed method was experimentally applied on the benchmark metabolic pathways, and the results showed that the NCGA achieved better results compared to the existing methods.nnKinetic analysis of biomolecular interactions are powerfully used to quantify the binding kinetic constants for the determination of a complex formed or dissociated within a given time span. \n",
            "\n",
            "This paper presented an analysis approach of biomolecular interactions established by utilizing the Marquardt algorithm. \n",
            "\n",
            "This algorithm was intensively considered to implement in the homemade bioanalyzer to perform the nonlinear curve-fitting of the association and disassociation process of the receptor to ligand. \n",
            "\n",
            "The kinetic constants were evaluated distinctly by using the obtained data from the curve-fitting results.n\"n         \n",
            "\n",
            "Four Newtons rings with the oscillating expansion and contraction motions served as visual stimulators to elicit subjects SSMVEPs. \n",
            "\n",
            "Performance of these algorithms was evaluated using simulated data. \n",
            "\n",
            "The final estimates were in good agreement with corresponding analytical ones. \n",
            "\n",
            "MC NR REML required a larger number of MC samples, while each MC AI REML iteration demanded extra solving of mixed model equations by the number of parameters to be estimated. \n",
            "\n"
          ],
          "name": "stdout"
        }
      ]
    },
    {
      "metadata": {
        "id": "hGyN8BT0xE3P",
        "colab_type": "code",
        "outputId": "4cda14b1-2a30-4aae-eb3f-41dfb27ce27a",
        "colab": {
          "base_uri": "https://localhost:8080/",
          "height": 187
        }
      },
      "cell_type": "code",
      "source": [
        "cluster3 = cluster_df.loc[cluster_df['cluster']== 3,  ['text_sentence','text_source']]\n",
        "for i in cluster3.index[:5]:\n",
        "    print(cluster3.loc[i,'text_sentence'], '\\n')"
      ],
      "execution_count": 31,
      "outputs": [
        {
          "output_type": "stream",
          "text": [
            "To deal with this situation, this paper presents an in silico optimization method, namely the Newton Cooperative Genetic Algorithm (NCGA). \n",
            "\n",
            "Moreover, both the association rate and dissociation rate of the receptor to ligand are the substantial parameters for the study of signal transmission between cells. \n",
            "\n",
            "The association and dissociation rate constants, ka, kd and the affinity parameters for the biomolecular interaction, KA, KD, were experimentally obtained .× mL·g-·s-, . \n",
            "\n",
            "s-, \n",
            "\n",
            ".× mL·g- and .×- g·mL-, respectively from the injection of the HBsAg solution with the concentration of ng·mL-. \n",
            "\n"
          ],
          "name": "stdout"
        }
      ]
    },
    {
      "metadata": {
        "id": "_36aWYodxTiI",
        "colab_type": "code",
        "outputId": "39bb1ae1-7391-458b-9f68-6d50336e0aa9",
        "colab": {
          "base_uri": "https://localhost:8080/",
          "height": 207
        }
      },
      "cell_type": "code",
      "source": [
        "cluster1 = cluster_df.loc[cluster_df['cluster']== 1,  ['text_sentence','text_source']]\n",
        "for i in cluster1.index[:5]:\n",
        "    print(cluster1.loc[i,'text_sentence'], '\\n')"
      ],
      "execution_count": 32,
      "outputs": [
        {
          "output_type": "stream",
          "text": [
            "nThis paper presents an in silico optimization method of metabolic pathway production. \n",
            "\n",
            "The NCGA used Newton method in dealing with the metabolic pathway, and then integrated genetic algorithm and cooperative co-evolutionary algorithm. \n",
            "\n",
            "Surface plasmon resonance biosensors provide an essential approach in the analysis of the biomolecular interactions including the interaction process of antigen-antibody and receptors-ligand. \n",
            "\n",
            "The binding affinity of the antibody to the antigen (or the receptor to the ligand) reflects the biological activities of the control antibodies (or receptors) and the corresponding immune signal responses in the pathologic process. \n",
            "\n",
            "In this study, we utilize a special visual stimulation protocol, called motion reversal, to present a novel steady-state motion visual evoked potential (SSMVEP)-based BCI paradigm that relied on human perception of motions oscillated in two opposite directions. \n",
            "\n"
          ],
          "name": "stdout"
        }
      ]
    },
    {
      "metadata": {
        "id": "yrp9JG0eQTQ_",
        "colab_type": "text"
      },
      "cell_type": "markdown",
      "source": [
        "#Supervised Modelling\n",
        "\n",
        "Let us use our 3 least correalted features to model. We will use 80-20 train and test ratio for our modeling.\n",
        "\n"
      ]
    },
    {
      "metadata": {
        "id": "N2B_pTWHxaSn",
        "colab_type": "code",
        "colab": {}
      },
      "cell_type": "code",
      "source": [
        "Y = df['text_source']\n",
        "\n",
        "X = df.loc[:,['punc_count','adv_count','verb_count']]\n",
        "\n",
        "X_train, X_test, Y_train, Y_test = train_test_split(X, Y, test_size=0.20, random_state=42)"
      ],
      "execution_count": 0,
      "outputs": []
    },
    {
      "metadata": {
        "id": "He1CjsGjx3YX",
        "colab_type": "code",
        "outputId": "0e7e7703-1956-45b6-cd08-2b28f80b3e31",
        "colab": {
          "base_uri": "https://localhost:8080/",
          "height": 85
        }
      },
      "cell_type": "code",
      "source": [
        "rfc = ensemble.RandomForestClassifier()\n",
        "\n",
        "rfc.fit(X_train, Y_train)\n",
        "\n",
        "print('Training set score:', rfc.score(X_train, Y_train))\n",
        "print('Testing set score:', rfc.score(X_test, Y_test))"
      ],
      "execution_count": 34,
      "outputs": [
        {
          "output_type": "stream",
          "text": [
            "Training set score: 0.5762195121951219\n",
            "Testing set score: 0.21951219512195122\n"
          ],
          "name": "stdout"
        },
        {
          "output_type": "stream",
          "text": [
            "/usr/local/lib/python3.6/dist-packages/sklearn/ensemble/forest.py:246: FutureWarning: The default value of n_estimators will change from 10 in version 0.20 to 100 in 0.22.\n",
            "  \"10 in version 0.20 to 100 in 0.22.\", FutureWarning)\n"
          ],
          "name": "stderr"
        }
      ]
    },
    {
      "metadata": {
        "id": "EEi-V8E6QcMo",
        "colab_type": "text"
      },
      "cell_type": "markdown",
      "source": [
        "That was really bad.\n",
        "\n",
        "####Using Logistic Regression"
      ]
    },
    {
      "metadata": {
        "id": "JcMlS80F09ri",
        "colab_type": "code",
        "outputId": "36ed6d13-4329-4838-f683-ddb70209ada5",
        "colab": {
          "base_uri": "https://localhost:8080/",
          "height": 119
        }
      },
      "cell_type": "code",
      "source": [
        "lr = LogisticRegression()\n",
        "\n",
        "lr.fit(X_train, Y_train)\n",
        "\n",
        "print('Training set score:', lr.score(X_train, Y_train))\n",
        "print('Testing set score:', lr.score(X_test, Y_test))"
      ],
      "execution_count": 35,
      "outputs": [
        {
          "output_type": "stream",
          "text": [
            "Training set score: 0.32926829268292684\n",
            "Testing set score: 0.2682926829268293\n"
          ],
          "name": "stdout"
        },
        {
          "output_type": "stream",
          "text": [
            "/usr/local/lib/python3.6/dist-packages/sklearn/linear_model/logistic.py:433: FutureWarning: Default solver will be changed to 'lbfgs' in 0.22. Specify a solver to silence this warning.\n",
            "  FutureWarning)\n",
            "/usr/local/lib/python3.6/dist-packages/sklearn/linear_model/logistic.py:460: FutureWarning: Default multi_class will be changed to 'auto' in 0.22. Specify the multi_class option to silence this warning.\n",
            "  \"this warning.\", FutureWarning)\n"
          ],
          "name": "stderr"
        }
      ]
    },
    {
      "metadata": {
        "id": "uLn5TfQY1Kph",
        "colab_type": "code",
        "outputId": "182f1910-451f-4a3c-c829-1e44761837b4",
        "colab": {
          "base_uri": "https://localhost:8080/",
          "height": 51
        }
      },
      "cell_type": "code",
      "source": [
        "clf = ensemble.GradientBoostingClassifier()\n",
        "\n",
        "clf.fit(X_train, Y_train)\n",
        "\n",
        "print('Training set score:', clf.score(X_train, Y_train))\n",
        "print('Testing set score:', clf.score(X_test, Y_test))"
      ],
      "execution_count": 36,
      "outputs": [
        {
          "output_type": "stream",
          "text": [
            "Training set score: 0.5548780487804879\n",
            "Testing set score: 0.2073170731707317\n"
          ],
          "name": "stdout"
        }
      ]
    },
    {
      "metadata": {
        "id": "aD8aijkT1Y1h",
        "colab_type": "code",
        "outputId": "026f124f-993b-4fe8-be36-38e48b0d3ddc",
        "colab": {
          "base_uri": "https://localhost:8080/",
          "height": 51
        }
      },
      "cell_type": "code",
      "source": [
        "svm = SVC(kernel = 'linear')\n",
        "\n",
        "svm.fit(X_train, Y_train)\n",
        "\n",
        "print('Training set score:', svm.score(X_train, Y_train))\n",
        "print('Training set score:', svm.score(X_test, Y_test))"
      ],
      "execution_count": 37,
      "outputs": [
        {
          "output_type": "stream",
          "text": [
            "Training set score: 0.3231707317073171\n",
            "Training set score: 0.2682926829268293\n"
          ],
          "name": "stdout"
        }
      ]
    },
    {
      "metadata": {
        "id": "HGi3JsOMR1fW",
        "colab_type": "text"
      },
      "cell_type": "markdown",
      "source": [
        "All were bad, let us now try Bag of words and model using the features that we get from this method.\n",
        "\n",
        "##Bag of Words method"
      ]
    },
    {
      "metadata": {
        "id": "q7Z1ONhb1lFP",
        "colab_type": "code",
        "colab": {}
      },
      "cell_type": "code",
      "source": [
        "def bag_of_words(text):\n",
        "    \n",
        "    # Filter out punctuation and stop words.\n",
        "    allwords = [token.lemma_\n",
        "                for token in text\n",
        "                if not token.is_punct\n",
        "                and not token.is_stop]\n",
        "    \n",
        "    return allwords"
      ],
      "execution_count": 0,
      "outputs": []
    },
    {
      "metadata": {
        "id": "H1xSSN3B1xlK",
        "colab_type": "code",
        "colab": {}
      },
      "cell_type": "code",
      "source": [
        "set_bag = []\n",
        "\n",
        "for i, text in enumerate(df['text_sentence']):\n",
        "    allwords = bag_of_words(text)\n",
        "    set_bag.extend(allwords)\n",
        "    \n",
        "set_bag = set(set_bag)"
      ],
      "execution_count": 0,
      "outputs": []
    },
    {
      "metadata": {
        "id": "sIh2c3BM2BYp",
        "colab_type": "code",
        "colab": {}
      },
      "cell_type": "code",
      "source": [
        "def bow_features(sentences, common_words):\n",
        "    \n",
        "    # Scaffold the data frame and initialize counts to zero.\n",
        "    df_sent = pd.DataFrame(columns=common_words)\n",
        "    df_sent['text_sentence'] = sentences['text_sentence']\n",
        "    df_sent['text_source'] = sentences['text_source']\n",
        "    df_sent.loc[:, common_words] = 0\n",
        "    \n",
        "    # Process each row, counting the occurrence of words in each sentence.\n",
        "    for i, sentence in enumerate(df_sent['text_sentence']):\n",
        "        \n",
        "        # Convert the sentence to lemmas, then filter out punctuation,\n",
        "        # stop words, and uncommon words.\n",
        "        words = [token.lemma_\n",
        "                 for token in sentence\n",
        "                 if (\n",
        "                     not token.is_punct\n",
        "                     and not token.is_stop\n",
        "                     and token.lemma_ in common_words\n",
        "                 )]\n",
        "        # Populate the row with word counts.\n",
        "        for word in words:\n",
        "            df_sent.loc[i, word] += 1\n",
        "        \n",
        "        # This counter is just to make sure the kernel didn't hang.\n",
        "        if i % 500 == 0:\n",
        "            print(\"Processing row {}\".format(i))\n",
        "            \n",
        "    return df_sent"
      ],
      "execution_count": 0,
      "outputs": []
    },
    {
      "metadata": {
        "id": "Z7cR_tCO2XMQ",
        "colab_type": "code",
        "outputId": "a8017d02-7adb-4bcb-9a63-4cbd6f2c80e3",
        "colab": {
          "base_uri": "https://localhost:8080/",
          "height": 34
        }
      },
      "cell_type": "code",
      "source": [
        "bow_df = bow_features(df, set_bag)"
      ],
      "execution_count": 41,
      "outputs": [
        {
          "output_type": "stream",
          "text": [
            "Processing row 0\n"
          ],
          "name": "stdout"
        }
      ]
    },
    {
      "metadata": {
        "id": "DPIJUonf2b47",
        "colab_type": "code",
        "outputId": "5cc0a094-580e-433f-bc66-e09fb24a4d61",
        "colab": {
          "base_uri": "https://localhost:8080/",
          "height": 34
        }
      },
      "cell_type": "code",
      "source": [
        "bow_df.shape"
      ],
      "execution_count": 42,
      "outputs": [
        {
          "output_type": "execute_result",
          "data": {
            "text/plain": [
              "(410, 1914)"
            ]
          },
          "metadata": {
            "tags": []
          },
          "execution_count": 42
        }
      ]
    },
    {
      "metadata": {
        "id": "IcdBQsjFSJ9O",
        "colab_type": "text"
      },
      "cell_type": "markdown",
      "source": [
        "Good, now we have many features to model with. Let us do a 75-25 train test split for modelling"
      ]
    },
    {
      "metadata": {
        "id": "0YEgRq9j253t",
        "colab_type": "code",
        "colab": {}
      },
      "cell_type": "code",
      "source": [
        "y = bow_df['text_source']\n",
        "x = np.array(bow_df.drop(['text_sentence','text_source'], 1))\n",
        "\n",
        "x_train, x_test, y_train, y_test = train_test_split(x, y, test_size=0.25, random_state=42)"
      ],
      "execution_count": 0,
      "outputs": []
    },
    {
      "metadata": {
        "id": "FG71RbGsSZdm",
        "colab_type": "text"
      },
      "cell_type": "markdown",
      "source": [
        "####Using Random Forest"
      ]
    },
    {
      "metadata": {
        "id": "u5EHNNNK3JU5",
        "colab_type": "code",
        "outputId": "1b21d994-dfe1-47b3-9b6c-053bcdc248ce",
        "colab": {
          "base_uri": "https://localhost:8080/",
          "height": 85
        }
      },
      "cell_type": "code",
      "source": [
        "rfc = ensemble.RandomForestClassifier()\n",
        "\n",
        "rfc.fit(x_train, y_train)\n",
        "\n",
        "print('Training set score:', rfc.score(x_train, y_train))\n",
        "print('Training set score:', rfc.score(x_test, y_test))"
      ],
      "execution_count": 44,
      "outputs": [
        {
          "output_type": "stream",
          "text": [
            "Training set score: 0.9348534201954397\n",
            "Training set score: 0.6116504854368932\n"
          ],
          "name": "stdout"
        },
        {
          "output_type": "stream",
          "text": [
            "/usr/local/lib/python3.6/dist-packages/sklearn/ensemble/forest.py:246: FutureWarning: The default value of n_estimators will change from 10 in version 0.20 to 100 in 0.22.\n",
            "  \"10 in version 0.20 to 100 in 0.22.\", FutureWarning)\n"
          ],
          "name": "stderr"
        }
      ]
    },
    {
      "metadata": {
        "id": "dQex-0ow6s-v",
        "colab_type": "code",
        "outputId": "efa47510-2593-4fa5-ef19-c878b73ff435",
        "colab": {
          "base_uri": "https://localhost:8080/",
          "height": 34
        }
      },
      "cell_type": "code",
      "source": [
        "cross_val_score(rfc, x, y, cv=5)"
      ],
      "execution_count": 45,
      "outputs": [
        {
          "output_type": "execute_result",
          "data": {
            "text/plain": [
              "array([0.43023256, 0.63953488, 0.51219512, 0.29113924, 0.53246753])"
            ]
          },
          "metadata": {
            "tags": []
          },
          "execution_count": 45
        }
      ]
    },
    {
      "metadata": {
        "id": "tFk-I4opSd9D",
        "colab_type": "text"
      },
      "cell_type": "markdown",
      "source": [
        "Not bad, our scores increased from 20% using just 3 features to 50% using the new ones\n",
        "\n",
        "####Using Logistic Regression"
      ]
    },
    {
      "metadata": {
        "id": "z_ud20j33cVJ",
        "colab_type": "code",
        "outputId": "97537d80-a971-4c4f-dc36-f9634ca1ac76",
        "colab": {
          "base_uri": "https://localhost:8080/",
          "height": 119
        }
      },
      "cell_type": "code",
      "source": [
        "lr = LogisticRegression()\n",
        "lr.fit(x_train, y_train)\n",
        "\n",
        "print('Training set score:', lr.score(x_train, y_train))\n",
        "print('Training set score:', lr.score(x_test, y_test))"
      ],
      "execution_count": 46,
      "outputs": [
        {
          "output_type": "stream",
          "text": [
            "Training set score: 0.9413680781758957\n",
            "Training set score: 0.7184466019417476\n"
          ],
          "name": "stdout"
        },
        {
          "output_type": "stream",
          "text": [
            "/usr/local/lib/python3.6/dist-packages/sklearn/linear_model/logistic.py:433: FutureWarning: Default solver will be changed to 'lbfgs' in 0.22. Specify a solver to silence this warning.\n",
            "  FutureWarning)\n",
            "/usr/local/lib/python3.6/dist-packages/sklearn/linear_model/logistic.py:460: FutureWarning: Default multi_class will be changed to 'auto' in 0.22. Specify the multi_class option to silence this warning.\n",
            "  \"this warning.\", FutureWarning)\n"
          ],
          "name": "stderr"
        }
      ]
    },
    {
      "metadata": {
        "id": "9HZP7mwz61ef",
        "colab_type": "code",
        "outputId": "b4a92338-2fa2-4eb9-90af-d2cf6b493f49",
        "colab": {
          "base_uri": "https://localhost:8080/",
          "height": 374
        }
      },
      "cell_type": "code",
      "source": [
        "cross_val_score(lr, x, y, cv=5)"
      ],
      "execution_count": 47,
      "outputs": [
        {
          "output_type": "stream",
          "text": [
            "/usr/local/lib/python3.6/dist-packages/sklearn/linear_model/logistic.py:433: FutureWarning: Default solver will be changed to 'lbfgs' in 0.22. Specify a solver to silence this warning.\n",
            "  FutureWarning)\n",
            "/usr/local/lib/python3.6/dist-packages/sklearn/linear_model/logistic.py:460: FutureWarning: Default multi_class will be changed to 'auto' in 0.22. Specify the multi_class option to silence this warning.\n",
            "  \"this warning.\", FutureWarning)\n",
            "/usr/local/lib/python3.6/dist-packages/sklearn/linear_model/logistic.py:433: FutureWarning: Default solver will be changed to 'lbfgs' in 0.22. Specify a solver to silence this warning.\n",
            "  FutureWarning)\n",
            "/usr/local/lib/python3.6/dist-packages/sklearn/linear_model/logistic.py:460: FutureWarning: Default multi_class will be changed to 'auto' in 0.22. Specify the multi_class option to silence this warning.\n",
            "  \"this warning.\", FutureWarning)\n",
            "/usr/local/lib/python3.6/dist-packages/sklearn/linear_model/logistic.py:433: FutureWarning: Default solver will be changed to 'lbfgs' in 0.22. Specify a solver to silence this warning.\n",
            "  FutureWarning)\n",
            "/usr/local/lib/python3.6/dist-packages/sklearn/linear_model/logistic.py:460: FutureWarning: Default multi_class will be changed to 'auto' in 0.22. Specify the multi_class option to silence this warning.\n",
            "  \"this warning.\", FutureWarning)\n",
            "/usr/local/lib/python3.6/dist-packages/sklearn/linear_model/logistic.py:433: FutureWarning: Default solver will be changed to 'lbfgs' in 0.22. Specify a solver to silence this warning.\n",
            "  FutureWarning)\n",
            "/usr/local/lib/python3.6/dist-packages/sklearn/linear_model/logistic.py:460: FutureWarning: Default multi_class will be changed to 'auto' in 0.22. Specify the multi_class option to silence this warning.\n",
            "  \"this warning.\", FutureWarning)\n",
            "/usr/local/lib/python3.6/dist-packages/sklearn/linear_model/logistic.py:433: FutureWarning: Default solver will be changed to 'lbfgs' in 0.22. Specify a solver to silence this warning.\n",
            "  FutureWarning)\n",
            "/usr/local/lib/python3.6/dist-packages/sklearn/linear_model/logistic.py:460: FutureWarning: Default multi_class will be changed to 'auto' in 0.22. Specify the multi_class option to silence this warning.\n",
            "  \"this warning.\", FutureWarning)\n"
          ],
          "name": "stderr"
        },
        {
          "output_type": "execute_result",
          "data": {
            "text/plain": [
              "array([0.54651163, 0.70930233, 0.62195122, 0.36708861, 0.61038961])"
            ]
          },
          "metadata": {
            "tags": []
          },
          "execution_count": 47
        }
      ]
    },
    {
      "metadata": {
        "id": "bm_LLEq6Szgm",
        "colab_type": "text"
      },
      "cell_type": "markdown",
      "source": [
        "Nice, we are well above 60% on average. \n",
        "\n",
        "####Using Gradient Boost"
      ]
    },
    {
      "metadata": {
        "id": "mXb3bEnX3qFq",
        "colab_type": "code",
        "outputId": "31e3fe3c-31a9-4d26-ffde-68a395195876",
        "colab": {
          "base_uri": "https://localhost:8080/",
          "height": 51
        }
      },
      "cell_type": "code",
      "source": [
        "clf = ensemble.GradientBoostingClassifier()\n",
        "clf.fit(x_train, y_train)\n",
        "\n",
        "print('Training set score:', clf.score(x_train, y_train))\n",
        "print('Training set score:', clf.score(x_test, y_test))"
      ],
      "execution_count": 48,
      "outputs": [
        {
          "output_type": "stream",
          "text": [
            "Training set score: 0.9446254071661238\n",
            "Training set score: 0.6407766990291263\n"
          ],
          "name": "stdout"
        }
      ]
    },
    {
      "metadata": {
        "id": "24dHWag566y-",
        "colab_type": "code",
        "outputId": "ce8ab57b-99db-45af-d1f3-5c968485d204",
        "colab": {
          "base_uri": "https://localhost:8080/",
          "height": 34
        }
      },
      "cell_type": "code",
      "source": [
        "cross_val_score(clf, x, y, cv=5)"
      ],
      "execution_count": 49,
      "outputs": [
        {
          "output_type": "execute_result",
          "data": {
            "text/plain": [
              "array([0.46511628, 0.63953488, 0.54878049, 0.44303797, 0.58441558])"
            ]
          },
          "metadata": {
            "tags": []
          },
          "execution_count": 49
        }
      ]
    },
    {
      "metadata": {
        "id": "xqv2I_6CTAh5",
        "colab_type": "text"
      },
      "cell_type": "markdown",
      "source": [
        "We came back to 55% on average using this model\n",
        "\n",
        "####Using SVC"
      ]
    },
    {
      "metadata": {
        "id": "jPSw7PJ13zeB",
        "colab_type": "code",
        "outputId": "1fb231aa-5054-45ca-cc59-83635382c0d2",
        "colab": {
          "base_uri": "https://localhost:8080/",
          "height": 51
        }
      },
      "cell_type": "code",
      "source": [
        "svm = SVC(kernel = 'linear')\n",
        "svm.fit(x_train, y_train)\n",
        "\n",
        "print('Training set score:', svm.score(x_train, y_train))\n",
        "print('Training set score:', svm.score(x_test, y_test))"
      ],
      "execution_count": 50,
      "outputs": [
        {
          "output_type": "stream",
          "text": [
            "Training set score: 0.9446254071661238\n",
            "Training set score: 0.6310679611650486\n"
          ],
          "name": "stdout"
        }
      ]
    },
    {
      "metadata": {
        "id": "N4N8tQfT69Ol",
        "colab_type": "code",
        "outputId": "fa236e2f-9b4a-48de-fd18-8e72c1d120c7",
        "colab": {
          "base_uri": "https://localhost:8080/",
          "height": 34
        }
      },
      "cell_type": "code",
      "source": [
        "cross_val_score(svm, x, y, cv=5)"
      ],
      "execution_count": 51,
      "outputs": [
        {
          "output_type": "execute_result",
          "data": {
            "text/plain": [
              "array([0.45348837, 0.63953488, 0.59756098, 0.3164557 , 0.57142857])"
            ]
          },
          "metadata": {
            "tags": []
          },
          "execution_count": 51
        }
      ]
    },
    {
      "metadata": {
        "id": "20Fxv-LDTL3C",
        "colab_type": "text"
      },
      "cell_type": "markdown",
      "source": [
        "Similar to Gradient Boost, SVC also gives 55% on average. Let us try clustering this dataset after creating new features"
      ]
    },
    {
      "metadata": {
        "id": "xvKEFDED5CoK",
        "colab_type": "code",
        "outputId": "c221c7a4-6cdd-40ec-97c3-695715696869",
        "colab": {
          "base_uri": "https://localhost:8080/",
          "height": 294
        }
      },
      "cell_type": "code",
      "source": [
        "# k means determine k\n",
        "distortions = []\n",
        "K = range(1,10)\n",
        "for k in K:\n",
        "    kmeanModel = KMeans(n_clusters=k).fit(x)\n",
        "    kmeanModel.fit(x)\n",
        "    distortions.append(sum(np.min(cdist(x, kmeanModel.cluster_centers_, 'euclidean'), axis=1)) / x.shape[0])\n",
        "\n",
        "# Plot the elbow\n",
        "plt.plot(K, distortions, 'bx-')\n",
        "plt.xlabel('k')\n",
        "plt.ylabel('Distortion')\n",
        "plt.title('The Elbow Method showing the optimal k')\n",
        "plt.show()"
      ],
      "execution_count": 52,
      "outputs": [
        {
          "output_type": "display_data",
          "data": {
            "image/png": "[encoded data removed]",
            "text/plain": [
              "<Figure size 432x288 with 1 Axes>"
            ]
          },
          "metadata": {
            "tags": []
          }
        }
      ]
    },
    {
      "metadata": {
        "id": "e_EX7NHWTroF",
        "colab_type": "text"
      },
      "cell_type": "markdown",
      "source": [
        "Optimal k is somewhere between 4 and 5. Let us try to find how many clusters explain variance using PCA"
      ]
    },
    {
      "metadata": {
        "id": "WQWxBSXg94Hp",
        "colab_type": "code",
        "outputId": "0c796a9b-4a89-4260-99b8-e3dc99d714d9",
        "colab": {
          "base_uri": "https://localhost:8080/",
          "height": 34
        }
      },
      "cell_type": "code",
      "source": [
        "x_norm = normalize(x)\n",
        "\n",
        "pca = PCA(n_components = None)\n",
        "# Reduce it to two components.\n",
        "x_pca = pca.fit_transform(x_norm)\n",
        "\n",
        "explained_variance = pca.explained_variance_ratio_\n",
        "\n",
        "explained_variance[:5]"
      ],
      "execution_count": 53,
      "outputs": [
        {
          "output_type": "execute_result",
          "data": {
            "text/plain": [
              "array([0.01673079, 0.01591437, 0.01448454, 0.01370569, 0.01245453])"
            ]
          },
          "metadata": {
            "tags": []
          },
          "execution_count": 53
        }
      ]
    },
    {
      "metadata": {
        "id": "sqfWty2yUB8h",
        "colab_type": "text"
      },
      "cell_type": "markdown",
      "source": [
        "Now, we can just take first 4 and try our K Means clustering"
      ]
    },
    {
      "metadata": {
        "id": "6ypGk9un-RSD",
        "colab_type": "code",
        "colab": {}
      },
      "cell_type": "code",
      "source": [
        "# Calculate predicted values.\n",
        "y_pred = KMeans(n_clusters=4, random_state=42).fit_predict(x)"
      ],
      "execution_count": 0,
      "outputs": []
    },
    {
      "metadata": {
        "id": "RvoL3gbH-gcU",
        "colab_type": "code",
        "colab": {}
      },
      "cell_type": "code",
      "source": [
        "bow_clusters_df = bow_df.copy()"
      ],
      "execution_count": 0,
      "outputs": []
    },
    {
      "metadata": {
        "id": "ygkoZjQi-kug",
        "colab_type": "code",
        "colab": {}
      },
      "cell_type": "code",
      "source": [
        "bow_clusters_df['clusters'] = y_pred"
      ],
      "execution_count": 0,
      "outputs": []
    },
    {
      "metadata": {
        "id": "XlZcLfMS-oF5",
        "colab_type": "code",
        "outputId": "6fcfca87-fe30-4bea-85fd-ce4223c9eded",
        "colab": {
          "base_uri": "https://localhost:8080/",
          "height": 221
        }
      },
      "cell_type": "code",
      "source": [
        "for i in range(bow_clusters_df['clusters'].nunique()):\n",
        "    cluster = bow_clusters_df[bow_clusters_df['clusters']== i]\n",
        "    print('Cluster ', i, '\\n', Counter(list(cluster['text_source'])),'\\n')"
      ],
      "execution_count": 57,
      "outputs": [
        {
          "output_type": "stream",
          "text": [
            "Cluster  0 \n",
            " Counter({'Hawking': 111, 'Maxwell': 83, 'Euler': 40, 'Newton': 37, 'Bernoulli': 31, 'Galileo ': 24, 'Bohr': 19, 'Kepler': 18, 'Dirac': 15, 'Curie': 12}) \n",
            "\n",
            "Cluster  1 \n",
            " Counter({'Bernoulli': 1, 'Euler': 1}) \n",
            "\n",
            "Cluster  2 \n",
            " Counter({'Euler': 1}) \n",
            "\n",
            "Cluster  3 \n",
            " Counter({'Hawking': 17}) \n",
            "\n"
          ],
          "name": "stdout"
        }
      ]
    },
    {
      "metadata": {
        "id": "-9GD4DJOUNF8",
        "colab_type": "text"
      },
      "cell_type": "markdown",
      "source": [
        "Cluster0 has majority of elements"
      ]
    },
    {
      "metadata": {
        "id": "qZUjv25C-vVy",
        "colab_type": "code",
        "outputId": "a514e427-939a-417a-8564-5e154b59df38",
        "colab": {
          "base_uri": "https://localhost:8080/",
          "height": 187
        }
      },
      "cell_type": "code",
      "source": [
        "bow_cluster0 = bow_clusters_df.loc[bow_clusters_df['clusters']== 0, ['text_sentence','text_source']]\n",
        "for i in bow_cluster0.index[:5]:\n",
        "    print(bow_cluster0.loc[i,'text_sentence'], '\\n')"
      ],
      "execution_count": 58,
      "outputs": [
        {
          "output_type": "stream",
          "text": [
            "nThis paper presents an in silico optimization method of metabolic pathway production. \n",
            "\n",
            "The metabolic pathway can be represented by a mathematical model known as the generalized mass action model, which leads to a complex nonlinear equations system. \n",
            "\n",
            "The optimization process becomes difficult when steady state and the constraints of the components in the metabolic pathway are involved. \n",
            "\n",
            "To deal with this situation, this paper presents an in silico optimization method, namely the Newton Cooperative Genetic Algorithm (NCGA). \n",
            "\n",
            "The NCGA used Newton method in dealing with the metabolic pathway, and then integrated genetic algorithm and cooperative co-evolutionary algorithm. \n",
            "\n"
          ],
          "name": "stdout"
        }
      ]
    },
    {
      "metadata": {
        "id": "sha4Noss-4JK",
        "colab_type": "code",
        "outputId": "6c819dd5-8c34-40f5-fdee-52bb20d7227a",
        "colab": {
          "base_uri": "https://localhost:8080/",
          "height": 105
        }
      },
      "cell_type": "code",
      "source": [
        "bow_cluster1 = bow_clusters_df.loc[bow_clusters_df['clusters']== 1, ['text_sentence','text_source']]\n",
        "for i in bow_cluster1.index[:5]:\n",
        "    print(bow_cluster1.loc[i,'text_sentence'], '\\n')"
      ],
      "execution_count": 59,
      "outputs": [
        {
          "output_type": "stream",
          "text": [
            "nThe linear theory of thermoelastic damping (TED) has been extensively developed over the past eight decades, but relatively little is known about the different types of nonlinearities that are associated with this fundamental mechanism of material damping. \n",
            "\n",
            "Experimental results demonstrate the effectiveness of the proposed model in visual improvement, as well as an increase in the peak signal-to-noise ratio, compared to the PDE-based methods.nnThe linear theory of thermoelastic damping (TED) has been extensively developed over the past eight decades, but relatively little is known about the different types of nonlinearities that are associated with this fundamental mechanism of material damping. \n",
            "\n"
          ],
          "name": "stdout"
        }
      ]
    },
    {
      "metadata": {
        "id": "vjPfJJbB_BM6",
        "colab_type": "code",
        "outputId": "572425c3-33b8-47b2-f43c-34a06cb4fb5e",
        "colab": {
          "base_uri": "https://localhost:8080/",
          "height": 71
        }
      },
      "cell_type": "code",
      "source": [
        "bow_cluster2 = bow_clusters_df.loc[bow_clusters_df['clusters']== 2, ['text_sentence','text_source']]\n",
        "for i in bow_cluster2.index[:5]:\n",
        "    print(bow_cluster2.loc[i,'text_sentence'], '\\n')"
      ],
      "execution_count": 60,
      "outputs": [
        {
          "output_type": "stream",
          "text": [
            "Our study demonstrates that, the new Eulers formula provides a theoretical framework for the stereo-chemistry of DNA polyhedra, which can characterize enzymatic transformations of DNA and be used to characterize and design novel cages with higher genus.n      \"nMinimization functionals related to Euler’s elastica energy has a broad range of applications in computer vision and image processing. \n",
            "\n"
          ],
          "name": "stdout"
        }
      ]
    },
    {
      "metadata": {
        "id": "YxTp-jtM_IAb",
        "colab_type": "code",
        "outputId": "8c89a8df-c6a3-4a4f-e24c-5ee482c15e71",
        "colab": {
          "base_uri": "https://localhost:8080/",
          "height": 187
        }
      },
      "cell_type": "code",
      "source": [
        "bow_cluster3 = bow_clusters_df.loc[bow_clusters_df['clusters']== 3, ['text_sentence','text_source']]\n",
        "for i in bow_cluster3.index[:5]:\n",
        "    print(bow_cluster3.loc[i,'text_sentence'], '\\n')"
      ],
      "execution_count": 61,
      "outputs": [
        {
          "output_type": "stream",
          "text": [
            "Their efficient hunting involves the use of specialised foraging techniques which employ brief short-distance pursuit and/or rapid neck extension to capture prey that is visually detected or flushed only at short range. \n",
            "\n",
            "We studied visual field configuration, degree of eye movement, and orbit orientation in three diurnal raptors belonging to the Accipitridae and Falconidae families. \n",
            "\n",
            "We found inter-specific variation in visual field configuration and degree of eye movement, but not in orbit orientation. \n",
            "\n",
            "∼°), but intermediate degree of eye movement (∼°), which underscores the importance of lateral vision rather than binocular vision to scan for distant prey in open areas. \n",
            "\n",
            "Coopers Hawks have relatively wide binocular fields (∼°), small blind areas (∼°), and high degree of eye movement (∼°), which may increase visual coverage and enhance prey detection in closed habitats. \n",
            "\n"
          ],
          "name": "stdout"
        }
      ]
    },
    {
      "metadata": {
        "id": "1dCgSBgbUWPU",
        "colab_type": "text"
      },
      "cell_type": "markdown",
      "source": [
        "Let us try mean shift now"
      ]
    },
    {
      "metadata": {
        "id": "ESMtAZn8_ONa",
        "colab_type": "code",
        "outputId": "1107401a-f946-4312-c869-bb6a65201e69",
        "colab": {
          "base_uri": "https://localhost:8080/",
          "height": 34
        }
      },
      "cell_type": "code",
      "source": [
        "bandwidth = estimate_bandwidth(x, quantile=0.2, n_samples=500)\n",
        "\n",
        "# Declare and fit the model.\n",
        "ms = MeanShift(bandwidth=bandwidth, bin_seeding=True)\n",
        "ms.fit(x)\n",
        "\n",
        "# Extract cluster assignments for each data point.\n",
        "labels = ms.labels_\n",
        "\n",
        "# Coordinates of the cluster centers.\n",
        "cluster_centers = ms.cluster_centers_\n",
        "\n",
        "# Count our clusters.\n",
        "n_clusters_ = len(np.unique(labels))\n",
        "\n",
        "print(\"Number of estimated clusters: {}\".format(n_clusters_))"
      ],
      "execution_count": 62,
      "outputs": [
        {
          "output_type": "stream",
          "text": [
            "Number of estimated clusters: 5\n"
          ],
          "name": "stdout"
        }
      ]
    },
    {
      "metadata": {
        "id": "ROOhT_9I_UN7",
        "colab_type": "code",
        "colab": {}
      },
      "cell_type": "code",
      "source": [
        "bow_mean_shift_clusters = bow_df.copy()"
      ],
      "execution_count": 0,
      "outputs": []
    },
    {
      "metadata": {
        "id": "dUzjtzaR_acz",
        "colab_type": "code",
        "colab": {}
      },
      "cell_type": "code",
      "source": [
        "bow_mean_shift_clusters['clusters'] = labels"
      ],
      "execution_count": 0,
      "outputs": []
    },
    {
      "metadata": {
        "id": "tvSvs9bz_dHi",
        "colab_type": "code",
        "outputId": "bf93de75-b321-4dd4-8e8f-6180b57bb19e",
        "colab": {
          "base_uri": "https://localhost:8080/",
          "height": 272
        }
      },
      "cell_type": "code",
      "source": [
        "for i in range(bow_mean_shift_clusters['clusters'].nunique()):\n",
        "    cluster = bow_mean_shift_clusters[bow_mean_shift_clusters['clusters']== i]\n",
        "    print('Cluster ', i, '\\n', Counter(list(cluster['text_source'])),'\\n')"
      ],
      "execution_count": 65,
      "outputs": [
        {
          "output_type": "stream",
          "text": [
            "Cluster  0 \n",
            " Counter({'Hawking': 127, 'Maxwell': 82, 'Euler': 42, 'Newton': 35, 'Bernoulli': 32, 'Galileo ': 23, 'Bohr': 19, 'Kepler': 18, 'Dirac': 15, 'Curie': 12}) \n",
            "\n",
            "Cluster  1 \n",
            " Counter({'Maxwell': 1}) \n",
            "\n",
            "Cluster  2 \n",
            " Counter({'Newton': 2}) \n",
            "\n",
            "Cluster  3 \n",
            " Counter({'Hawking': 1}) \n",
            "\n",
            "Cluster  4 \n",
            " Counter({'Galileo ': 1}) \n",
            "\n"
          ],
          "name": "stdout"
        }
      ]
    },
    {
      "metadata": {
        "id": "QVNZiApQUeGK",
        "colab_type": "text"
      },
      "cell_type": "markdown",
      "source": [
        "Even though the number of clusters increased, Cluster 0 still has most of elements"
      ]
    },
    {
      "metadata": {
        "id": "qeT-vX_s_iUB",
        "colab_type": "code",
        "outputId": "368f7079-60a7-4f3d-d30e-f427c99a0a4c",
        "colab": {
          "base_uri": "https://localhost:8080/",
          "height": 71
        }
      },
      "cell_type": "code",
      "source": [
        "mean_shift_cluster1 = bow_mean_shift_clusters.loc[bow_mean_shift_clusters['clusters']== 1, ['text_sentence','text_source']]\n",
        "for i in mean_shift_cluster1.index:\n",
        "    print(mean_shift_cluster1.loc[i,'text_sentence'], '\\n')"
      ],
      "execution_count": 66,
      "outputs": [
        {
          "output_type": "stream",
          "text": [
            "The momentum, energy and nanoparticle concentration profiles are examined with respect to the involved rheological parameters namely the Deborah number, source/sink parameter, the Brownian motion parameters, thermophoresis parameter and Biot number. \n",
            "\n"
          ],
          "name": "stdout"
        }
      ]
    },
    {
      "metadata": {
        "id": "egO1UraH_rVq",
        "colab_type": "code",
        "outputId": "d0a76869-9ec4-4df3-e3ce-4b2fc0a59ebf",
        "colab": {
          "base_uri": "https://localhost:8080/",
          "height": 187
        }
      },
      "cell_type": "code",
      "source": [
        "mean_shift_cluster2 = bow_mean_shift_clusters.loc[bow_mean_shift_clusters['clusters']== 0, ['text_sentence','text_source']]\n",
        "for i in mean_shift_cluster2.index[:5]:\n",
        "    print(mean_shift_cluster2.loc[i,'text_sentence'], '\\n')"
      ],
      "execution_count": 67,
      "outputs": [
        {
          "output_type": "stream",
          "text": [
            "nThis paper presents an in silico optimization method of metabolic pathway production. \n",
            "\n",
            "The metabolic pathway can be represented by a mathematical model known as the generalized mass action model, which leads to a complex nonlinear equations system. \n",
            "\n",
            "The optimization process becomes difficult when steady state and the constraints of the components in the metabolic pathway are involved. \n",
            "\n",
            "To deal with this situation, this paper presents an in silico optimization method, namely the Newton Cooperative Genetic Algorithm (NCGA). \n",
            "\n",
            "The NCGA used Newton method in dealing with the metabolic pathway, and then integrated genetic algorithm and cooperative co-evolutionary algorithm. \n",
            "\n"
          ],
          "name": "stdout"
        }
      ]
    },
    {
      "metadata": {
        "id": "iioAWA1iAVU2",
        "colab_type": "text"
      },
      "cell_type": "markdown",
      "source": [
        "# **TF_IDF**\n",
        "\n",
        "Now let us try TF-IDF and continue our modeling"
      ]
    },
    {
      "metadata": {
        "id": "fKN4-SK-Bshb",
        "colab_type": "code",
        "cellView": "both",
        "colab": {}
      },
      "cell_type": "code",
      "source": [
        "# create a document-term matrix using TF-IDF\n",
        "text_in_sentences = \"\"\n",
        "text_in_sentences=[text_in_sentences]\n",
        "text_in_sentences = newton_clean + bohr_clean + maxwell_clean + galileo_clean + kepler_clean + hawking_clean + curie_clean + dirac_clean + bernoulli_clean + euler_clean\n"
      ],
      "execution_count": 0,
      "outputs": []
    },
    {
      "metadata": {
        "id": "qcdvPapDIRrr",
        "colab_type": "code",
        "outputId": "04f7a8d8-2584-41a2-fb24-4ba019035418",
        "colab": {
          "base_uri": "https://localhost:8080/",
          "height": 34
        }
      },
      "cell_type": "code",
      "source": [
        "vect = TfidfVectorizer(stop_words='english')\n",
        "dtm = vect.fit_transform([text_in_sentences])\n",
        "features = vect.get_feature_names()\n",
        "dtm.shape"
      ],
      "execution_count": 69,
      "outputs": [
        {
          "output_type": "execute_result",
          "data": {
            "text/plain": [
              "(1, 2159)"
            ]
          },
          "metadata": {
            "tags": []
          },
          "execution_count": 69
        }
      ]
    },
    {
      "metadata": {
        "id": "__fvXXwsKDm_",
        "colab_type": "code",
        "colab": {}
      },
      "cell_type": "code",
      "source": [
        "idf = vect.idf_"
      ],
      "execution_count": 0,
      "outputs": []
    },
    {
      "metadata": {
        "id": "a29SbqoYKMgK",
        "colab_type": "code",
        "colab": {}
      },
      "cell_type": "code",
      "source": [
        "idf_dict = dict(zip(vect.get_feature_names(), idf))"
      ],
      "execution_count": 0,
      "outputs": []
    },
    {
      "metadata": {
        "id": "jXLDwm1wRs0T",
        "colab_type": "code",
        "colab": {}
      },
      "cell_type": "code",
      "source": [
        "idf_words = list(idf_dict.keys())"
      ],
      "execution_count": 0,
      "outputs": []
    },
    {
      "metadata": {
        "id": "jbRSfTdmRxq6",
        "colab_type": "code",
        "colab": {}
      },
      "cell_type": "code",
      "source": [
        "def idf_features(sentences, common_words):\n",
        "    \n",
        "    # Scaffold the data frame and initialize counts to zero.\n",
        "    df = pd.DataFrame(columns=common_words)\n",
        "    df['text_sentence'] = sentences['text_sentence']\n",
        "    df['text_source'] = sentences['text_source']\n",
        "    df.loc[:, common_words] = 0\n",
        "    \n",
        "    # Process each row, counting the occurrence of words in each sentence.\n",
        "    for i, sentence in enumerate(df['text_sentence']):\n",
        "        \n",
        "        # Convert the sentence to lemmas, then filter out punctuation,\n",
        "        # stop words, and uncommon words.\n",
        "        words = [token.lemma_\n",
        "                 for token in sentence\n",
        "                 if (\n",
        "                     not token.is_punct\n",
        "                     and not token.is_stop\n",
        "                     and token.lemma_ in common_words\n",
        "                 )]\n",
        "        # Populate the row with word counts.\n",
        "        for word in words:\n",
        "            df.loc[i, word] += idf_dict[word]\n",
        "        \n",
        "        # This counter is just to make sure the kernel didn't hang.\n",
        "        if i % 500 == 0:\n",
        "            print(\"Processing row {}\".format(i))\n",
        "            \n",
        "    return df"
      ],
      "execution_count": 0,
      "outputs": []
    },
    {
      "metadata": {
        "id": "IIMZTUTKR-mt",
        "colab_type": "code",
        "outputId": "429032ec-a26a-48dd-dc22-184198fea01c",
        "colab": {
          "base_uri": "https://localhost:8080/",
          "height": 34
        }
      },
      "cell_type": "code",
      "source": [
        "tfidf_df = idf_features(df, idf_words)"
      ],
      "execution_count": 74,
      "outputs": [
        {
          "output_type": "stream",
          "text": [
            "Processing row 0\n"
          ],
          "name": "stdout"
        }
      ]
    },
    {
      "metadata": {
        "id": "WkxqZ9UBSCxT",
        "colab_type": "code",
        "outputId": "ba7d3a15-15f3-4a1b-ee92-3696bcd05f3e",
        "colab": {
          "base_uri": "https://localhost:8080/",
          "height": 233
        }
      },
      "cell_type": "code",
      "source": [
        "tfidf_df.head()"
      ],
      "execution_count": 75,
      "outputs": [
        {
          "output_type": "execute_result",
          "data": {
            "text/html": [
              "<div>\n",
              "<style scoped>\n",
              "    .dataframe tbody tr th:only-of-type {\n",
              "        vertical-align: middle;\n",
              "    }\n",
              "\n",
              "    .dataframe tbody tr th {\n",
              "        vertical-align: top;\n",
              "    }\n",
              "\n",
              "    .dataframe thead th {\n",
              "        text-align: right;\n",
              "    }\n",
              "</style>\n",
              "<table border=\"1\" class=\"dataframe\">\n",
              "  <thead>\n",
              "    <tr style=\"text-align: right;\">\n",
              "      <th></th>\n",
              "      <th>able</th>\n",
              "      <th>absolute</th>\n",
              "      <th>absorption</th>\n",
              "      <th>abstract</th>\n",
              "      <th>abundance</th>\n",
              "      <th>abundant</th>\n",
              "      <th>access</th>\n",
              "      <th>accessible</th>\n",
              "      <th>accipiter</th>\n",
              "      <th>accipitridae</th>\n",
              "      <th>...</th>\n",
              "      <th>yielding</th>\n",
              "      <th>young</th>\n",
              "      <th>zero</th>\n",
              "      <th>zinc</th>\n",
              "      <th>zone</th>\n",
              "      <th>δtime</th>\n",
              "      <th>δwt</th>\n",
              "      <th>δwtua</th>\n",
              "      <th>text_sentence</th>\n",
              "      <th>text_source</th>\n",
              "    </tr>\n",
              "  </thead>\n",
              "  <tbody>\n",
              "    <tr>\n",
              "      <th>0</th>\n",
              "      <td>0</td>\n",
              "      <td>0</td>\n",
              "      <td>0</td>\n",
              "      <td>0</td>\n",
              "      <td>0</td>\n",
              "      <td>0</td>\n",
              "      <td>0</td>\n",
              "      <td>0</td>\n",
              "      <td>0</td>\n",
              "      <td>0</td>\n",
              "      <td>...</td>\n",
              "      <td>0</td>\n",
              "      <td>0</td>\n",
              "      <td>0</td>\n",
              "      <td>0</td>\n",
              "      <td>0</td>\n",
              "      <td>0</td>\n",
              "      <td>0</td>\n",
              "      <td>0</td>\n",
              "      <td>(nThis, paper, presents, an, in, silico, optim...</td>\n",
              "      <td>Newton</td>\n",
              "    </tr>\n",
              "    <tr>\n",
              "      <th>1</th>\n",
              "      <td>0</td>\n",
              "      <td>0</td>\n",
              "      <td>0</td>\n",
              "      <td>0</td>\n",
              "      <td>0</td>\n",
              "      <td>0</td>\n",
              "      <td>0</td>\n",
              "      <td>0</td>\n",
              "      <td>0</td>\n",
              "      <td>0</td>\n",
              "      <td>...</td>\n",
              "      <td>0</td>\n",
              "      <td>0</td>\n",
              "      <td>0</td>\n",
              "      <td>0</td>\n",
              "      <td>0</td>\n",
              "      <td>0</td>\n",
              "      <td>0</td>\n",
              "      <td>0</td>\n",
              "      <td>(The, metabolic, pathway, can, be, represented...</td>\n",
              "      <td>Newton</td>\n",
              "    </tr>\n",
              "    <tr>\n",
              "      <th>2</th>\n",
              "      <td>0</td>\n",
              "      <td>0</td>\n",
              "      <td>0</td>\n",
              "      <td>0</td>\n",
              "      <td>0</td>\n",
              "      <td>0</td>\n",
              "      <td>0</td>\n",
              "      <td>0</td>\n",
              "      <td>0</td>\n",
              "      <td>0</td>\n",
              "      <td>...</td>\n",
              "      <td>0</td>\n",
              "      <td>0</td>\n",
              "      <td>0</td>\n",
              "      <td>0</td>\n",
              "      <td>0</td>\n",
              "      <td>0</td>\n",
              "      <td>0</td>\n",
              "      <td>0</td>\n",
              "      <td>(The, optimization, process, becomes, difficul...</td>\n",
              "      <td>Newton</td>\n",
              "    </tr>\n",
              "    <tr>\n",
              "      <th>3</th>\n",
              "      <td>0</td>\n",
              "      <td>0</td>\n",
              "      <td>0</td>\n",
              "      <td>0</td>\n",
              "      <td>0</td>\n",
              "      <td>0</td>\n",
              "      <td>0</td>\n",
              "      <td>0</td>\n",
              "      <td>0</td>\n",
              "      <td>0</td>\n",
              "      <td>...</td>\n",
              "      <td>0</td>\n",
              "      <td>0</td>\n",
              "      <td>0</td>\n",
              "      <td>0</td>\n",
              "      <td>0</td>\n",
              "      <td>0</td>\n",
              "      <td>0</td>\n",
              "      <td>0</td>\n",
              "      <td>(To, deal, with, this, situation, ,, this, pap...</td>\n",
              "      <td>Newton</td>\n",
              "    </tr>\n",
              "    <tr>\n",
              "      <th>4</th>\n",
              "      <td>0</td>\n",
              "      <td>0</td>\n",
              "      <td>0</td>\n",
              "      <td>0</td>\n",
              "      <td>0</td>\n",
              "      <td>0</td>\n",
              "      <td>0</td>\n",
              "      <td>0</td>\n",
              "      <td>0</td>\n",
              "      <td>0</td>\n",
              "      <td>...</td>\n",
              "      <td>0</td>\n",
              "      <td>0</td>\n",
              "      <td>0</td>\n",
              "      <td>0</td>\n",
              "      <td>0</td>\n",
              "      <td>0</td>\n",
              "      <td>0</td>\n",
              "      <td>0</td>\n",
              "      <td>(The, NCGA, used, Newton, method, in, dealing,...</td>\n",
              "      <td>Newton</td>\n",
              "    </tr>\n",
              "  </tbody>\n",
              "</table>\n",
              "<p>5 rows × 2161 columns</p>\n",
              "</div>"
            ],
            "text/plain": [
              "  able absolute absorption abstract abundance abundant access accessible  \\\n",
              "0    0        0          0        0         0        0      0          0   \n",
              "1    0        0          0        0         0        0      0          0   \n",
              "2    0        0          0        0         0        0      0          0   \n",
              "3    0        0          0        0         0        0      0          0   \n",
              "4    0        0          0        0         0        0      0          0   \n",
              "\n",
              "  accipiter accipitridae     ...     yielding young zero zinc zone δtime δwt  \\\n",
              "0         0            0     ...            0     0    0    0    0     0   0   \n",
              "1         0            0     ...            0     0    0    0    0     0   0   \n",
              "2         0            0     ...            0     0    0    0    0     0   0   \n",
              "3         0            0     ...            0     0    0    0    0     0   0   \n",
              "4         0            0     ...            0     0    0    0    0     0   0   \n",
              "\n",
              "  δwtua                                      text_sentence text_source  \n",
              "0     0  (nThis, paper, presents, an, in, silico, optim...      Newton  \n",
              "1     0  (The, metabolic, pathway, can, be, represented...      Newton  \n",
              "2     0  (The, optimization, process, becomes, difficul...      Newton  \n",
              "3     0  (To, deal, with, this, situation, ,, this, pap...      Newton  \n",
              "4     0  (The, NCGA, used, Newton, method, in, dealing,...      Newton  \n",
              "\n",
              "[5 rows x 2161 columns]"
            ]
          },
          "metadata": {
            "tags": []
          },
          "execution_count": 75
        }
      ]
    },
    {
      "metadata": {
        "id": "CRQJbZxIUzDq",
        "colab_type": "text"
      },
      "cell_type": "markdown",
      "source": [
        "We now have more features than Bag of Words method. We will now split data 80-20 ratio to perform modelling"
      ]
    },
    {
      "metadata": {
        "id": "hAD-QLqUTEUK",
        "colab_type": "code",
        "colab": {}
      },
      "cell_type": "code",
      "source": [
        "y_idf = tfidf_df['text_source']\n",
        "x_idf = np.array(tfidf_df.drop(['text_sentence','text_source'], 1))\n",
        "\n",
        "x_idf_train, x_idf_test, y_idf_train, y_idf_test = train_test_split(x_idf, y_idf, test_size=0.20, random_state=42)"
      ],
      "execution_count": 0,
      "outputs": []
    },
    {
      "metadata": {
        "id": "6dB1scCnVGUS",
        "colab_type": "text"
      },
      "cell_type": "markdown",
      "source": [
        "####Using Random Forest"
      ]
    },
    {
      "metadata": {
        "id": "tAJbbxYnTjTc",
        "colab_type": "code",
        "outputId": "aed6941f-e3e6-4c2c-9496-c78e25264cab",
        "colab": {
          "base_uri": "https://localhost:8080/",
          "height": 85
        }
      },
      "cell_type": "code",
      "source": [
        "rfc = ensemble.RandomForestClassifier()\n",
        "rfc.fit(x_idf_train, y_idf_train)\n",
        "\n",
        "print('Training set score:', rfc.score(x_idf_train, y_idf_train))\n",
        "print('Test set score:', rfc.score(x_idf_test, y_idf_test))"
      ],
      "execution_count": 77,
      "outputs": [
        {
          "output_type": "stream",
          "text": [
            "Training set score: 0.9359756097560976\n",
            "Test set score: 0.5975609756097561\n"
          ],
          "name": "stdout"
        },
        {
          "output_type": "stream",
          "text": [
            "/usr/local/lib/python3.6/dist-packages/sklearn/ensemble/forest.py:246: FutureWarning: The default value of n_estimators will change from 10 in version 0.20 to 100 in 0.22.\n",
            "  \"10 in version 0.20 to 100 in 0.22.\", FutureWarning)\n"
          ],
          "name": "stderr"
        }
      ]
    },
    {
      "metadata": {
        "id": "9qmGCqFXVOJ2",
        "colab_type": "text"
      },
      "cell_type": "markdown",
      "source": [
        "Ok we had a 10% increase compared to BOW\n",
        "\n",
        "####Using Logistic Regression"
      ]
    },
    {
      "metadata": {
        "id": "O69mTu9jT1zz",
        "colab_type": "code",
        "outputId": "698ceab3-e1a5-4df0-d871-fde07f7a0cd0",
        "colab": {
          "base_uri": "https://localhost:8080/",
          "height": 119
        }
      },
      "cell_type": "code",
      "source": [
        "lr = LogisticRegression()\n",
        "lr.fit(x_idf_train, y_idf_train)\n",
        "\n",
        "print('Training set score:', lr.score(x_idf_train, y_idf_train))\n",
        "print('Test set score:', lr.score(x_idf_test, y_idf_test))"
      ],
      "execution_count": 78,
      "outputs": [
        {
          "output_type": "stream",
          "text": [
            "Training set score: 0.9359756097560976\n",
            "Test set score: 0.7073170731707317\n"
          ],
          "name": "stdout"
        },
        {
          "output_type": "stream",
          "text": [
            "/usr/local/lib/python3.6/dist-packages/sklearn/linear_model/logistic.py:433: FutureWarning: Default solver will be changed to 'lbfgs' in 0.22. Specify a solver to silence this warning.\n",
            "  FutureWarning)\n",
            "/usr/local/lib/python3.6/dist-packages/sklearn/linear_model/logistic.py:460: FutureWarning: Default multi_class will be changed to 'auto' in 0.22. Specify the multi_class option to silence this warning.\n",
            "  \"this warning.\", FutureWarning)\n"
          ],
          "name": "stderr"
        }
      ]
    },
    {
      "metadata": {
        "id": "Jo-Ft_QxVaCc",
        "colab_type": "text"
      },
      "cell_type": "markdown",
      "source": [
        "This might be the highest score we have till now\n",
        "\n",
        "####Using Gradient Boost"
      ]
    },
    {
      "metadata": {
        "id": "9nSWjRw1UF7O",
        "colab_type": "code",
        "outputId": "b06702e4-7a70-43b1-8590-20a986c2bacb",
        "colab": {
          "base_uri": "https://localhost:8080/",
          "height": 51
        }
      },
      "cell_type": "code",
      "source": [
        "clf = ensemble.GradientBoostingClassifier()\n",
        "clf.fit(x_idf_train, y_idf_train)\n",
        "\n",
        "print('Training set score:', clf.score(x_idf_train, y_idf_train))\n",
        "print('Test set score:', clf.score(x_idf_test, y_idf_test))"
      ],
      "execution_count": 79,
      "outputs": [
        {
          "output_type": "stream",
          "text": [
            "Training set score: 0.9359756097560976\n",
            "Test set score: 0.5609756097560976\n"
          ],
          "name": "stdout"
        }
      ]
    },
    {
      "metadata": {
        "id": "HAt5EU7KViXx",
        "colab_type": "text"
      },
      "cell_type": "markdown",
      "source": [
        "Better than GB score of BOW\n",
        "\n",
        "####Using SVC"
      ]
    },
    {
      "metadata": {
        "id": "zSP910j4UQWf",
        "colab_type": "code",
        "outputId": "8818148e-8696-4a81-b521-bc59c752d5d9",
        "colab": {
          "base_uri": "https://localhost:8080/",
          "height": 51
        }
      },
      "cell_type": "code",
      "source": [
        "svm = SVC(kernel = 'linear')\n",
        "svm.fit(x_idf_train, y_idf_train)\n",
        "\n",
        "print('Training set score:', svm.score(x_idf_train, y_idf_train))\n",
        "print('Test set score:', svm.score(x_idf_test, y_idf_test))"
      ],
      "execution_count": 80,
      "outputs": [
        {
          "output_type": "stream",
          "text": [
            "Training set score: 0.9359756097560976\n",
            "Test set score: 0.5975609756097561\n"
          ],
          "name": "stdout"
        }
      ]
    },
    {
      "metadata": {
        "id": "3PD6KJINVqlT",
        "colab_type": "text"
      },
      "cell_type": "markdown",
      "source": [
        "Again Better scores consistently across all models using TFIDF method\n",
        "\n",
        "##Using SVD to reduce features to 130 from 2000s"
      ]
    },
    {
      "metadata": {
        "id": "z5rz14LXUhBN",
        "colab_type": "code",
        "outputId": "5bb521b3-d2e4-41b1-bc36-b5a8f9fdd7cb",
        "colab": {
          "base_uri": "https://localhost:8080/",
          "height": 1159
        }
      },
      "cell_type": "code",
      "source": [
        "from sklearn.decomposition import TruncatedSVD\n",
        "from sklearn.pipeline import make_pipeline\n",
        "from sklearn.preprocessing import Normalizer\n",
        "\n",
        "X_index, Y_index = train_test_split(sentences, test_size=0.2, random_state=0)\n",
        "\n",
        "#Our SVD data reducer.  We are going to reduce the feature space  to 130.\n",
        "svd= TruncatedSVD(130)\n",
        "lsa = make_pipeline(svd, Normalizer(copy=False))\n",
        "# Run SVD on the training data, then project the training data.\n",
        "X_idf_train_lsa = lsa.fit_transform(x_idf_train)\n",
        "\n",
        "variance_explained=svd.explained_variance_ratio_\n",
        "total_variance = variance_explained.sum()\n",
        "print(\"Percent variance captured by all components:\",total_variance*100)\n",
        "\n",
        "#Looking at what sorts of paragraphs our solution considers similar, for the first five identified topics\n",
        "paras_by_component=pd.DataFrame(X_idf_train_lsa,index=X_index)\n",
        "for i in range(5):\n",
        "    print('Component {}:'.format(i))\n",
        "    print(paras_by_component.loc[:,i].sort_values(ascending=False)[0:10])"
      ],
      "execution_count": 81,
      "outputs": [
        {
          "output_type": "stream",
          "text": [
            "Percent variance captured by all components: 78.67307263379222\n",
            "Component 0:\n",
            "text_sentence\n",
            "(We, use, a, mean, -, field, quasi, -, renewal, (, QR, ), approximation, that, decomposes, spike, history, effects, into, the, contribution, of, the, last, spike, and, an, average, of, the, CIF, over, all, spike, histories, prior, to, the, last, spike, .)                                                                                                                         0.533025\n",
            "(The, validity, of, the, CO, hydrogel, was, confirmed, in, vitro, using, a, measuring, device, for, transcutaneous, CO, absorption, using, rat, skin, .)                                                                                                                                                                                                                                0.487198\n",
            "(However, ,, the, Galileo, dataset, had, only, a, small, change, in, phase, angle, (, sun, -, satellite, position, ), which, reduced, the, observed, anisotropy, signal, and, we, demonstrate, that, theoretically, if, the, probe, had, a, variable, phase, angle, between, –, °, ,, there, would, have, been, a, much, larger, predicted, change, in, surface, reflectance, of, .)    0.458314\n",
            "(It, combines, Euler, ’s, elastica, curvature, with, a, Weberized, total, variation, (, TV, ), regularization, and, gets, a, novel, Euler, ’s, elastica, energy, and, TV, -, based, minimization, functional, .)                                                                                                                                                                        0.457856\n",
            "(Proposals, with, a, large, absolute, difference, between, the, average, IER, and, CR, scores, (, ≥, points, ;, n=, ,, .%, ), generally, had, lower, CR, scores, .)                                                                                                                                                                                                                     0.452918\n",
            "(This, shows, that, cormorants, are, able, to, detect, individual, prey, only, at, close, range, (, less, than,  , m, ), .)                                                                                                                                                                                                                                                             0.439107\n",
            "(Approaches, in, a, vehicle, via, low, traffic, volume, access, roads, were, related, to, increased, probability, of, flight, relative, to, other, road, types, .)                                                                                                                                                                                                                      0.432508\n",
            "(Within, the, structural, and, grammatical, bounds, of, a, common, language, ,, all, authors, develop, their, own, distinctive, writing, styles, .)                                                                                                                                                                                                                                     0.428506\n",
            "(In, southern, Alberta, and, Saskatchewan, ,, we, quantified, probability, of, flight, initiation, from, the, nest, by, Ferruginous, Hawks, (, Buteo, regalis, ), during, approaches, to, nests, by, investigators, .)                                                                                                                                                                  0.416549\n",
            "(Different, strategies, to, search, and, detect, prey, may, place, specific, demands, on, sensory, modalities, .)                                                                                                                                                                                                                                                                       0.413552\n",
            "Name: 0, dtype: float64\n",
            "Component 1:\n",
            "text_sentence\n",
            "(Results, revealed, that, the, use, of, the, standard, Maxwell,  , protocol, (, Maxwell, -S, ), resulted, in, good, linearity, and, precision, across, a, wide, concentration, range, and, higher, sensitivity, of, detection, from, flu, -, v, stock, suspensions, than, the, manual, method, .)    0.734636\n",
            "(It, is, simple, ,, intuitive, and, illustrates, excellent, empirical, results.n,      )                                                                                                                                                                                                             0.586518\n",
            "(Through, suitable, transformations, ,, the, similarity, equations, are, formed, which, are, treated, numerically, for, a, broad, range, of, magnetic, interaction, parameter, .)                                                                                                                    0.581044\n",
            "(Cormorant, visual, acuity, under, a, range, of, viewing, conditions, is, in, fact, comparable, to, unaided, humans, under, water, ,, and, very, inferior, to, that, of, aerial, predators, .)                                                                                                       0.557035\n",
            "(Overall, ,, we, found, support, that, Ferruginous, Hawks, show, habituation, to, vehicles, and, the, positive, reinforcement, hypotheses, as, probability, of, flight, was, negatively, related, to, an, index, of, traffic, activity, near, the, nest, .)                                          0.555810\n",
            "(We, documented,  , successful, breeding, attempts, that, fledged,  , chicks, ;, .)                                                                                                                                                                                                                  0.530032\n",
            "(Using, ground, and, aerial, surveys, ,, we, located, and, monitored, nesting, Swainson, ’s, hawk, pairs, :,  , in,  , and,  , in, .)                                                                                                                                                                0.471497\n",
            "(Coopers, Hawks, have, relatively, wide, binocular, fields, (, ∼, °, ), ,, small, blind, areas, (, ∼, °, ), ,, and, high, degree, of, eye, movement, (, ∼, °, ), ,, which, may, increase, visual, coverage, and, enhance, prey, detection, in, closed, habitats, .)                                  0.459956\n",
            "(The, variation, in, wall, slope, of, temperature, with, increasing, thermal, relaxation, time, appears, similar, at, any, assigned, value, of, Prandtl, number, .)                                                                                                                                  0.456324\n",
            "(Through, analysis, using, stiffness, matrix, of, Euler, -, Bernoulli, beam, ,, displacement, of, shaft, -, core, end, is, measured, instead, of, lift, which, is, difficult, to, measure, .)                                                                                                        0.440684\n",
            "Name: 1, dtype: float64\n",
            "Component 2:\n",
            "text_sentence\n",
            "(And, four, motion, reversal, frequencies, of, ., ,, ., ,, ., and,  , Hz, were, tested, .)                                                                                                                                                                                                                         0.632635\n",
            "(nThe, linear, theory, of, thermoelastic, damping, (, TED, ), has, been, extensively, developed, over, the, past, eight, decades, ,, but, relatively, little, is, known, about, the, different, types, of, nonlinearities, that, are, associated, with, this, fundamental, mechanism, of, material, damping, .)    0.510206\n",
            "(Additionally, ,, this, system, allows, flexible, sample, throughput, and, labor, -, saving, sample, processing, with, little, or, no, risk, of, cross, -, contamination.n,      , \", n,        )                                                                                                                  0.457141\n",
            "(An, inter, -, correlation, matrix, of, individual, raters, scores, of, evaluation, criteria, of, proposals, indicated, that, these, scores, were, ,, in, general, ,, a, reflection, of, raters’, overall, scores, .)                                                                                              0.442124\n",
            "(In, addition, ,, differences, in, polar, moment, of, area, of, the, phalanges, between, the, species, could, relate, to, differences, in, foot, morphology, or, digit, length, .)                                                                                                                                 0.393285\n",
            "(Methods, :, We, used, a, novel, system, for, transcutaneous, application, of, CO, using, pure, CO, gas, ,, hydrogel, ,, and, a, plastic, adaptor, .)                                                                                                                                                              0.366354\n",
            "(Approaches, by, humans, on, foot, resulted, in, a, greater, probability, of, flight, than, those, in, a, vehicle, .)                                                                                                                                                                                              0.334849\n",
            "(Three, main, factors, are, analyzed, with, quantitative, relationship, .)                                                                                                                                                                                                                                         0.315659\n",
            "(The, humerus, and, ulna, of, the, flap, -, gliding, Great, Horned, Owl, are, more, elliptical, than, the, static, soaring, Red, -, tailed, Hawk, ,, a, shape, that, may, better, resist, the, bending, loads, associated, with, a, larger, amount, of, flapping.n)                                                0.311402\n",
            "(nSwainson, ’s, hawks, (, Buteo, swainsoni, ), are, long, -, distance, migratory, raptors, that, nest, primarily, in, isolated, trees, located, in, areas, of, high, grassland, density, .)                                                                                                                        0.305068\n",
            "Name: 2, dtype: float64\n",
            "Component 3:\n",
            "text_sentence\n",
            "(We, found, some, evidence, linking, susceptibility, to, parasitoidism, by, the, introduced, fly, Compsilura, concinnata, (, Tachinidae, ), to, declines, .)                                                                                0.696605\n",
            "(To, address, these, issues, ,, we, derive, a, framework, for, determining, the, existence, and, stability, of, fixed, points, of, the, expected, conditional, intensity, function, (, CIF, ), for, general, PP, -, GLMs, .)                0.677499\n",
            "(We, reanalyse, the, data, from, this, probe, to, see, if, structured, vegetation, could, have, been, detected, in, regions, with, abundant, photosynthetic, pigments, through, the, anisotropy, of, reflected, shortwave, radiation, .)    0.611948\n",
            "(It, performs, an, Euler, -, like, step, which, uses, the, signs, of, the, right, hand, sides, to, obtain, the, Boolean, update, functions, for, every, variable, of, the, corresponding, discrete, model, .)                               0.593031\n",
            "(Unfortunately, ,, for, a, given, model, ,, it, is, hard, to, predict, whether, stochastic, samples, will, produce, an, event, pattern, consistent, with, observations, .)                                                                  0.515188\n",
            "(nSagan, et, al, .)                                                                                                                                                                                                                         0.483146\n",
            "(CR, scores, for, proposals, with, initial, disagreement, were, also, significantly, lower, .)                                                                                                                                              0.449181\n",
            "(Thus, the, new, device, contributes, to, maintenance, and, measurement, .)                                                                                                                                                                 0.395721\n",
            "(The, tibiotarsus, was, more, elliptical, than, that, of, the, Great, Horned, Owl, .)                                                                                                                                                       0.369268\n",
            "(Results, are, plotted, and, analyzed, for, PST, and, PHF, cases, .)                                                                                                                                                                        0.364304\n",
            "Name: 3, dtype: float64\n",
            "Component 4:\n",
            "text_sentence\n",
            "(As, a, result, ,, there, is, a, large, deviation, between, actual, value, and, theoretical, value, of, lift, .)                                                                                     0.631015\n",
            "(Both, numerical, and, analytic, solutions, are, presented, and, found, in, nice, agreement, .)                                                                                                      0.553114\n",
            "(For, fragile, models, ,, fluctuations, of, the, single, -, neuron, dynamics, predict, expected, divergence, times, after, which, rates, approach, unphysiologically, high, values, .)               0.544130\n",
            "(This, metric, can, be, used, to, estimate, the, probability, of, rates, to, remain, physiological, for, given, time, periods, ,, e.g., ,, for, simulation, purposes, .)                             0.533135\n",
            "(Probability, of, re, -, occupancy, was, not, related, to, any, covariates, we, investigated, in, ,, had, a, strong, negative, relationship, with, cover, of, sagebrush, (, Artemisia, spp, ., ))    0.504025\n",
            "(And, the, new, measuring, lift, method, can, be, proved, to, be, effective, through, experiments, .)                                                                                                0.400262\n",
            "(Instead, ,, the, occurrence, of, one, event, changes, the, rate, of, upcoming, events, (, e.g, ,, aftershocks, following, an, earthquake, ), .)                                                     0.388957\n",
            "(nThe, Ligon, -, Schaaf, regularization, (, LS, mapping, ), was, introduced, in,  , and, has, been, used, several, times, .)                                                                         0.365590\n",
            "(Accordingly, ,, the, reliability, of, original, equipment, is, inherited, .)                                                                                                                        0.351163\n",
            "(We, have, tested, ReBMM, on, a, number, of, artificial, datasets, along, with, simulated, data, derived, from, a, plant, signaling, network, .)                                                     0.316978\n",
            "Name: 4, dtype: float64\n"
          ],
          "name": "stdout"
        }
      ]
    },
    {
      "metadata": {
        "id": "rfMeubt4Z_uj",
        "colab_type": "code",
        "outputId": "c98856b1-2093-416e-f523-7cda2fa4a589",
        "colab": {
          "base_uri": "https://localhost:8080/",
          "height": 452
        }
      },
      "cell_type": "code",
      "source": [
        "# Compute document similarity using LSA components\n",
        "similarity = np.asarray(np.asmatrix(X_idf_train_lsa) * np.asmatrix(X_idf_train_lsa).T)\n",
        "#Only taking the first 10 sentences\n",
        "sim_matrix=pd.DataFrame(similarity,index=X_index).iloc[0:10,0:10]\n",
        "#Making a plot\n",
        "ax = sns.heatmap(sim_matrix,yticklabels=range(10))\n",
        "plt.show()\n",
        "\n",
        "#Generating a key for the plot.\n",
        "print('Key:')\n",
        "for i in range(10):\n",
        "    print(i,sim_matrix.index[i])"
      ],
      "execution_count": 82,
      "outputs": [
        {
          "output_type": "display_data",
          "data": {
            "image/png": "[encoded data removed]",
            "text/plain": [
              "<Figure size 432x288 with 2 Axes>"
            ]
          },
          "metadata": {
            "tags": []
          }
        },
        {
          "output_type": "stream",
          "text": [
            "Key:\n",
            "0 s-,\n",
            "1 In particular, with positive feedback loops, the process might diverge and yield unrealistically high event rates.\n",
            "2 This method provides theoretical support for engineering application by carrying out finite element analysis with computers.n\n",
            "3 Their efficient hunting involves the use of specialised foraging techniques which employ brief short-distance pursuit and/or rapid neck extension to capture prey that is visually detected or flushed only at short range.\n",
            "4 Approaches by humans on foot resulted in a greater probability of flight than those in a vehicle.\n",
            "5 The governing partial differential equations even after employing the boundary layer approximations are non linear.\n",
            "6 Methodology:\n",
            "7 Our novel transcutaneous CO application facilitated an O dissociation from Hb in the human body, thus providing evidence of the Bohr effect in vivo.\n",
            "8 () could also have detected whether life on Earth had three-dimensional structure, based on the Galileo space probe data.\n",
            "9 This finding supports public health recommendations to reduce the risk of TD and its complications by preventing weight gain from early adulthood.\n"
          ],
          "name": "stdout"
        }
      ]
    },
    {
      "metadata": {
        "id": "TXjA_fVrWEmP",
        "colab_type": "text"
      },
      "cell_type": "markdown",
      "source": [
        "Using Mean shift method for clustering"
      ]
    },
    {
      "metadata": {
        "id": "Dq3ZTLsjarV6",
        "colab_type": "code",
        "outputId": "815b5b1b-b8a0-4ad4-a760-d555c3a14bc5",
        "colab": {
          "base_uri": "https://localhost:8080/",
          "height": 34
        }
      },
      "cell_type": "code",
      "source": [
        "bandwidth = estimate_bandwidth(x_idf, quantile=0.2, n_samples=500)\n",
        "\n",
        "# Declare and fit the model.\n",
        "ms = MeanShift(bandwidth=bandwidth, bin_seeding=True)\n",
        "ms.fit(x_idf)\n",
        "\n",
        "# Extract cluster assignments for each data point.\n",
        "labels = ms.labels_\n",
        "\n",
        "# Coordinates of the cluster centers.\n",
        "cluster_centers = ms.cluster_centers_\n",
        "\n",
        "# Count our clusters.\n",
        "n_clusters_ = len(np.unique(labels))\n",
        "\n",
        "print(\"Number of estimated clusters: {}\".format(n_clusters_))"
      ],
      "execution_count": 83,
      "outputs": [
        {
          "output_type": "stream",
          "text": [
            "Number of estimated clusters: 5\n"
          ],
          "name": "stdout"
        }
      ]
    },
    {
      "metadata": {
        "id": "Sqy_CVGCa_Uh",
        "colab_type": "code",
        "outputId": "8ad8b7ee-4de1-4ba9-e050-3d5a3dffb132",
        "colab": {
          "base_uri": "https://localhost:8080/",
          "height": 294
        }
      },
      "cell_type": "code",
      "source": [
        "# k means determine k\n",
        "distortions = []\n",
        "K = range(1,10)\n",
        "for k in K:\n",
        "    kmeanModel = KMeans(n_clusters=k).fit(x_idf)\n",
        "    kmeanModel.fit(x_idf)\n",
        "    distortions.append(sum(np.min(cdist(x_idf, kmeanModel.cluster_centers_, 'euclidean'), axis=1)) / x_idf.shape[0])\n",
        "    \n",
        "# Plot the elbow\n",
        "plt.plot(K, distortions, 'bx-')\n",
        "plt.xlabel('k')\n",
        "plt.ylabel('Distortion')\n",
        "plt.title('The Elbow Method showing the optimal k')\n",
        "plt.show()"
      ],
      "execution_count": 84,
      "outputs": [
        {
          "output_type": "display_data",
          "data": {
            "image/png": "[encoded data removed]",
            "text/plain": [
              "<Figure size 432x288 with 1 Axes>"
            ]
          },
          "metadata": {
            "tags": []
          }
        }
      ]
    },
    {
      "metadata": {
        "id": "m0lmza0vWONE",
        "colab_type": "text"
      },
      "cell_type": "markdown",
      "source": [
        "Optimal Clusters may be 7\n",
        "\n",
        "#Conclusion:\n",
        "\n",
        "We tried different methods of modelling using manual feature engineering, Bag of Words and TF-IDF. Our feature engineering turned out to be bad for modeling with scores averaging in 20%s. But as soon as we switched to Bag of Words, the same models provided exciting results between 50%-60%, where the Logistic Regression out performed all others. The highest improvements in scores were when we used the TF-IDF method and performed modelling. Here our Logistic Regression was highest ever for this dataset at 68%. We saw that all in all the optimal number of clusters were around 4 to 5. \n",
        "\n",
        "So I would choose Logistic Regressionon TF-IDF method as the best model for this particular dataset."
      ]
    }
  ]
}