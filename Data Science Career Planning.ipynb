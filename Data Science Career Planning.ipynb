{
 "cells": [
  {
   "cell_type": "markdown",
   "metadata": {},
   "source": [
    "# Thinkful: Career planning document"
   ]
  },
  {
   "cell_type": "markdown",
   "metadata": {},
   "source": [
    "## Section 1: Explore the landscape"
   ]
  },
  {
   "cell_type": "markdown",
   "metadata": {},
   "source": [
    "This document helped me focus on my future career in Data Science and how I want to be represented in the industry. It has given me an outline as to where I need to start looking for jobs, what kind of jobs that I should be looking for and how is the current job market for Data Science.<br>\n",
    "I have also learnt about the importance of networking and how to make connections. I am confident that this level of planning along with the acquired skills will help me land a job in Data Science field of my choice."
   ]
  },
  {
   "cell_type": "markdown",
   "metadata": {},
   "source": [
    "## Section 2: Job postings"
   ]
  },
  {
   "cell_type": "markdown",
   "metadata": {},
   "source": [
    "Job 1 <br>\n",
    "○\tCompany name: KForce <br>\n",
    "○\tTitle: Data Scientist <br>\n",
    "○\tWhy did you choose this job? This felt more like an entry level and skills looked like the ones I would have after completing the Data Science Course<br>\n",
    "○\tLink: https://www.glassdoor.com/job-listing/data-scientist-kforce-JV_IC1156369_KO0,14_KE15,21.htm?jl=2895891831&ctt=1536792824030<br><br>\n",
    "\n",
    "Job 2<br>\n",
    "○\tCompany name: Advantage Engineers, LLC <br>\n",
    "○\tTitle: Environmental Scientist I<br>\n",
    "○\tWhy did you choose this job? Liked the field in which the analysis is to be done. Specially that this job works towards betterment of environment.<br>\n",
    "○\tLink: https://www.indeed.com/cmp/Advantage-Engineers,-LLC/jobs/Environmental-Scientist-6e65985965b26359?sjdu=QwrRXKrqZ3CNX5W-O9jEvS74-lUvb8tdyvuIQMlH87Ar7MMKo2z0rciQf8N3f99r8R2YKj4XZzNZE3DXixrb3IXxj39304n4C-35BBQ3mZE&tk=1cn801c5k18co5ob&vjs=3<br><br>\n",
    "\n",
    "Job 3<br>\n",
    "○\tCompany name: Chase<br>\n",
    "○\tTitle: Customer Journey Data Scientist<br>\n",
    "○\tWhy did you choose this job? This is a known field for me as I have already worked in Banking and Financial Markets sector. I can apply my previous experience to this job.<br>\n",
    "○\tLink: https://www.linkedin.com/jobs/view/customer-journey-data-scientist-at-chase-845284581?trkInfo=searchKeywordString%3AData%2BScientist%2CsearchLocationString%3AWilmington%252C%2BDE%2Cvertical%3Ajobs%2CpageNum%3A0%2Cposition%3A15%2CMSRPsearchId%3Ae26a3817-5af3-43b4-bd13-859a2774f85e&refId=e26a3817-5af3-43b4-bd13-859a2774f85e&trk=jobs_jserp_job_listing_text<br><br>\n",
    "\n",
    "Job 4<br>\n",
    "○\tCompany name: Bainbridge Health<br>\n",
    "○\tTitle: Clinical Data Analyst<br>\n",
    "○\tWhy did you choose this job? This job is in medical field which is of interest. Also the description for this job states that the analyst communicates with customers as well as the technical team. This interests me. <br>\n",
    "○\tLink: https://angel.co/bainbridge-health-1/jobs/407863-clinical-data-analyst<br>\n",
    "\n",
    "Job 5<br>\n",
    "○\tCompany name: J P Morgan<br>\n",
    "○\tTitle: Party Reference Data Analyst<br>\n",
    "○\tWhy did you choose this job? I was working on Reference Data for 3 years, I think this job is tailor made for me.<br>\n",
    "○\tLink: https://job-openings.monster.com/180064018-associate-party-reference-data-analyst-newark-de-us-jp-morgan/31/5afe1741-08b0-478e-a66f-d5ff61c34d91<br>"
   ]
  },
  {
   "cell_type": "markdown",
   "metadata": {},
   "source": [
    "## Section 3: Your company hitlist"
   ]
  },
  {
   "cell_type": "markdown",
   "metadata": {},
   "source": [
    "Company 1<br>\n",
    "○\tCompany name: DuPont<br>\n",
    "○\tWhy did you choose this company? They are leaders in agriculture and a successful science and engineering company.<br><br>\n",
    "Company 2<br>\n",
    "○\tCompany name: GlaxoSmithKline<br>\n",
    "○\tWhy did you choose this company? It is one of the largest research based pharmaceutical company.<br><br>\n",
    "Company 3<br>\n",
    "○\tCompany name: Comcast<br>\n",
    "○\tWhy did you choose this company? It is most customer centric and has huge datasets to deal with so would be ideal for a beginner like me<br><br>\n",
    "Company 4<br>\n",
    "○\tCompany name: Sallie Mae<br>\n",
    "○\tWhy did you choose this company? It is one of the well known student loan providers and hence would provide a chance to work with Finance sector.<br><br>\n",
    "Company 5<br>\n",
    "○\tCompany name: Radian Group<br>\n",
    "○\tWhy did you choose this company? It is one of the best companies to work for in Philadelphia.<br><br>\n"
   ]
  },
  {
   "cell_type": "markdown",
   "metadata": {},
   "source": [
    "## Section 4: Find your people"
   ]
  },
  {
   "cell_type": "markdown",
   "metadata": {},
   "source": [
    "#### Local data science events:<br>\n",
    "●\tWomen in Kaggle<br>\n",
    "●\tPhiladelphia Data Visualization Meetup<br>\n",
    "●\tFinancial Modeling and Business Analytics Philadelphia Meetup<br><br>\n",
    "#### Local data scientist from a company on your hit list:<br>\n",
    "●\tShireen Bethala-George<br><br>\n",
    "#### First or second degree connection in the industry:<br>\n",
    "●\tRevanth Garlapati<br><br>"
   ]
  },
  {
   "cell_type": "markdown",
   "metadata": {},
   "source": [
    "## Section 5: Write your own story"
   ]
  },
  {
   "cell_type": "markdown",
   "metadata": {},
   "source": [
    "#### Describe your ideal job to an industry professional <br>\n",
    "I am a Data Scientist at ABC corporation where I am using Spark, Hadoop and NoSQL by large to analyze customer data. I am using my Machine Learning knowledge for predictions of customer patterns. As a Big Data specialist, I run a team of 5 members. <br><br>\n",
    "#### Describe the same job to a non-technical family member<br>\n",
    "I am a Data Scientist at ABC Corporation where I think about how to bring in more business to my company and at the same time how to help people who are buying from us. We help improve customer experience after using our product by taking their suggestions incorporating it wherever possible.<br><br>\n",
    "#### Draft your aspirational professional summary<br>\n",
    "I am a Data Scientist. I have done my Bachelors in Computer Science and 6 years’ experience as Technical Analyst and 3 years as Data Scientist. So I can analyze data, build models, visualize them and code as well. I am a team player and have worked in Financial, Retail and Agricultural Industry. Highly skilled in collating large quantities of raw data, performing complex analysis and creating models and simulations for effective treatment and interpretation of data. I have solid Python, R, NoSQL, machine learning and communication skills."
   ]
  }
 ],
 "metadata": {
  "kernelspec": {
   "display_name": "Python 3",
   "language": "python",
   "name": "python3"
  },
  "language_info": {
   "codemirror_mode": {
    "name": "ipython",
    "version": 3
   },
   "file_extension": ".py",
   "mimetype": "text/x-python",
   "name": "python",
   "nbconvert_exporter": "python",
   "pygments_lexer": "ipython3",
   "version": "3.7.0"
  }
 },
 "nbformat": 4,
 "nbformat_minor": 2
}
