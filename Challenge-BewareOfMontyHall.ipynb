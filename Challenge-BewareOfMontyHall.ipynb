{
 "cells": [
  {
   "cell_type": "markdown",
   "metadata": {},
   "source": [
    "You are on a game show and given the choice of whatever is behind three doors. Behind one door is a fantastic prize (some examples use a car, others use cash) while behind the other two doors is a dud (some examples say a goat, others say it's just empty). You pick a door. Then the host opens one of the other two doors to reveal a dud. But here's the wrinkle: the host now gives \n",
    "you the opportunity to switch your door. What should you do?"
   ]
  },
  {
   "cell_type": "markdown",
   "metadata": {},
   "source": [
    "A: \n",
    "We know from the above problem that probability of car behind the 3 doors before opening one door is 1/3 for each of 3 doors.\n",
    "\n",
    "Let us assume that we picked door A and host opened door B. We know that host would never open the door that has car in it, if he wanted us to change our choice. After opening the door C, there is a 50% chance that car is in door A. So applying Bayes Theorem:\n",
    "\n",
    "P(door A | car at door B) =         ½ x ⅓                    = ⅓ \n",
    "\t\t\t       ------------------------------\n",
    "        ½ x ⅓ + 0 x ⅓ + 1 x ⅓  \t\n",
    "\n",
    "P(door B | car at door B) = 0 Since host would never open door having car \n",
    "\n",
    "P(door C | car at door B) =          1 x ⅓                    = ⅔ \n",
    "\t\t\t           ------------------------------\n",
    "          ½ x ⅓ + 0 x ⅓ + 1 x ⅓  \t\n",
    "\n",
    "\n",
    "So probability of winning the car is more if we choose to switch to open door C.\n"
   ]
  },
  {
   "cell_type": "code",
   "execution_count": null,
   "metadata": {},
   "outputs": [],
   "source": []
  }
 ],
 "metadata": {
  "kernelspec": {
   "display_name": "Python 3",
   "language": "python",
   "name": "python3"
  },
  "language_info": {
   "codemirror_mode": {
    "name": "ipython",
    "version": 3
   },
   "file_extension": ".py",
   "mimetype": "text/x-python",
   "name": "python",
   "nbconvert_exporter": "python",
   "pygments_lexer": "ipython3",
   "version": "3.7.0"
  }
 },
 "nbformat": 4,
 "nbformat_minor": 2
}
