{
 "cells": [
  {
   "cell_type": "markdown",
   "metadata": {},
   "source": [
    "1. Generate a random variable with 100 datapoints using the code distributionvar = np.random.distributionname([arguments], 100), replacing distributionvar with an appropriate variable name and distributionname with the name of the distribution you’ve chosen, and filling in the empty space in the parentheses with your chosen values for the appropriate parameters. If you feel uncertain about how to do this, go back to the “Other Distributions” assignment for examples of code to use as a starting point."
   ]
  },
  {
   "cell_type": "code",
   "execution_count": 1,
   "metadata": {},
   "outputs": [],
   "source": [
    "import numpy as np\n",
    "import pandas as pd\n",
    "import matplotlib.pyplot as plt\n",
    "%matplotlib inline"
   ]
  },
  {
   "cell_type": "code",
   "execution_count": 2,
   "metadata": {},
   "outputs": [],
   "source": [
    "gamma = np.random.gamma(2,2,100)"
   ]
  },
  {
   "cell_type": "code",
   "execution_count": 3,
   "metadata": {},
   "outputs": [
    {
     "data": {
      "text/plain": [
       "array([ 3.47256113,  4.8442383 ,  2.98973124,  5.37690879,  8.98130172,\n",
       "        5.11152601,  3.90474498,  2.39646839,  2.27882393,  3.1678127 ,\n",
       "        4.45069122,  1.05808231,  4.18081897,  1.89288311,  6.07488465,\n",
       "        2.86588415,  1.72231768,  1.36159377,  4.2993931 ,  5.0840537 ,\n",
       "        2.85449253,  7.4317923 ,  0.8340501 ,  6.29029287,  3.06415386,\n",
       "        6.85498975, 11.3225944 ,  7.16298638,  2.19526669,  8.75800527,\n",
       "        1.97037669,  2.44180618,  1.66994492,  6.41214938,  1.60251134,\n",
       "        0.93854269,  0.68001538,  1.23842281,  2.17979776,  3.92685208,\n",
       "        5.80038902,  5.14916319,  1.3502618 ,  9.37883501,  1.16720719,\n",
       "        4.87344347, 15.35936029,  2.80487871,  3.14020243,  8.63891777,\n",
       "       13.44382287,  4.47799365,  2.16355625,  4.83094497,  5.92983558,\n",
       "        9.23383881,  4.53692173,  1.8786637 ,  2.02539189,  2.89089133,\n",
       "        2.10726755,  5.74952547,  6.79251349,  2.92569774,  3.14690707,\n",
       "        2.64675584,  3.36871621,  8.57667258, 11.73551765,  5.46780461,\n",
       "        2.59467883,  3.96921412,  3.99997565,  4.51883698,  2.80767883,\n",
       "        2.98537842,  2.68655708,  4.84846576,  7.57389248,  4.92661231,\n",
       "        0.80773988,  2.0983678 ,  1.0670779 ,  1.59117158,  0.90705332,\n",
       "        1.03974407,  5.84917589,  0.97066697,  0.59027669,  5.17479399,\n",
       "        4.89107497,  3.07529944,  1.55474961,  1.24961384,  2.18230879,\n",
       "        6.36800348,  7.61845015,  3.35173861,  4.4427345 ,  3.80789134])"
      ]
     },
     "execution_count": 3,
     "metadata": {},
     "output_type": "execute_result"
    }
   ],
   "source": [
    "gamma"
   ]
  },
  {
   "cell_type": "markdown",
   "metadata": {},
   "source": [
    "2. Graph the variable using a histogram."
   ]
  },
  {
   "cell_type": "code",
   "execution_count": 4,
   "metadata": {},
   "outputs": [
    {
     "data": {
      "text/plain": [
       "<function matplotlib.pyplot.show(*args, **kw)>"
      ]
     },
     "execution_count": 4,
     "metadata": {},
     "output_type": "execute_result"
    },
    {
     "data": {
      "image/png": "[encoded data removed]",
      "text/plain": [
       "<Figure size 432x288 with 1 Axes>"
      ]
     },
     "metadata": {
      "needs_background": "light"
     },
     "output_type": "display_data"
    }
   ],
   "source": [
    "plt.hist(gamma)\n",
    "plt.show"
   ]
  },
  {
   "cell_type": "markdown",
   "metadata": {},
   "source": [
    "3. Compute the mean and standard deviation and plot them as vertical lines on the histogram. (Hint: the “When Does It Break?” assignment you just completed can help you here.)"
   ]
  },
  {
   "cell_type": "code",
   "execution_count": 5,
   "metadata": {},
   "outputs": [
    {
     "data": {
      "image/png": "[encoded data removed]",
      "text/plain": [
       "<Figure size 432x288 with 1 Axes>"
      ]
     },
     "metadata": {
      "needs_background": "light"
     },
     "output_type": "display_data"
    }
   ],
   "source": [
    "#Plot a histogram for gamma.\n",
    "plt.hist(gamma, bins=20, color='r')\n",
    "\n",
    "# Add a vertical line at the mean.\n",
    "plt.axvline(gamma.mean(), color='black', linestyle='solid', linewidth=4)\n",
    "\n",
    "# Add a vertical line at one standard deviation above the mean.\n",
    "plt.axvline(gamma.mean() + gamma.std(), color='b', linestyle='dashed', linewidth=2)\n",
    "\n",
    "# Add a vertical line at one standard deviation below the mean.\n",
    "plt.axvline(gamma.mean() - gamma.std(), color='b', linestyle='dashed', linewidth=2) \n",
    "\n",
    "# Print the histogram.\n",
    "plt.show()"
   ]
  },
  {
   "cell_type": "markdown",
   "metadata": {},
   "source": [
    "4. Evaluate whether the descriptive statistics provided useful information about the variable. Can you identify any common characteristics of the distributions that could be usefully described using the mean and/or standard deviation, versus the ones that could not?"
   ]
  },
  {
   "cell_type": "markdown",
   "metadata": {},
   "source": [
    "From the information seen in the histogram, we can make out that though data is mostly clustered around mean, the standard deviation is not have similar data on either side.It looks like Skewed distribution."
   ]
  },
  {
   "cell_type": "markdown",
   "metadata": {},
   "source": [
    "1a. Generate two normally-distributed variables, one with a mean of 5 and standard deviation of 0.5, and the other with a mean of 10 and standard deviation of 1."
   ]
  },
  {
   "cell_type": "code",
   "execution_count": 6,
   "metadata": {},
   "outputs": [],
   "source": [
    "norm1 = np.random.normal(5,0.5,100)\n",
    "norm2 = np.random.normal(10,1,100)"
   ]
  },
  {
   "cell_type": "markdown",
   "metadata": {},
   "source": [
    "2a. Add them together to create a third variable."
   ]
  },
  {
   "cell_type": "code",
   "execution_count": 7,
   "metadata": {},
   "outputs": [],
   "source": [
    "norm3 = norm1 + norm2"
   ]
  },
  {
   "cell_type": "markdown",
   "metadata": {},
   "source": [
    "3a. Graph the third variable using a histogram."
   ]
  },
  {
   "cell_type": "code",
   "execution_count": 8,
   "metadata": {},
   "outputs": [
    {
     "data": {
      "image/png": "[encoded data removed]",
      "text/plain": [
       "<Figure size 432x288 with 1 Axes>"
      ]
     },
     "metadata": {
      "needs_background": "light"
     },
     "output_type": "display_data"
    }
   ],
   "source": [
    "plt.hist(norm3)\n",
    "plt.show()"
   ]
  },
  {
   "cell_type": "markdown",
   "metadata": {},
   "source": [
    "4a. Compute the mean and standard deviation and plot them as vertical lines on the histogram."
   ]
  },
  {
   "cell_type": "code",
   "execution_count": 10,
   "metadata": {},
   "outputs": [
    {
     "data": {
      "image/png": "[encoded data removed]",
      "text/plain": [
       "<Figure size 432x288 with 1 Axes>"
      ]
     },
     "metadata": {
      "needs_background": "light"
     },
     "output_type": "display_data"
    }
   ],
   "source": [
    "plt.hist(norm3)\n",
    "plt.axvline(norm3.mean(), color='r', linestyle='dashed', linewidth=4)\n",
    "plt.axvline(norm3.mean() + norm3.std(), color='y', linestyle='solid', linewidth=2)\n",
    "plt.axvline(norm3.mean() - norm3.std(), color='y', linestyle='solid', linewidth=2 )\n",
    "plt.show()"
   ]
  },
  {
   "cell_type": "markdown",
   "metadata": {},
   "source": [
    "5a. Evaluate the descriptive statistics against the data."
   ]
  },
  {
   "cell_type": "markdown",
   "metadata": {},
   "source": [
    "This histogram represents that standard deviation values differ slightly from the either side. Therefore we can conclude that this is a skewed distribution"
   ]
  }
 ],
 "metadata": {
  "kernelspec": {
   "display_name": "Python 3",
   "language": "python",
   "name": "python3"
  },
  "language_info": {
   "codemirror_mode": {
    "name": "ipython",
    "version": 3
   },
   "file_extension": ".py",
   "mimetype": "text/x-python",
   "name": "python",
   "nbconvert_exporter": "python",
   "pygments_lexer": "ipython3",
   "version": "3.7.0"
  }
 },
 "nbformat": 4,
 "nbformat_minor": 2
}
